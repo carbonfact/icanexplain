{
 "cells": [
  {
   "cell_type": "markdown",
   "metadata": {},
   "source": [
    "# Different backend support with Ibis 🪽"
   ]
  },
  {
   "cell_type": "markdown",
   "metadata": {},
   "source": [
    "icanexplain is implemented with [Ibis](https://github.com/ibis-project/ibis). This means that it is framework agnostic, and can work with different backends. This example shows how to use it with [DuckDB](https://duckdb.org/)."
   ]
  },
  {
   "cell_type": "code",
   "execution_count": 1,
   "metadata": {
    "execution": {
     "iopub.execute_input": "2024-09-25T18:17:09.953693Z",
     "iopub.status.busy": "2024-09-25T18:17:09.953258Z",
     "iopub.status.idle": "2024-09-25T18:17:10.426438Z",
     "shell.execute_reply": "2024-09-25T18:17:10.426171Z"
    }
   },
   "outputs": [
    {
     "data": {
      "text/html": [
       "<pre style=\"white-space:pre;overflow-x:auto;line-height:normal;font-family:Menlo,'DejaVu Sans Mono',consolas,'Courier New',monospace\">DatabaseTable: example.main.products\n",
       "  year       int64\n",
       "  category   string\n",
       "  product_id string\n",
       "  footprint  float64\n",
       "  units      int64\n",
       "</pre>\n"
      ],
      "text/plain": [
       "DatabaseTable: example.main.products\n",
       "  year       int64\n",
       "  category   string\n",
       "  product_id string\n",
       "  footprint  float64\n",
       "  units      int64"
      ]
     },
     "execution_count": 1,
     "metadata": {},
     "output_type": "execute_result"
    }
   ],
   "source": [
    "import ibis\n",
    "import icanexplain as ice\n",
    "\n",
    "products_df = ice.datasets.load_product_footprints()\n",
    "con = ibis.connect(\"duckdb://example.ddb\")\n",
    "con.create_table(\n",
    "    \"products\", products_df, overwrite=True\n",
    ")"
   ]
  },
  {
   "cell_type": "code",
   "execution_count": 2,
   "metadata": {
    "execution": {
     "iopub.execute_input": "2024-09-25T18:17:10.427787Z",
     "iopub.status.busy": "2024-09-25T18:17:10.427672Z",
     "iopub.status.idle": "2024-09-25T18:17:10.442879Z",
     "shell.execute_reply": "2024-09-25T18:17:10.442634Z"
    }
   },
   "outputs": [
    {
     "data": {
      "text/plain": [
       "['products']"
      ]
     },
     "execution_count": 2,
     "metadata": {},
     "output_type": "execute_result"
    }
   ],
   "source": [
    "con = ibis.connect(\"duckdb://example.ddb\")\n",
    "con.list_tables()"
   ]
  },
  {
   "cell_type": "code",
   "execution_count": 3,
   "metadata": {
    "execution": {
     "iopub.execute_input": "2024-09-25T18:17:10.444029Z",
     "iopub.status.busy": "2024-09-25T18:17:10.443927Z",
     "iopub.status.idle": "2024-09-25T18:17:10.459534Z",
     "shell.execute_reply": "2024-09-25T18:17:10.459262Z"
    }
   },
   "outputs": [
    {
     "data": {
      "text/html": [
       "<pre style=\"white-space:pre;overflow-x:auto;line-height:normal;font-family:Menlo,'DejaVu Sans Mono',consolas,'Courier New',monospace\">┏━━━━━━━┳━━━━━━━━━━┳━━━━━━━━━━━━┳━━━━━━━━━━━┳━━━━━━━┓\n",
       "┃<span style=\"font-weight: bold\"> year  </span>┃<span style=\"font-weight: bold\"> category </span>┃<span style=\"font-weight: bold\"> product_id </span>┃<span style=\"font-weight: bold\"> footprint </span>┃<span style=\"font-weight: bold\"> units </span>┃\n",
       "┡━━━━━━━╇━━━━━━━━━━╇━━━━━━━━━━━━╇━━━━━━━━━━━╇━━━━━━━┩\n",
       "│ <span style=\"color: #7f7f7f; text-decoration-color: #7f7f7f\">int64</span> │ <span style=\"color: #7f7f7f; text-decoration-color: #7f7f7f\">string</span>   │ <span style=\"color: #7f7f7f; text-decoration-color: #7f7f7f\">string</span>     │ <span style=\"color: #7f7f7f; text-decoration-color: #7f7f7f\">float64</span>   │ <span style=\"color: #7f7f7f; text-decoration-color: #7f7f7f\">int64</span> │\n",
       "├───────┼──────────┼────────────┼───────────┼───────┤\n",
       "│  <span style=\"color: #008080; text-decoration-color: #008080; font-weight: bold\">2021</span> │ <span style=\"color: #008000; text-decoration-color: #008000\">DRESS   </span> │ <span style=\"color: #008000; text-decoration-color: #008000\">848be709  </span> │     <span style=\"color: #008080; text-decoration-color: #008080; font-weight: bold\">96.04</span> │   <span style=\"color: #008080; text-decoration-color: #008080; font-weight: bold\">803</span> │\n",
       "│  <span style=\"color: #008080; text-decoration-color: #008080; font-weight: bold\">2021</span> │ <span style=\"color: #008000; text-decoration-color: #008000\">DRESS   </span> │ <span style=\"color: #008000; text-decoration-color: #008000\">658f92b3  </span> │     <span style=\"color: #008080; text-decoration-color: #008080; font-weight: bold\">58.15</span> │  <span style=\"color: #008080; text-decoration-color: #008080; font-weight: bold\">3367</span> │\n",
       "│  <span style=\"color: #008080; text-decoration-color: #008080; font-weight: bold\">2021</span> │ <span style=\"color: #008000; text-decoration-color: #008000\">DRESS   </span> │ <span style=\"color: #008000; text-decoration-color: #008000\">3a26f323  </span> │     <span style=\"color: #008080; text-decoration-color: #008080; font-weight: bold\">82.94</span> │   <span style=\"color: #008080; text-decoration-color: #008080; font-weight: bold\">240</span> │\n",
       "│  <span style=\"color: #008080; text-decoration-color: #008080; font-weight: bold\">2021</span> │ <span style=\"color: #008000; text-decoration-color: #008000\">DRESS   </span> │ <span style=\"color: #008000; text-decoration-color: #008000\">6221dca6  </span> │     <span style=\"color: #008080; text-decoration-color: #008080; font-weight: bold\">85.94</span> │   <span style=\"color: #008080; text-decoration-color: #008080; font-weight: bold\">432</span> │\n",
       "│  <span style=\"color: #008080; text-decoration-color: #008080; font-weight: bold\">2021</span> │ <span style=\"color: #008000; text-decoration-color: #008000\">DRESS   </span> │ <span style=\"color: #008000; text-decoration-color: #008000\">46864ac5  </span> │     <span style=\"color: #008080; text-decoration-color: #008080; font-weight: bold\">84.99</span> │   <span style=\"color: #008080; text-decoration-color: #008080; font-weight: bold\">816</span> │\n",
       "└───────┴──────────┴────────────┴───────────┴───────┘\n",
       "</pre>\n"
      ],
      "text/plain": [
       "┏━━━━━━━┳━━━━━━━━━━┳━━━━━━━━━━━━┳━━━━━━━━━━━┳━━━━━━━┓\n",
       "┃\u001b[1m \u001b[0m\u001b[1myear\u001b[0m\u001b[1m \u001b[0m\u001b[1m \u001b[0m┃\u001b[1m \u001b[0m\u001b[1mcategory\u001b[0m\u001b[1m \u001b[0m┃\u001b[1m \u001b[0m\u001b[1mproduct_id\u001b[0m\u001b[1m \u001b[0m┃\u001b[1m \u001b[0m\u001b[1mfootprint\u001b[0m\u001b[1m \u001b[0m┃\u001b[1m \u001b[0m\u001b[1munits\u001b[0m\u001b[1m \u001b[0m┃\n",
       "┡━━━━━━━╇━━━━━━━━━━╇━━━━━━━━━━━━╇━━━━━━━━━━━╇━━━━━━━┩\n",
       "│ \u001b[2mint64\u001b[0m │ \u001b[2mstring\u001b[0m   │ \u001b[2mstring\u001b[0m     │ \u001b[2mfloat64\u001b[0m   │ \u001b[2mint64\u001b[0m │\n",
       "├───────┼──────────┼────────────┼───────────┼───────┤\n",
       "│  \u001b[1;36m2021\u001b[0m │ \u001b[32mDRESS   \u001b[0m │ \u001b[32m848be709  \u001b[0m │     \u001b[1;36m96.04\u001b[0m │   \u001b[1;36m803\u001b[0m │\n",
       "│  \u001b[1;36m2021\u001b[0m │ \u001b[32mDRESS   \u001b[0m │ \u001b[32m658f92b3  \u001b[0m │     \u001b[1;36m58.15\u001b[0m │  \u001b[1;36m3367\u001b[0m │\n",
       "│  \u001b[1;36m2021\u001b[0m │ \u001b[32mDRESS   \u001b[0m │ \u001b[32m3a26f323  \u001b[0m │     \u001b[1;36m82.94\u001b[0m │   \u001b[1;36m240\u001b[0m │\n",
       "│  \u001b[1;36m2021\u001b[0m │ \u001b[32mDRESS   \u001b[0m │ \u001b[32m6221dca6  \u001b[0m │     \u001b[1;36m85.94\u001b[0m │   \u001b[1;36m432\u001b[0m │\n",
       "│  \u001b[1;36m2021\u001b[0m │ \u001b[32mDRESS   \u001b[0m │ \u001b[32m46864ac5  \u001b[0m │     \u001b[1;36m84.99\u001b[0m │   \u001b[1;36m816\u001b[0m │\n",
       "└───────┴──────────┴────────────┴───────────┴───────┘"
      ]
     },
     "execution_count": 3,
     "metadata": {},
     "output_type": "execute_result"
    }
   ],
   "source": [
    "ibis.options.interactive = True\n",
    "products = con.table(\"products\")\n",
    "products.head()"
   ]
  },
  {
   "cell_type": "code",
   "execution_count": 4,
   "metadata": {
    "execution": {
     "iopub.execute_input": "2024-09-25T18:17:10.460956Z",
     "iopub.status.busy": "2024-09-25T18:17:10.460848Z",
     "iopub.status.idle": "2024-09-25T18:17:10.570482Z",
     "shell.execute_reply": "2024-09-25T18:17:10.570200Z"
    }
   },
   "outputs": [
    {
     "data": {
      "text/html": [
       "<pre style=\"white-space:pre;overflow-x:auto;line-height:normal;font-family:Menlo,'DejaVu Sans Mono',consolas,'Courier New',monospace\">┏━━━━━━━┳━━━━━━━━━━┳━━━━━━━━━━━━━━━┳━━━━━━━━━━━━━━━┓\n",
       "┃<span style=\"font-weight: bold\"> year  </span>┃<span style=\"font-weight: bold\"> category </span>┃<span style=\"font-weight: bold\"> inner         </span>┃<span style=\"font-weight: bold\"> mix           </span>┃\n",
       "┡━━━━━━━╇━━━━━━━━━━╇━━━━━━━━━━━━━━━╇━━━━━━━━━━━━━━━┩\n",
       "│ <span style=\"color: #7f7f7f; text-decoration-color: #7f7f7f\">int64</span> │ <span style=\"color: #7f7f7f; text-decoration-color: #7f7f7f\">string</span>   │ <span style=\"color: #7f7f7f; text-decoration-color: #7f7f7f\">float64</span>       │ <span style=\"color: #7f7f7f; text-decoration-color: #7f7f7f\">float64</span>       │\n",
       "├───────┼──────────┼───────────────┼───────────────┤\n",
       "│  <span style=\"color: #008080; text-decoration-color: #008080; font-weight: bold\">2022</span> │ <span style=\"color: #008000; text-decoration-color: #008000\">DRESS   </span> │  <span style=\"color: #008080; text-decoration-color: #008080; font-weight: bold\">3.931932e+06</span> │ <span style=\"color: #008080; text-decoration-color: #008080; font-weight: bold\">-1.881370e+07</span> │\n",
       "│  <span style=\"color: #008080; text-decoration-color: #008080; font-weight: bold\">2022</span> │ <span style=\"color: #008000; text-decoration-color: #008000\">JACKET  </span> │ <span style=\"color: #008080; text-decoration-color: #008080; font-weight: bold\">-1.510008e+07</span> │ <span style=\"color: #008080; text-decoration-color: #008080; font-weight: bold\">-9.238617e+07</span> │\n",
       "│  <span style=\"color: #008080; text-decoration-color: #008080; font-weight: bold\">2022</span> │ <span style=\"color: #008000; text-decoration-color: #008000\">PANTS   </span> │  <span style=\"color: #008080; text-decoration-color: #008080; font-weight: bold\">4.002506e+07</span> │  <span style=\"color: #008080; text-decoration-color: #008080; font-weight: bold\">5.295190e+07</span> │\n",
       "│  <span style=\"color: #008080; text-decoration-color: #008080; font-weight: bold\">2022</span> │ <span style=\"color: #008000; text-decoration-color: #008000\">SHIRT   </span> │ <span style=\"color: #008080; text-decoration-color: #008080; font-weight: bold\">-1.484809e+06</span> │ <span style=\"color: #008080; text-decoration-color: #008080; font-weight: bold\">-5.791456e+06</span> │\n",
       "│  <span style=\"color: #008080; text-decoration-color: #008080; font-weight: bold\">2022</span> │ <span style=\"color: #008000; text-decoration-color: #008000\">SWEATER </span> │ <span style=\"color: #008080; text-decoration-color: #008080; font-weight: bold\">-2.676209e+07</span> │  <span style=\"color: #008080; text-decoration-color: #008080; font-weight: bold\">1.181504e+07</span> │\n",
       "│  <span style=\"color: #008080; text-decoration-color: #008080; font-weight: bold\">2022</span> │ <span style=\"color: #008000; text-decoration-color: #008000\">TSHIRT  </span> │  <span style=\"color: #008080; text-decoration-color: #008080; font-weight: bold\">6.650940e+06</span> │ <span style=\"color: #008080; text-decoration-color: #008080; font-weight: bold\">-2.311836e+07</span> │\n",
       "│  <span style=\"color: #008080; text-decoration-color: #008080; font-weight: bold\">2023</span> │ <span style=\"color: #008000; text-decoration-color: #008000\">DRESS   </span> │ <span style=\"color: #008080; text-decoration-color: #008080; font-weight: bold\">-4.078094e+06</span> │ <span style=\"color: #008080; text-decoration-color: #008080; font-weight: bold\">-1.240339e+07</span> │\n",
       "│  <span style=\"color: #008080; text-decoration-color: #008080; font-weight: bold\">2023</span> │ <span style=\"color: #008000; text-decoration-color: #008000\">JACKET  </span> │ <span style=\"color: #008080; text-decoration-color: #008080; font-weight: bold\">-6.793317e+06</span> │ <span style=\"color: #008080; text-decoration-color: #008080; font-weight: bold\">-4.924036e+07</span> │\n",
       "│  <span style=\"color: #008080; text-decoration-color: #008080; font-weight: bold\">2023</span> │ <span style=\"color: #008000; text-decoration-color: #008000\">PANTS   </span> │ <span style=\"color: #008080; text-decoration-color: #008080; font-weight: bold\">-1.636299e+07</span> │ <span style=\"color: #008080; text-decoration-color: #008080; font-weight: bold\">-2.295608e+08</span> │\n",
       "│  <span style=\"color: #008080; text-decoration-color: #008080; font-weight: bold\">2023</span> │ <span style=\"color: #008000; text-decoration-color: #008000\">SHIRT   </span> │  <span style=\"color: #008080; text-decoration-color: #008080; font-weight: bold\">8.920908e+05</span> │ <span style=\"color: #008080; text-decoration-color: #008080; font-weight: bold\">-4.019144e+06</span> │\n",
       "│     <span style=\"color: #7f7f7f; text-decoration-color: #7f7f7f\">…</span> │ <span style=\"color: #7f7f7f; text-decoration-color: #7f7f7f\">…</span>        │             <span style=\"color: #7f7f7f; text-decoration-color: #7f7f7f\">…</span> │             <span style=\"color: #7f7f7f; text-decoration-color: #7f7f7f\">…</span> │\n",
       "└───────┴──────────┴───────────────┴───────────────┘\n",
       "</pre>\n"
      ],
      "text/plain": [
       "┏━━━━━━━┳━━━━━━━━━━┳━━━━━━━━━━━━━━━┳━━━━━━━━━━━━━━━┓\n",
       "┃\u001b[1m \u001b[0m\u001b[1myear\u001b[0m\u001b[1m \u001b[0m\u001b[1m \u001b[0m┃\u001b[1m \u001b[0m\u001b[1mcategory\u001b[0m\u001b[1m \u001b[0m┃\u001b[1m \u001b[0m\u001b[1minner\u001b[0m\u001b[1m        \u001b[0m\u001b[1m \u001b[0m┃\u001b[1m \u001b[0m\u001b[1mmix\u001b[0m\u001b[1m          \u001b[0m\u001b[1m \u001b[0m┃\n",
       "┡━━━━━━━╇━━━━━━━━━━╇━━━━━━━━━━━━━━━╇━━━━━━━━━━━━━━━┩\n",
       "│ \u001b[2mint64\u001b[0m │ \u001b[2mstring\u001b[0m   │ \u001b[2mfloat64\u001b[0m       │ \u001b[2mfloat64\u001b[0m       │\n",
       "├───────┼──────────┼───────────────┼───────────────┤\n",
       "│  \u001b[1;36m2022\u001b[0m │ \u001b[32mDRESS   \u001b[0m │  \u001b[1;36m3.931932e+06\u001b[0m │ \u001b[1;36m-1.881370e+07\u001b[0m │\n",
       "│  \u001b[1;36m2022\u001b[0m │ \u001b[32mJACKET  \u001b[0m │ \u001b[1;36m-1.510008e+07\u001b[0m │ \u001b[1;36m-9.238617e+07\u001b[0m │\n",
       "│  \u001b[1;36m2022\u001b[0m │ \u001b[32mPANTS   \u001b[0m │  \u001b[1;36m4.002506e+07\u001b[0m │  \u001b[1;36m5.295190e+07\u001b[0m │\n",
       "│  \u001b[1;36m2022\u001b[0m │ \u001b[32mSHIRT   \u001b[0m │ \u001b[1;36m-1.484809e+06\u001b[0m │ \u001b[1;36m-5.791456e+06\u001b[0m │\n",
       "│  \u001b[1;36m2022\u001b[0m │ \u001b[32mSWEATER \u001b[0m │ \u001b[1;36m-2.676209e+07\u001b[0m │  \u001b[1;36m1.181504e+07\u001b[0m │\n",
       "│  \u001b[1;36m2022\u001b[0m │ \u001b[32mTSHIRT  \u001b[0m │  \u001b[1;36m6.650940e+06\u001b[0m │ \u001b[1;36m-2.311836e+07\u001b[0m │\n",
       "│  \u001b[1;36m2023\u001b[0m │ \u001b[32mDRESS   \u001b[0m │ \u001b[1;36m-4.078094e+06\u001b[0m │ \u001b[1;36m-1.240339e+07\u001b[0m │\n",
       "│  \u001b[1;36m2023\u001b[0m │ \u001b[32mJACKET  \u001b[0m │ \u001b[1;36m-6.793317e+06\u001b[0m │ \u001b[1;36m-4.924036e+07\u001b[0m │\n",
       "│  \u001b[1;36m2023\u001b[0m │ \u001b[32mPANTS   \u001b[0m │ \u001b[1;36m-1.636299e+07\u001b[0m │ \u001b[1;36m-2.295608e+08\u001b[0m │\n",
       "│  \u001b[1;36m2023\u001b[0m │ \u001b[32mSHIRT   \u001b[0m │  \u001b[1;36m8.920908e+05\u001b[0m │ \u001b[1;36m-4.019144e+06\u001b[0m │\n",
       "│     \u001b[2m…\u001b[0m │ \u001b[2m…\u001b[0m        │             \u001b[2m…\u001b[0m │             \u001b[2m…\u001b[0m │\n",
       "└───────┴──────────┴───────────────┴───────────────┘"
      ]
     },
     "execution_count": 4,
     "metadata": {},
     "output_type": "execute_result"
    }
   ],
   "source": [
    "explainer = ice.SumExplainer(\n",
    "    fact='footprint',\n",
    "    count='units',\n",
    "    group='category',\n",
    "    period='year'\n",
    ")\n",
    "explanation = explainer(products)\n",
    "explanation"
   ]
  },
  {
   "cell_type": "code",
   "execution_count": 5,
   "metadata": {
    "execution": {
     "iopub.execute_input": "2024-09-25T18:17:10.571729Z",
     "iopub.status.busy": "2024-09-25T18:17:10.571626Z",
     "iopub.status.idle": "2024-09-25T18:17:10.580820Z",
     "shell.execute_reply": "2024-09-25T18:17:10.580616Z"
    }
   },
   "outputs": [
    {
     "data": {
      "text/plain": [
       "ibis.expr.types.relations.Table"
      ]
     },
     "execution_count": 5,
     "metadata": {},
     "output_type": "execute_result"
    }
   ],
   "source": [
    "type(explanation)"
   ]
  },
  {
   "cell_type": "code",
   "execution_count": 6,
   "metadata": {
    "execution": {
     "iopub.execute_input": "2024-09-25T18:17:10.582057Z",
     "iopub.status.busy": "2024-09-25T18:17:10.581973Z",
     "iopub.status.idle": "2024-09-25T18:17:10.632387Z",
     "shell.execute_reply": "2024-09-25T18:17:10.632131Z"
    }
   },
   "outputs": [
    {
     "data": {
      "text/html": [
       "<style type=\"text/css\">\n",
       "</style>\n",
       "<table id=\"T_5f07f\">\n",
       "  <thead>\n",
       "    <tr>\n",
       "      <th class=\"blank level0\" >&nbsp;</th>\n",
       "      <th id=\"T_5f07f_level0_col0\" class=\"col_heading level0 col0\" >year</th>\n",
       "      <th id=\"T_5f07f_level0_col1\" class=\"col_heading level0 col1\" >category</th>\n",
       "      <th id=\"T_5f07f_level0_col2\" class=\"col_heading level0 col2\" >inner</th>\n",
       "      <th id=\"T_5f07f_level0_col3\" class=\"col_heading level0 col3\" >mix</th>\n",
       "    </tr>\n",
       "  </thead>\n",
       "  <tbody>\n",
       "    <tr>\n",
       "      <th id=\"T_5f07f_level0_row0\" class=\"row_heading level0 row0\" >0</th>\n",
       "      <td id=\"T_5f07f_row0_col0\" class=\"data row0 col0\" >2022</td>\n",
       "      <td id=\"T_5f07f_row0_col1\" class=\"data row0 col1\" >DRESS</td>\n",
       "      <td id=\"T_5f07f_row0_col2\" class=\"data row0 col2\" >3931932.447552</td>\n",
       "      <td id=\"T_5f07f_row0_col3\" class=\"data row0 col3\" >-18813695.617552</td>\n",
       "    </tr>\n",
       "    <tr>\n",
       "      <th id=\"T_5f07f_level0_row1\" class=\"row_heading level0 row1\" >1</th>\n",
       "      <td id=\"T_5f07f_row1_col0\" class=\"data row1 col0\" >2022</td>\n",
       "      <td id=\"T_5f07f_row1_col1\" class=\"data row1 col1\" >JACKET</td>\n",
       "      <td id=\"T_5f07f_row1_col2\" class=\"data row1 col2\" >-15100081.026506</td>\n",
       "      <td id=\"T_5f07f_row1_col3\" class=\"data row1 col3\" >-92386166.203493</td>\n",
       "    </tr>\n",
       "    <tr>\n",
       "      <th id=\"T_5f07f_level0_row2\" class=\"row_heading level0 row2\" >2</th>\n",
       "      <td id=\"T_5f07f_row2_col0\" class=\"data row2 col0\" >2022</td>\n",
       "      <td id=\"T_5f07f_row2_col1\" class=\"data row2 col1\" >PANTS</td>\n",
       "      <td id=\"T_5f07f_row2_col2\" class=\"data row2 col2\" >40025058.515251</td>\n",
       "      <td id=\"T_5f07f_row2_col3\" class=\"data row2 col3\" >52951900.074743</td>\n",
       "    </tr>\n",
       "    <tr>\n",
       "      <th id=\"T_5f07f_level0_row3\" class=\"row_heading level0 row3\" >3</th>\n",
       "      <td id=\"T_5f07f_row3_col0\" class=\"data row3 col0\" >2022</td>\n",
       "      <td id=\"T_5f07f_row3_col1\" class=\"data row3 col1\" >SHIRT</td>\n",
       "      <td id=\"T_5f07f_row3_col2\" class=\"data row3 col2\" >-1484809.008950</td>\n",
       "      <td id=\"T_5f07f_row3_col3\" class=\"data row3 col3\" >-5791455.871050</td>\n",
       "    </tr>\n",
       "    <tr>\n",
       "      <th id=\"T_5f07f_level0_row4\" class=\"row_heading level0 row4\" >4</th>\n",
       "      <td id=\"T_5f07f_row4_col0\" class=\"data row4 col0\" >2022</td>\n",
       "      <td id=\"T_5f07f_row4_col1\" class=\"data row4 col1\" >SWEATER</td>\n",
       "      <td id=\"T_5f07f_row4_col2\" class=\"data row4 col2\" >-26762091.196715</td>\n",
       "      <td id=\"T_5f07f_row4_col3\" class=\"data row4 col3\" >11815043.806715</td>\n",
       "    </tr>\n",
       "    <tr>\n",
       "      <th id=\"T_5f07f_level0_row5\" class=\"row_heading level0 row5\" >5</th>\n",
       "      <td id=\"T_5f07f_row5_col0\" class=\"data row5 col0\" >2022</td>\n",
       "      <td id=\"T_5f07f_row5_col1\" class=\"data row5 col1\" >TSHIRT</td>\n",
       "      <td id=\"T_5f07f_row5_col2\" class=\"data row5 col2\" >6650940.137541</td>\n",
       "      <td id=\"T_5f07f_row5_col3\" class=\"data row5 col3\" >-23118359.127541</td>\n",
       "    </tr>\n",
       "    <tr>\n",
       "      <th id=\"T_5f07f_level0_row6\" class=\"row_heading level0 row6\" >6</th>\n",
       "      <td id=\"T_5f07f_row6_col0\" class=\"data row6 col0\" >2023</td>\n",
       "      <td id=\"T_5f07f_row6_col1\" class=\"data row6 col1\" >DRESS</td>\n",
       "      <td id=\"T_5f07f_row6_col2\" class=\"data row6 col2\" >-4078094.357618</td>\n",
       "      <td id=\"T_5f07f_row6_col3\" class=\"data row6 col3\" >-12403387.412381</td>\n",
       "    </tr>\n",
       "    <tr>\n",
       "      <th id=\"T_5f07f_level0_row7\" class=\"row_heading level0 row7\" >7</th>\n",
       "      <td id=\"T_5f07f_row7_col0\" class=\"data row7 col0\" >2023</td>\n",
       "      <td id=\"T_5f07f_row7_col1\" class=\"data row7 col1\" >JACKET</td>\n",
       "      <td id=\"T_5f07f_row7_col2\" class=\"data row7 col2\" >-6793316.568952</td>\n",
       "      <td id=\"T_5f07f_row7_col3\" class=\"data row7 col3\" >-49240364.221049</td>\n",
       "    </tr>\n",
       "    <tr>\n",
       "      <th id=\"T_5f07f_level0_row8\" class=\"row_heading level0 row8\" >8</th>\n",
       "      <td id=\"T_5f07f_row8_col0\" class=\"data row8 col0\" >2023</td>\n",
       "      <td id=\"T_5f07f_row8_col1\" class=\"data row8 col1\" >PANTS</td>\n",
       "      <td id=\"T_5f07f_row8_col2\" class=\"data row8 col2\" >-16362993.150075</td>\n",
       "      <td id=\"T_5f07f_row8_col3\" class=\"data row8 col3\" >-229560842.809919</td>\n",
       "    </tr>\n",
       "    <tr>\n",
       "      <th id=\"T_5f07f_level0_row9\" class=\"row_heading level0 row9\" >9</th>\n",
       "      <td id=\"T_5f07f_row9_col0\" class=\"data row9 col0\" >2023</td>\n",
       "      <td id=\"T_5f07f_row9_col1\" class=\"data row9 col1\" >SHIRT</td>\n",
       "      <td id=\"T_5f07f_row9_col2\" class=\"data row9 col2\" >892090.812023</td>\n",
       "      <td id=\"T_5f07f_row9_col3\" class=\"data row9 col3\" >-4019143.772023</td>\n",
       "    </tr>\n",
       "    <tr>\n",
       "      <th id=\"T_5f07f_level0_row10\" class=\"row_heading level0 row10\" >10</th>\n",
       "      <td id=\"T_5f07f_row10_col0\" class=\"data row10 col0\" >2023</td>\n",
       "      <td id=\"T_5f07f_row10_col1\" class=\"data row10 col1\" >SWEATER</td>\n",
       "      <td id=\"T_5f07f_row10_col2\" class=\"data row10 col2\" >-5701391.450394</td>\n",
       "      <td id=\"T_5f07f_row10_col3\" class=\"data row10 col3\" >-113050731.029606</td>\n",
       "    </tr>\n",
       "    <tr>\n",
       "      <th id=\"T_5f07f_level0_row11\" class=\"row_heading level0 row11\" >11</th>\n",
       "      <td id=\"T_5f07f_row11_col0\" class=\"data row11 col0\" >2023</td>\n",
       "      <td id=\"T_5f07f_row11_col1\" class=\"data row11 col1\" >TSHIRT</td>\n",
       "      <td id=\"T_5f07f_row11_col2\" class=\"data row11 col2\" >-11503906.840478</td>\n",
       "      <td id=\"T_5f07f_row11_col3\" class=\"data row11 col3\" >-83913226.849522</td>\n",
       "    </tr>\n",
       "  </tbody>\n",
       "</table>\n"
      ],
      "text/plain": [
       "<pandas.io.formats.style.Styler at 0x11f0ab950>"
      ]
     },
     "execution_count": 6,
     "metadata": {},
     "output_type": "execute_result"
    }
   ],
   "source": [
    "explanation.execute().style.format()"
   ]
  },
  {
   "cell_type": "code",
   "execution_count": 7,
   "metadata": {
    "execution": {
     "iopub.execute_input": "2024-09-25T18:17:10.633866Z",
     "iopub.status.busy": "2024-09-25T18:17:10.633689Z",
     "iopub.status.idle": "2024-09-25T18:17:10.666507Z",
     "shell.execute_reply": "2024-09-25T18:17:10.666257Z"
    }
   },
   "outputs": [
    {
     "data": {
      "text/markdown": [
       "```sql\n",
       "SELECT\n",
       "  *\n",
       "FROM (\n",
       "  SELECT\n",
       "    \"t9\".\"year\",\n",
       "    \"t9\".\"category\",\n",
       "    \"t9\".\"count_lag\" * (\n",
       "      \"t9\".\"mean\" - \"t9\".\"mean_lag\"\n",
       "    ) AS \"inner\",\n",
       "    (\n",
       "      \"t9\".\"count\" - \"t9\".\"count_lag\"\n",
       "    ) * \"t9\".\"mean\" AS \"mix\"\n",
       "  FROM (\n",
       "    SELECT\n",
       "      \"t8\".\"category\",\n",
       "      \"t8\".\"year\",\n",
       "      \"t8\".\"mean\",\n",
       "      \"t8\".\"count\",\n",
       "      LAG(\"t8\".\"mean\", 1) OVER (PARTITION BY \"t8\".\"category\" ORDER BY \"t8\".\"year\" ASC ROWS BETWEEN UNBOUNDED PRECEDING AND UNBOUNDED FOLLOWING) AS \"mean_lag\",\n",
       "      LAG(\"t8\".\"count\", 1) OVER (PARTITION BY \"t8\".\"category\" ORDER BY \"t8\".\"year\" ASC ROWS BETWEEN UNBOUNDED PRECEDING AND UNBOUNDED FOLLOWING) AS \"count_lag\"\n",
       "    FROM (\n",
       "      SELECT\n",
       "        \"t7\".\"category\",\n",
       "        \"t7\".\"year\",\n",
       "        COALESCE(\"t7\".\"mean\", 0) AS \"mean\",\n",
       "        COALESCE(\"t7\".\"count\", 0) AS \"count\"\n",
       "      FROM (\n",
       "        SELECT\n",
       "          \"t3\".\"category\",\n",
       "          \"t4\".\"year\",\n",
       "          \"t6\".\"mean\",\n",
       "          \"t6\".\"count\"\n",
       "        FROM (\n",
       "          SELECT DISTINCT\n",
       "            \"t0\".\"category\"\n",
       "          FROM \"products\" AS \"t0\"\n",
       "        ) AS \"t3\"\n",
       "        CROSS JOIN (\n",
       "          SELECT DISTINCT\n",
       "            \"t0\".\"year\"\n",
       "          FROM \"products\" AS \"t0\"\n",
       "        ) AS \"t4\"\n",
       "        LEFT OUTER JOIN (\n",
       "          SELECT\n",
       "            \"t0\".\"category\",\n",
       "            \"t0\".\"year\",\n",
       "            SUM(\"t0\".\"footprint\" * \"t0\".\"units\") / SUM(\"t0\".\"units\") AS \"mean\",\n",
       "            SUM(\"t0\".\"units\") AS \"count\"\n",
       "          FROM \"products\" AS \"t0\"\n",
       "          GROUP BY\n",
       "            1,\n",
       "            2\n",
       "        ) AS \"t6\"\n",
       "          ON \"t3\".\"category\" = \"t6\".\"category\" AND \"t4\".\"year\" = \"t6\".\"year\"\n",
       "      ) AS \"t7\"\n",
       "    ) AS \"t8\"\n",
       "  ) AS \"t9\"\n",
       "  ORDER BY\n",
       "    \"t9\".\"year\" ASC,\n",
       "    \"t9\".\"category\" ASC\n",
       ") AS \"t10\"\n",
       "WHERE\n",
       "  \"t10\".\"year\" IS NOT NULL\n",
       "  AND \"t10\".\"category\" IS NOT NULL\n",
       "  AND \"t10\".\"inner\" IS NOT NULL\n",
       "  AND \"t10\".\"mix\" IS NOT NULL\n",
       "```"
      ],
      "text/plain": [
       "\u001b[34mSELECT\u001b[39;49;00m\u001b[37m\u001b[39;49;00m\n",
       "\u001b[37m  \u001b[39;49;00m*\u001b[37m\u001b[39;49;00m\n",
       "\u001b[34mFROM\u001b[39;49;00m\u001b[37m \u001b[39;49;00m(\u001b[37m\u001b[39;49;00m\n",
       "\u001b[37m  \u001b[39;49;00m\u001b[34mSELECT\u001b[39;49;00m\u001b[37m\u001b[39;49;00m\n",
       "\u001b[37m    \u001b[39;49;00m\u001b[33m\"t9\"\u001b[39;49;00m.\u001b[33m\"year\"\u001b[39;49;00m,\u001b[37m\u001b[39;49;00m\n",
       "\u001b[37m    \u001b[39;49;00m\u001b[33m\"t9\"\u001b[39;49;00m.\u001b[33m\"category\"\u001b[39;49;00m,\u001b[37m\u001b[39;49;00m\n",
       "\u001b[37m    \u001b[39;49;00m\u001b[33m\"t9\"\u001b[39;49;00m.\u001b[33m\"count_lag\"\u001b[39;49;00m\u001b[37m \u001b[39;49;00m*\u001b[37m \u001b[39;49;00m(\u001b[37m\u001b[39;49;00m\n",
       "\u001b[37m      \u001b[39;49;00m\u001b[33m\"t9\"\u001b[39;49;00m.\u001b[33m\"mean\"\u001b[39;49;00m\u001b[37m \u001b[39;49;00m-\u001b[37m \u001b[39;49;00m\u001b[33m\"t9\"\u001b[39;49;00m.\u001b[33m\"mean_lag\"\u001b[39;49;00m\u001b[37m\u001b[39;49;00m\n",
       "\u001b[37m    \u001b[39;49;00m)\u001b[37m \u001b[39;49;00m\u001b[34mAS\u001b[39;49;00m\u001b[37m \u001b[39;49;00m\u001b[33m\"inner\"\u001b[39;49;00m,\u001b[37m\u001b[39;49;00m\n",
       "\u001b[37m    \u001b[39;49;00m(\u001b[37m\u001b[39;49;00m\n",
       "\u001b[37m      \u001b[39;49;00m\u001b[33m\"t9\"\u001b[39;49;00m.\u001b[33m\"count\"\u001b[39;49;00m\u001b[37m \u001b[39;49;00m-\u001b[37m \u001b[39;49;00m\u001b[33m\"t9\"\u001b[39;49;00m.\u001b[33m\"count_lag\"\u001b[39;49;00m\u001b[37m\u001b[39;49;00m\n",
       "\u001b[37m    \u001b[39;49;00m)\u001b[37m \u001b[39;49;00m*\u001b[37m \u001b[39;49;00m\u001b[33m\"t9\"\u001b[39;49;00m.\u001b[33m\"mean\"\u001b[39;49;00m\u001b[37m \u001b[39;49;00m\u001b[34mAS\u001b[39;49;00m\u001b[37m \u001b[39;49;00m\u001b[33m\"mix\"\u001b[39;49;00m\u001b[37m\u001b[39;49;00m\n",
       "\u001b[37m  \u001b[39;49;00m\u001b[34mFROM\u001b[39;49;00m\u001b[37m \u001b[39;49;00m(\u001b[37m\u001b[39;49;00m\n",
       "\u001b[37m    \u001b[39;49;00m\u001b[34mSELECT\u001b[39;49;00m\u001b[37m\u001b[39;49;00m\n",
       "\u001b[37m      \u001b[39;49;00m\u001b[33m\"t8\"\u001b[39;49;00m.\u001b[33m\"category\"\u001b[39;49;00m,\u001b[37m\u001b[39;49;00m\n",
       "\u001b[37m      \u001b[39;49;00m\u001b[33m\"t8\"\u001b[39;49;00m.\u001b[33m\"year\"\u001b[39;49;00m,\u001b[37m\u001b[39;49;00m\n",
       "\u001b[37m      \u001b[39;49;00m\u001b[33m\"t8\"\u001b[39;49;00m.\u001b[33m\"mean\"\u001b[39;49;00m,\u001b[37m\u001b[39;49;00m\n",
       "\u001b[37m      \u001b[39;49;00m\u001b[33m\"t8\"\u001b[39;49;00m.\u001b[33m\"count\"\u001b[39;49;00m,\u001b[37m\u001b[39;49;00m\n",
       "\u001b[37m      \u001b[39;49;00mLAG(\u001b[33m\"t8\"\u001b[39;49;00m.\u001b[33m\"mean\"\u001b[39;49;00m,\u001b[37m \u001b[39;49;00m\u001b[34m1\u001b[39;49;00m)\u001b[37m \u001b[39;49;00mOVER\u001b[37m \u001b[39;49;00m(PARTITION\u001b[37m \u001b[39;49;00m\u001b[34mBY\u001b[39;49;00m\u001b[37m \u001b[39;49;00m\u001b[33m\"t8\"\u001b[39;49;00m.\u001b[33m\"category\"\u001b[39;49;00m\u001b[37m \u001b[39;49;00m\u001b[34mORDER\u001b[39;49;00m\u001b[37m \u001b[39;49;00m\u001b[34mBY\u001b[39;49;00m\u001b[37m \u001b[39;49;00m\u001b[33m\"t8\"\u001b[39;49;00m.\u001b[33m\"year\"\u001b[39;49;00m\u001b[37m \u001b[39;49;00m\u001b[34mASC\u001b[39;49;00m\u001b[37m \u001b[39;49;00m\u001b[34mROWS\u001b[39;49;00m\u001b[37m \u001b[39;49;00m\u001b[34mBETWEEN\u001b[39;49;00m\u001b[37m \u001b[39;49;00mUNBOUNDED\u001b[37m \u001b[39;49;00mPRECEDING\u001b[37m \u001b[39;49;00m\u001b[34mAND\u001b[39;49;00m\u001b[37m \u001b[39;49;00mUNBOUNDED\u001b[37m \u001b[39;49;00mFOLLOWING)\u001b[37m \u001b[39;49;00m\u001b[34mAS\u001b[39;49;00m\u001b[37m \u001b[39;49;00m\u001b[33m\"mean_lag\"\u001b[39;49;00m,\u001b[37m\u001b[39;49;00m\n",
       "\u001b[37m      \u001b[39;49;00mLAG(\u001b[33m\"t8\"\u001b[39;49;00m.\u001b[33m\"count\"\u001b[39;49;00m,\u001b[37m \u001b[39;49;00m\u001b[34m1\u001b[39;49;00m)\u001b[37m \u001b[39;49;00mOVER\u001b[37m \u001b[39;49;00m(PARTITION\u001b[37m \u001b[39;49;00m\u001b[34mBY\u001b[39;49;00m\u001b[37m \u001b[39;49;00m\u001b[33m\"t8\"\u001b[39;49;00m.\u001b[33m\"category\"\u001b[39;49;00m\u001b[37m \u001b[39;49;00m\u001b[34mORDER\u001b[39;49;00m\u001b[37m \u001b[39;49;00m\u001b[34mBY\u001b[39;49;00m\u001b[37m \u001b[39;49;00m\u001b[33m\"t8\"\u001b[39;49;00m.\u001b[33m\"year\"\u001b[39;49;00m\u001b[37m \u001b[39;49;00m\u001b[34mASC\u001b[39;49;00m\u001b[37m \u001b[39;49;00m\u001b[34mROWS\u001b[39;49;00m\u001b[37m \u001b[39;49;00m\u001b[34mBETWEEN\u001b[39;49;00m\u001b[37m \u001b[39;49;00mUNBOUNDED\u001b[37m \u001b[39;49;00mPRECEDING\u001b[37m \u001b[39;49;00m\u001b[34mAND\u001b[39;49;00m\u001b[37m \u001b[39;49;00mUNBOUNDED\u001b[37m \u001b[39;49;00mFOLLOWING)\u001b[37m \u001b[39;49;00m\u001b[34mAS\u001b[39;49;00m\u001b[37m \u001b[39;49;00m\u001b[33m\"count_lag\"\u001b[39;49;00m\u001b[37m\u001b[39;49;00m\n",
       "\u001b[37m    \u001b[39;49;00m\u001b[34mFROM\u001b[39;49;00m\u001b[37m \u001b[39;49;00m(\u001b[37m\u001b[39;49;00m\n",
       "\u001b[37m      \u001b[39;49;00m\u001b[34mSELECT\u001b[39;49;00m\u001b[37m\u001b[39;49;00m\n",
       "\u001b[37m        \u001b[39;49;00m\u001b[33m\"t7\"\u001b[39;49;00m.\u001b[33m\"category\"\u001b[39;49;00m,\u001b[37m\u001b[39;49;00m\n",
       "\u001b[37m        \u001b[39;49;00m\u001b[33m\"t7\"\u001b[39;49;00m.\u001b[33m\"year\"\u001b[39;49;00m,\u001b[37m\u001b[39;49;00m\n",
       "\u001b[37m        \u001b[39;49;00m\u001b[34mCOALESCE\u001b[39;49;00m(\u001b[33m\"t7\"\u001b[39;49;00m.\u001b[33m\"mean\"\u001b[39;49;00m,\u001b[37m \u001b[39;49;00m\u001b[34m0\u001b[39;49;00m)\u001b[37m \u001b[39;49;00m\u001b[34mAS\u001b[39;49;00m\u001b[37m \u001b[39;49;00m\u001b[33m\"mean\"\u001b[39;49;00m,\u001b[37m\u001b[39;49;00m\n",
       "\u001b[37m        \u001b[39;49;00m\u001b[34mCOALESCE\u001b[39;49;00m(\u001b[33m\"t7\"\u001b[39;49;00m.\u001b[33m\"count\"\u001b[39;49;00m,\u001b[37m \u001b[39;49;00m\u001b[34m0\u001b[39;49;00m)\u001b[37m \u001b[39;49;00m\u001b[34mAS\u001b[39;49;00m\u001b[37m \u001b[39;49;00m\u001b[33m\"count\"\u001b[39;49;00m\u001b[37m\u001b[39;49;00m\n",
       "\u001b[37m      \u001b[39;49;00m\u001b[34mFROM\u001b[39;49;00m\u001b[37m \u001b[39;49;00m(\u001b[37m\u001b[39;49;00m\n",
       "\u001b[37m        \u001b[39;49;00m\u001b[34mSELECT\u001b[39;49;00m\u001b[37m\u001b[39;49;00m\n",
       "\u001b[37m          \u001b[39;49;00m\u001b[33m\"t3\"\u001b[39;49;00m.\u001b[33m\"category\"\u001b[39;49;00m,\u001b[37m\u001b[39;49;00m\n",
       "\u001b[37m          \u001b[39;49;00m\u001b[33m\"t4\"\u001b[39;49;00m.\u001b[33m\"year\"\u001b[39;49;00m,\u001b[37m\u001b[39;49;00m\n",
       "\u001b[37m          \u001b[39;49;00m\u001b[33m\"t6\"\u001b[39;49;00m.\u001b[33m\"mean\"\u001b[39;49;00m,\u001b[37m\u001b[39;49;00m\n",
       "\u001b[37m          \u001b[39;49;00m\u001b[33m\"t6\"\u001b[39;49;00m.\u001b[33m\"count\"\u001b[39;49;00m\u001b[37m\u001b[39;49;00m\n",
       "\u001b[37m        \u001b[39;49;00m\u001b[34mFROM\u001b[39;49;00m\u001b[37m \u001b[39;49;00m(\u001b[37m\u001b[39;49;00m\n",
       "\u001b[37m          \u001b[39;49;00m\u001b[34mSELECT\u001b[39;49;00m\u001b[37m \u001b[39;49;00m\u001b[34mDISTINCT\u001b[39;49;00m\u001b[37m\u001b[39;49;00m\n",
       "\u001b[37m            \u001b[39;49;00m\u001b[33m\"t0\"\u001b[39;49;00m.\u001b[33m\"category\"\u001b[39;49;00m\u001b[37m\u001b[39;49;00m\n",
       "\u001b[37m          \u001b[39;49;00m\u001b[34mFROM\u001b[39;49;00m\u001b[37m \u001b[39;49;00m\u001b[33m\"products\"\u001b[39;49;00m\u001b[37m \u001b[39;49;00m\u001b[34mAS\u001b[39;49;00m\u001b[37m \u001b[39;49;00m\u001b[33m\"t0\"\u001b[39;49;00m\u001b[37m\u001b[39;49;00m\n",
       "\u001b[37m        \u001b[39;49;00m)\u001b[37m \u001b[39;49;00m\u001b[34mAS\u001b[39;49;00m\u001b[37m \u001b[39;49;00m\u001b[33m\"t3\"\u001b[39;49;00m\u001b[37m\u001b[39;49;00m\n",
       "\u001b[37m        \u001b[39;49;00m\u001b[34mCROSS\u001b[39;49;00m\u001b[37m \u001b[39;49;00m\u001b[34mJOIN\u001b[39;49;00m\u001b[37m \u001b[39;49;00m(\u001b[37m\u001b[39;49;00m\n",
       "\u001b[37m          \u001b[39;49;00m\u001b[34mSELECT\u001b[39;49;00m\u001b[37m \u001b[39;49;00m\u001b[34mDISTINCT\u001b[39;49;00m\u001b[37m\u001b[39;49;00m\n",
       "\u001b[37m            \u001b[39;49;00m\u001b[33m\"t0\"\u001b[39;49;00m.\u001b[33m\"year\"\u001b[39;49;00m\u001b[37m\u001b[39;49;00m\n",
       "\u001b[37m          \u001b[39;49;00m\u001b[34mFROM\u001b[39;49;00m\u001b[37m \u001b[39;49;00m\u001b[33m\"products\"\u001b[39;49;00m\u001b[37m \u001b[39;49;00m\u001b[34mAS\u001b[39;49;00m\u001b[37m \u001b[39;49;00m\u001b[33m\"t0\"\u001b[39;49;00m\u001b[37m\u001b[39;49;00m\n",
       "\u001b[37m        \u001b[39;49;00m)\u001b[37m \u001b[39;49;00m\u001b[34mAS\u001b[39;49;00m\u001b[37m \u001b[39;49;00m\u001b[33m\"t4\"\u001b[39;49;00m\u001b[37m\u001b[39;49;00m\n",
       "\u001b[37m        \u001b[39;49;00m\u001b[34mLEFT\u001b[39;49;00m\u001b[37m \u001b[39;49;00m\u001b[34mOUTER\u001b[39;49;00m\u001b[37m \u001b[39;49;00m\u001b[34mJOIN\u001b[39;49;00m\u001b[37m \u001b[39;49;00m(\u001b[37m\u001b[39;49;00m\n",
       "\u001b[37m          \u001b[39;49;00m\u001b[34mSELECT\u001b[39;49;00m\u001b[37m\u001b[39;49;00m\n",
       "\u001b[37m            \u001b[39;49;00m\u001b[33m\"t0\"\u001b[39;49;00m.\u001b[33m\"category\"\u001b[39;49;00m,\u001b[37m\u001b[39;49;00m\n",
       "\u001b[37m            \u001b[39;49;00m\u001b[33m\"t0\"\u001b[39;49;00m.\u001b[33m\"year\"\u001b[39;49;00m,\u001b[37m\u001b[39;49;00m\n",
       "\u001b[37m            \u001b[39;49;00m\u001b[34mSUM\u001b[39;49;00m(\u001b[33m\"t0\"\u001b[39;49;00m.\u001b[33m\"footprint\"\u001b[39;49;00m\u001b[37m \u001b[39;49;00m*\u001b[37m \u001b[39;49;00m\u001b[33m\"t0\"\u001b[39;49;00m.\u001b[33m\"units\"\u001b[39;49;00m)\u001b[37m \u001b[39;49;00m/\u001b[37m \u001b[39;49;00m\u001b[34mSUM\u001b[39;49;00m(\u001b[33m\"t0\"\u001b[39;49;00m.\u001b[33m\"units\"\u001b[39;49;00m)\u001b[37m \u001b[39;49;00m\u001b[34mAS\u001b[39;49;00m\u001b[37m \u001b[39;49;00m\u001b[33m\"mean\"\u001b[39;49;00m,\u001b[37m\u001b[39;49;00m\n",
       "\u001b[37m            \u001b[39;49;00m\u001b[34mSUM\u001b[39;49;00m(\u001b[33m\"t0\"\u001b[39;49;00m.\u001b[33m\"units\"\u001b[39;49;00m)\u001b[37m \u001b[39;49;00m\u001b[34mAS\u001b[39;49;00m\u001b[37m \u001b[39;49;00m\u001b[33m\"count\"\u001b[39;49;00m\u001b[37m\u001b[39;49;00m\n",
       "\u001b[37m          \u001b[39;49;00m\u001b[34mFROM\u001b[39;49;00m\u001b[37m \u001b[39;49;00m\u001b[33m\"products\"\u001b[39;49;00m\u001b[37m \u001b[39;49;00m\u001b[34mAS\u001b[39;49;00m\u001b[37m \u001b[39;49;00m\u001b[33m\"t0\"\u001b[39;49;00m\u001b[37m\u001b[39;49;00m\n",
       "\u001b[37m          \u001b[39;49;00m\u001b[34mGROUP\u001b[39;49;00m\u001b[37m \u001b[39;49;00m\u001b[34mBY\u001b[39;49;00m\u001b[37m\u001b[39;49;00m\n",
       "\u001b[37m            \u001b[39;49;00m\u001b[34m1\u001b[39;49;00m,\u001b[37m\u001b[39;49;00m\n",
       "\u001b[37m            \u001b[39;49;00m\u001b[34m2\u001b[39;49;00m\u001b[37m\u001b[39;49;00m\n",
       "\u001b[37m        \u001b[39;49;00m)\u001b[37m \u001b[39;49;00m\u001b[34mAS\u001b[39;49;00m\u001b[37m \u001b[39;49;00m\u001b[33m\"t6\"\u001b[39;49;00m\u001b[37m\u001b[39;49;00m\n",
       "\u001b[37m          \u001b[39;49;00m\u001b[34mON\u001b[39;49;00m\u001b[37m \u001b[39;49;00m\u001b[33m\"t3\"\u001b[39;49;00m.\u001b[33m\"category\"\u001b[39;49;00m\u001b[37m \u001b[39;49;00m=\u001b[37m \u001b[39;49;00m\u001b[33m\"t6\"\u001b[39;49;00m.\u001b[33m\"category\"\u001b[39;49;00m\u001b[37m \u001b[39;49;00m\u001b[34mAND\u001b[39;49;00m\u001b[37m \u001b[39;49;00m\u001b[33m\"t4\"\u001b[39;49;00m.\u001b[33m\"year\"\u001b[39;49;00m\u001b[37m \u001b[39;49;00m=\u001b[37m \u001b[39;49;00m\u001b[33m\"t6\"\u001b[39;49;00m.\u001b[33m\"year\"\u001b[39;49;00m\u001b[37m\u001b[39;49;00m\n",
       "\u001b[37m      \u001b[39;49;00m)\u001b[37m \u001b[39;49;00m\u001b[34mAS\u001b[39;49;00m\u001b[37m \u001b[39;49;00m\u001b[33m\"t7\"\u001b[39;49;00m\u001b[37m\u001b[39;49;00m\n",
       "\u001b[37m    \u001b[39;49;00m)\u001b[37m \u001b[39;49;00m\u001b[34mAS\u001b[39;49;00m\u001b[37m \u001b[39;49;00m\u001b[33m\"t8\"\u001b[39;49;00m\u001b[37m\u001b[39;49;00m\n",
       "\u001b[37m  \u001b[39;49;00m)\u001b[37m \u001b[39;49;00m\u001b[34mAS\u001b[39;49;00m\u001b[37m \u001b[39;49;00m\u001b[33m\"t9\"\u001b[39;49;00m\u001b[37m\u001b[39;49;00m\n",
       "\u001b[37m  \u001b[39;49;00m\u001b[34mORDER\u001b[39;49;00m\u001b[37m \u001b[39;49;00m\u001b[34mBY\u001b[39;49;00m\u001b[37m\u001b[39;49;00m\n",
       "\u001b[37m    \u001b[39;49;00m\u001b[33m\"t9\"\u001b[39;49;00m.\u001b[33m\"year\"\u001b[39;49;00m\u001b[37m \u001b[39;49;00m\u001b[34mASC\u001b[39;49;00m,\u001b[37m\u001b[39;49;00m\n",
       "\u001b[37m    \u001b[39;49;00m\u001b[33m\"t9\"\u001b[39;49;00m.\u001b[33m\"category\"\u001b[39;49;00m\u001b[37m \u001b[39;49;00m\u001b[34mASC\u001b[39;49;00m\u001b[37m\u001b[39;49;00m\n",
       ")\u001b[37m \u001b[39;49;00m\u001b[34mAS\u001b[39;49;00m\u001b[37m \u001b[39;49;00m\u001b[33m\"t10\"\u001b[39;49;00m\u001b[37m\u001b[39;49;00m\n",
       "\u001b[34mWHERE\u001b[39;49;00m\u001b[37m\u001b[39;49;00m\n",
       "\u001b[37m  \u001b[39;49;00m\u001b[33m\"t10\"\u001b[39;49;00m.\u001b[33m\"year\"\u001b[39;49;00m\u001b[37m \u001b[39;49;00m\u001b[34mIS\u001b[39;49;00m\u001b[37m \u001b[39;49;00m\u001b[34mNOT\u001b[39;49;00m\u001b[37m \u001b[39;49;00m\u001b[34mNULL\u001b[39;49;00m\u001b[37m\u001b[39;49;00m\n",
       "\u001b[37m  \u001b[39;49;00m\u001b[34mAND\u001b[39;49;00m\u001b[37m \u001b[39;49;00m\u001b[33m\"t10\"\u001b[39;49;00m.\u001b[33m\"category\"\u001b[39;49;00m\u001b[37m \u001b[39;49;00m\u001b[34mIS\u001b[39;49;00m\u001b[37m \u001b[39;49;00m\u001b[34mNOT\u001b[39;49;00m\u001b[37m \u001b[39;49;00m\u001b[34mNULL\u001b[39;49;00m\u001b[37m\u001b[39;49;00m\n",
       "\u001b[37m  \u001b[39;49;00m\u001b[34mAND\u001b[39;49;00m\u001b[37m \u001b[39;49;00m\u001b[33m\"t10\"\u001b[39;49;00m.\u001b[33m\"inner\"\u001b[39;49;00m\u001b[37m \u001b[39;49;00m\u001b[34mIS\u001b[39;49;00m\u001b[37m \u001b[39;49;00m\u001b[34mNOT\u001b[39;49;00m\u001b[37m \u001b[39;49;00m\u001b[34mNULL\u001b[39;49;00m\u001b[37m\u001b[39;49;00m\n",
       "\u001b[37m  \u001b[39;49;00m\u001b[34mAND\u001b[39;49;00m\u001b[37m \u001b[39;49;00m\u001b[33m\"t10\"\u001b[39;49;00m.\u001b[33m\"mix\"\u001b[39;49;00m\u001b[37m \u001b[39;49;00m\u001b[34mIS\u001b[39;49;00m\u001b[37m \u001b[39;49;00m\u001b[34mNOT\u001b[39;49;00m\u001b[37m \u001b[39;49;00m\u001b[34mNULL\u001b[39;49;00m\u001b[37m\u001b[39;49;00m"
      ]
     },
     "execution_count": 7,
     "metadata": {},
     "output_type": "execute_result"
    }
   ],
   "source": [
    "ibis.to_sql(explanation)"
   ]
  }
 ],
 "metadata": {
  "kernelspec": {
   "display_name": "icanexplain-6HGw6v_q-py3.11",
   "language": "python",
   "name": "python3"
  },
  "language_info": {
   "codemirror_mode": {
    "name": "ipython",
    "version": 3
   },
   "file_extension": ".py",
   "mimetype": "text/x-python",
   "name": "python",
   "nbconvert_exporter": "python",
   "pygments_lexer": "ipython3",
   "version": "3.11.4"
  }
 },
 "nbformat": 4,
 "nbformat_minor": 2
}
