{
 "cells": [
  {
   "cell_type": "markdown",
   "metadata": {},
   "source": [
    "# Fashion brand CO2e emissions 👟"
   ]
  },
  {
   "cell_type": "markdown",
   "metadata": {},
   "source": [
    "Fashion brands increasingly have to be aware and report on their environmental footprint.\n",
    "\n",
    "The following dataset comes from a real fashion brand, and has been anomymized. Each row represents a product manufactured in a given year."
   ]
  },
  {
   "cell_type": "code",
   "execution_count": 1,
   "metadata": {
    "execution": {
     "iopub.execute_input": "2024-09-25T18:17:07.663533Z",
     "iopub.status.busy": "2024-09-25T18:17:07.662999Z",
     "iopub.status.idle": "2024-09-25T18:17:07.946187Z",
     "shell.execute_reply": "2024-09-25T18:17:07.945926Z"
    }
   },
   "outputs": [
    {
     "data": {
      "text/html": [
       "<style type=\"text/css\">\n",
       "</style>\n",
       "<table id=\"T_84c82\">\n",
       "  <thead>\n",
       "    <tr>\n",
       "      <th class=\"blank level0\" >&nbsp;</th>\n",
       "      <th id=\"T_84c82_level0_col0\" class=\"col_heading level0 col0\" >year</th>\n",
       "      <th id=\"T_84c82_level0_col1\" class=\"col_heading level0 col1\" >category</th>\n",
       "      <th id=\"T_84c82_level0_col2\" class=\"col_heading level0 col2\" >product_id</th>\n",
       "      <th id=\"T_84c82_level0_col3\" class=\"col_heading level0 col3\" >footprint</th>\n",
       "      <th id=\"T_84c82_level0_col4\" class=\"col_heading level0 col4\" >units</th>\n",
       "    </tr>\n",
       "  </thead>\n",
       "  <tbody>\n",
       "    <tr>\n",
       "      <th id=\"T_84c82_level0_row0\" class=\"row_heading level0 row0\" >79622</th>\n",
       "      <td id=\"T_84c82_row0_col0\" class=\"data row0 col0\" >2022</td>\n",
       "      <td id=\"T_84c82_row0_col1\" class=\"data row0 col1\" >PANTS</td>\n",
       "      <td id=\"T_84c82_row0_col2\" class=\"data row0 col2\" >0c7938bf</td>\n",
       "      <td id=\"T_84c82_row0_col3\" class=\"data row0 col3\" >13.38kgCO2e</td>\n",
       "      <td id=\"T_84c82_row0_col4\" class=\"data row0 col4\" >105</td>\n",
       "    </tr>\n",
       "    <tr>\n",
       "      <th id=\"T_84c82_level0_row1\" class=\"row_heading level0 row1\" >23575</th>\n",
       "      <td id=\"T_84c82_row1_col0\" class=\"data row1 col0\" >2021</td>\n",
       "      <td id=\"T_84c82_row1_col1\" class=\"data row1 col1\" >PANTS</td>\n",
       "      <td id=\"T_84c82_row1_col2\" class=\"data row1 col2\" >7693f75b</td>\n",
       "      <td id=\"T_84c82_row1_col3\" class=\"data row1 col3\" >36.50kgCO2e</td>\n",
       "      <td id=\"T_84c82_row1_col4\" class=\"data row1 col4\" >41</td>\n",
       "    </tr>\n",
       "    <tr>\n",
       "      <th id=\"T_84c82_level0_row2\" class=\"row_heading level0 row2\" >113417</th>\n",
       "      <td id=\"T_84c82_row2_col0\" class=\"data row2 col0\" >2023</td>\n",
       "      <td id=\"T_84c82_row2_col1\" class=\"data row2 col1\" >PANTS</td>\n",
       "      <td id=\"T_84c82_row2_col2\" class=\"data row2 col2\" >c5c54140</td>\n",
       "      <td id=\"T_84c82_row2_col3\" class=\"data row2 col3\" >26.89kgCO2e</td>\n",
       "      <td id=\"T_84c82_row2_col4\" class=\"data row2 col4\" >288</td>\n",
       "    </tr>\n",
       "    <tr>\n",
       "      <th id=\"T_84c82_level0_row3\" class=\"row_heading level0 row3\" >67791</th>\n",
       "      <td id=\"T_84c82_row3_col0\" class=\"data row3 col0\" >2022</td>\n",
       "      <td id=\"T_84c82_row3_col1\" class=\"data row3 col1\" >PANTS</td>\n",
       "      <td id=\"T_84c82_row3_col2\" class=\"data row3 col2\" >aed08558</td>\n",
       "      <td id=\"T_84c82_row3_col3\" class=\"data row3 col3\" >106.76kgCO2e</td>\n",
       "      <td id=\"T_84c82_row3_col4\" class=\"data row3 col4\" >301</td>\n",
       "    </tr>\n",
       "    <tr>\n",
       "      <th id=\"T_84c82_level0_row4\" class=\"row_heading level0 row4\" >49045</th>\n",
       "      <td id=\"T_84c82_row4_col0\" class=\"data row4 col0\" >2022</td>\n",
       "      <td id=\"T_84c82_row4_col1\" class=\"data row4 col1\" >PANTS</td>\n",
       "      <td id=\"T_84c82_row4_col2\" class=\"data row4 col2\" >a1cf7d5c</td>\n",
       "      <td id=\"T_84c82_row4_col3\" class=\"data row4 col3\" >35.67kgCO2e</td>\n",
       "      <td id=\"T_84c82_row4_col4\" class=\"data row4 col4\" >925</td>\n",
       "    </tr>\n",
       "  </tbody>\n",
       "</table>\n"
      ],
      "text/plain": [
       "<pandas.io.formats.style.Styler at 0x11659a9d0>"
      ]
     },
     "execution_count": 1,
     "metadata": {},
     "output_type": "execute_result"
    }
   ],
   "source": [
    "import icanexplain as ice\n",
    "\n",
    "def fmt_CO2e(kg):\n",
    "    if abs(kg) < 1e3:\n",
    "        return f'{kg:,.2f}kgCO2e'\n",
    "    return f'{kg / 1e6:,.1f}ktCO2e'\n",
    "\n",
    "products = ice.datasets.load_product_footprints()\n",
    "products.sample(5).style.format({'footprint': fmt_CO2e, 'units': '{:,d}'})"
   ]
  },
  {
   "cell_type": "markdown",
   "metadata": {},
   "source": [
    "The `footprint` column indicates the product's carbon footprint in kgCO2e. The `units` column corresponds to the number of units produced.\n",
    "\n",
    "Companies usually report their emissions on a yearly basis. We can do this by multiplying the footprint of each product, with the number of units produced, and summing the results."
   ]
  },
  {
   "cell_type": "code",
   "execution_count": 2,
   "metadata": {
    "execution": {
     "iopub.execute_input": "2024-09-25T18:17:07.963649Z",
     "iopub.status.busy": "2024-09-25T18:17:07.963431Z",
     "iopub.status.idle": "2024-09-25T18:17:07.983272Z",
     "shell.execute_reply": "2024-09-25T18:17:07.983004Z"
    }
   },
   "outputs": [
    {
     "data": {
      "text/html": [
       "<style type=\"text/css\">\n",
       "</style>\n",
       "<table id=\"T_b088c\">\n",
       "  <thead>\n",
       "    <tr>\n",
       "      <th class=\"blank level0\" >&nbsp;</th>\n",
       "      <th id=\"T_b088c_level0_col0\" class=\"col_heading level0 col0\" >average</th>\n",
       "      <th id=\"T_b088c_level0_col1\" class=\"col_heading level0 col1\" >diff</th>\n",
       "    </tr>\n",
       "    <tr>\n",
       "      <th class=\"index_name level0\" >year</th>\n",
       "      <th class=\"blank col0\" >&nbsp;</th>\n",
       "      <th class=\"blank col1\" >&nbsp;</th>\n",
       "    </tr>\n",
       "  </thead>\n",
       "  <tbody>\n",
       "    <tr>\n",
       "      <th id=\"T_b088c_level0_row0\" class=\"row_heading level0 row0\" >2021</th>\n",
       "      <td id=\"T_b088c_row0_col0\" class=\"data row0 col0\" >21.95kgCO2e</td>\n",
       "      <td id=\"T_b088c_row0_col1\" class=\"data row0 col1\" ></td>\n",
       "    </tr>\n",
       "    <tr>\n",
       "      <th id=\"T_b088c_level0_row1\" class=\"row_heading level0 row1\" >2022</th>\n",
       "      <td id=\"T_b088c_row1_col0\" class=\"data row1 col0\" >21.71kgCO2e</td>\n",
       "      <td id=\"T_b088c_row1_col1\" class=\"data row1 col1\" >-0.24kgCO2e</td>\n",
       "    </tr>\n",
       "    <tr>\n",
       "      <th id=\"T_b088c_level0_row2\" class=\"row_heading level0 row2\" >2023</th>\n",
       "      <td id=\"T_b088c_row2_col0\" class=\"data row2 col0\" >22.74kgCO2e</td>\n",
       "      <td id=\"T_b088c_row2_col1\" class=\"data row2 col1\" >1.03kgCO2e</td>\n",
       "    </tr>\n",
       "  </tbody>\n",
       "</table>\n"
      ],
      "text/plain": [
       "<pandas.io.formats.style.Styler at 0x114397a10>"
      ]
     },
     "execution_count": 2,
     "metadata": {},
     "output_type": "execute_result"
    }
   ],
   "source": [
    "(\n",
    "    products\n",
    "    .groupby('year')\n",
    "    .apply(lambda g: (g['footprint'] * g['units']).sum() / g['units'].sum(), include_groups=False)\n",
    "    .to_frame('average')\n",
    "    .assign(diff=lambda x: x.average.diff())\n",
    "    .style.format(fmt_CO2e, na_rep='')\n",
    ")"
   ]
  },
  {
   "cell_type": "markdown",
   "metadata": {},
   "source": [
    "The average footprint went down between 2021 and 2022. It then went back up in 2023. Of course, we want to understand why. When they see this, fashion brands have one word coming out of their mouth: why, why, why?\n",
    "\n",
    "The overall average footprint can change for two reasons:\n",
    "\n",
    "1. The average footprint per product category evolved.\n",
    "2. The mix of product categories evolved.\n",
    "\n",
    "The second reason is called the *mix effect*. For instance, let's say t-shirts have a lower footprint than jackets. If the share of jackets produced in 2023 is higher than in 2022, the average footprint will go up.\n",
    "\n",
    "The jackets in 2023 aren't necessarily the same than those of 2022. They could be more sustainable, and have a lower footprint. This is the tricky part: we need to disentangle the mix effect from the evolution of the footprint of each product category. That is the value proposition of this package."
   ]
  },
  {
   "cell_type": "code",
   "execution_count": 3,
   "metadata": {
    "execution": {
     "iopub.execute_input": "2024-09-25T18:17:07.984631Z",
     "iopub.status.busy": "2024-09-25T18:17:07.984530Z",
     "iopub.status.idle": "2024-09-25T18:17:08.330730Z",
     "shell.execute_reply": "2024-09-25T18:17:08.330457Z"
    }
   },
   "outputs": [
    {
     "data": {
      "text/html": [
       "<style type=\"text/css\">\n",
       "</style>\n",
       "<table id=\"T_450d3\">\n",
       "  <thead>\n",
       "    <tr>\n",
       "      <th class=\"blank\" >&nbsp;</th>\n",
       "      <th class=\"blank level0\" >&nbsp;</th>\n",
       "      <th id=\"T_450d3_level0_col0\" class=\"col_heading level0 col0\" >inner</th>\n",
       "      <th id=\"T_450d3_level0_col1\" class=\"col_heading level0 col1\" >mix</th>\n",
       "    </tr>\n",
       "    <tr>\n",
       "      <th class=\"index_name level0\" >year</th>\n",
       "      <th class=\"index_name level1\" >category</th>\n",
       "      <th class=\"blank col0\" >&nbsp;</th>\n",
       "      <th class=\"blank col1\" >&nbsp;</th>\n",
       "    </tr>\n",
       "  </thead>\n",
       "  <tbody>\n",
       "    <tr>\n",
       "      <th id=\"T_450d3_level0_row0\" class=\"row_heading level0 row0\" rowspan=\"6\">2022</th>\n",
       "      <th id=\"T_450d3_level1_row0\" class=\"row_heading level1 row0\" >DRESS</th>\n",
       "      <td id=\"T_450d3_row0_col0\" class=\"data row0 col0\" >0.05kgCO2e</td>\n",
       "      <td id=\"T_450d3_row0_col1\" class=\"data row0 col1\" >-0.14kgCO2e</td>\n",
       "    </tr>\n",
       "    <tr>\n",
       "      <th id=\"T_450d3_level1_row1\" class=\"row_heading level1 row1\" >JACKET</th>\n",
       "      <td id=\"T_450d3_row1_col0\" class=\"data row1 col0\" >-0.17kgCO2e</td>\n",
       "      <td id=\"T_450d3_row1_col1\" class=\"data row1 col1\" >-0.69kgCO2e</td>\n",
       "    </tr>\n",
       "    <tr>\n",
       "      <th id=\"T_450d3_level1_row2\" class=\"row_heading level1 row2\" >PANTS</th>\n",
       "      <td id=\"T_450d3_row2_col0\" class=\"data row2 col0\" >0.61kgCO2e</td>\n",
       "      <td id=\"T_450d3_row2_col1\" class=\"data row2 col1\" >0.20kgCO2e</td>\n",
       "    </tr>\n",
       "    <tr>\n",
       "      <th id=\"T_450d3_level1_row3\" class=\"row_heading level1 row3\" >SHIRT</th>\n",
       "      <td id=\"T_450d3_row3_col0\" class=\"data row3 col0\" >-0.02kgCO2e</td>\n",
       "      <td id=\"T_450d3_row3_col1\" class=\"data row3 col1\" >0.00kgCO2e</td>\n",
       "    </tr>\n",
       "    <tr>\n",
       "      <th id=\"T_450d3_level1_row4\" class=\"row_heading level1 row4\" >SWEATER</th>\n",
       "      <td id=\"T_450d3_row4_col0\" class=\"data row4 col0\" >-0.39kgCO2e</td>\n",
       "      <td id=\"T_450d3_row4_col1\" class=\"data row4 col1\" >-0.09kgCO2e</td>\n",
       "    </tr>\n",
       "    <tr>\n",
       "      <th id=\"T_450d3_level1_row5\" class=\"row_heading level1 row5\" >TSHIRT</th>\n",
       "      <td id=\"T_450d3_row5_col0\" class=\"data row5 col0\" >0.08kgCO2e</td>\n",
       "      <td id=\"T_450d3_row5_col1\" class=\"data row5 col1\" >0.30kgCO2e</td>\n",
       "    </tr>\n",
       "    <tr>\n",
       "      <th id=\"T_450d3_level0_row6\" class=\"row_heading level0 row6\" rowspan=\"6\">2023</th>\n",
       "      <th id=\"T_450d3_level1_row6\" class=\"row_heading level1 row6\" >DRESS</th>\n",
       "      <td id=\"T_450d3_row6_col0\" class=\"data row6 col0\" >-0.08kgCO2e</td>\n",
       "      <td id=\"T_450d3_row6_col1\" class=\"data row6 col1\" >0.51kgCO2e</td>\n",
       "    </tr>\n",
       "    <tr>\n",
       "      <th id=\"T_450d3_level1_row7\" class=\"row_heading level1 row7\" >JACKET</th>\n",
       "      <td id=\"T_450d3_row7_col0\" class=\"data row7 col0\" >-0.13kgCO2e</td>\n",
       "      <td id=\"T_450d3_row7_col1\" class=\"data row7 col1\" >0.97kgCO2e</td>\n",
       "    </tr>\n",
       "    <tr>\n",
       "      <th id=\"T_450d3_level1_row8\" class=\"row_heading level1 row8\" >PANTS</th>\n",
       "      <td id=\"T_450d3_row8_col0\" class=\"data row8 col0\" >-0.22kgCO2e</td>\n",
       "      <td id=\"T_450d3_row8_col1\" class=\"data row8 col1\" >-0.09kgCO2e</td>\n",
       "    </tr>\n",
       "    <tr>\n",
       "      <th id=\"T_450d3_level1_row9\" class=\"row_heading level1 row9\" >SHIRT</th>\n",
       "      <td id=\"T_450d3_row9_col0\" class=\"data row9 col0\" >0.02kgCO2e</td>\n",
       "      <td id=\"T_450d3_row9_col1\" class=\"data row9 col1\" >-0.03kgCO2e</td>\n",
       "    </tr>\n",
       "    <tr>\n",
       "      <th id=\"T_450d3_level1_row10\" class=\"row_heading level1 row10\" >SWEATER</th>\n",
       "      <td id=\"T_450d3_row10_col0\" class=\"data row10 col0\" >-0.06kgCO2e</td>\n",
       "      <td id=\"T_450d3_row10_col1\" class=\"data row10 col1\" >0.36kgCO2e</td>\n",
       "    </tr>\n",
       "    <tr>\n",
       "      <th id=\"T_450d3_level1_row11\" class=\"row_heading level1 row11\" >TSHIRT</th>\n",
       "      <td id=\"T_450d3_row11_col0\" class=\"data row11 col0\" >-0.16kgCO2e</td>\n",
       "      <td id=\"T_450d3_row11_col1\" class=\"data row11 col1\" >-0.06kgCO2e</td>\n",
       "    </tr>\n",
       "  </tbody>\n",
       "</table>\n"
      ],
      "text/plain": [
       "<pandas.io.formats.style.Styler at 0x12077b390>"
      ]
     },
     "execution_count": 3,
     "metadata": {},
     "output_type": "execute_result"
    }
   ],
   "source": [
    "explainer = ice.MeanExplainer(\n",
    "    fact='footprint',\n",
    "    count='units',\n",
    "    period='year',\n",
    "    group='category',\n",
    ")\n",
    "explanation = explainer(products)\n",
    "explanation.style.format({'inner': fmt_CO2e, 'mix': fmt_CO2e}, na_rep='')"
   ]
  },
  {
   "cell_type": "markdown",
   "metadata": {},
   "source": [
    "Here's the meaning of each column:\n",
    "\n",
    "- `inner` is the difference due to the change in the average footprint per unit. A negative inner values means the footprint per unit shifted in a way that reduced emissions. For instance, low emission products seem to have been prioritized in 2022 (-17.5ktCO2e), but not in 2023 (+73.4ktCO2e).\n",
    "- `mix` is the difference due to the change in the number of units produced. A negative mix value means the number of units produced shifted in a way that reduced emissions."
   ]
  },
  {
   "cell_type": "markdown",
   "metadata": {},
   "source": [
    "A convenient way to read these values is to use a waterfall chart."
   ]
  },
  {
   "cell_type": "code",
   "execution_count": 4,
   "metadata": {
    "execution": {
     "iopub.execute_input": "2024-09-25T18:17:08.332085Z",
     "iopub.status.busy": "2024-09-25T18:17:08.331986Z",
     "iopub.status.idle": "2024-09-25T18:17:08.541018Z",
     "shell.execute_reply": "2024-09-25T18:17:08.540737Z"
    }
   },
   "outputs": [
    {
     "data": {
      "text/html": [
       "\n",
       "<style>\n",
       "  #altair-viz-43bbf233793d498ca19b318d1caf9520.vega-embed {\n",
       "    width: 100%;\n",
       "    display: flex;\n",
       "  }\n",
       "\n",
       "  #altair-viz-43bbf233793d498ca19b318d1caf9520.vega-embed details,\n",
       "  #altair-viz-43bbf233793d498ca19b318d1caf9520.vega-embed details summary {\n",
       "    position: relative;\n",
       "  }\n",
       "</style>\n",
       "<div id=\"altair-viz-43bbf233793d498ca19b318d1caf9520\"></div>\n",
       "<script type=\"text/javascript\">\n",
       "  var VEGA_DEBUG = (typeof VEGA_DEBUG == \"undefined\") ? {} : VEGA_DEBUG;\n",
       "  (function(spec, embedOpt){\n",
       "    let outputDiv = document.currentScript.previousElementSibling;\n",
       "    if (outputDiv.id !== \"altair-viz-43bbf233793d498ca19b318d1caf9520\") {\n",
       "      outputDiv = document.getElementById(\"altair-viz-43bbf233793d498ca19b318d1caf9520\");\n",
       "    }\n",
       "    const paths = {\n",
       "      \"vega\": \"https://cdn.jsdelivr.net/npm/vega@5?noext\",\n",
       "      \"vega-lib\": \"https://cdn.jsdelivr.net/npm/vega-lib?noext\",\n",
       "      \"vega-lite\": \"https://cdn.jsdelivr.net/npm/vega-lite@5.17.0?noext\",\n",
       "      \"vega-embed\": \"https://cdn.jsdelivr.net/npm/vega-embed@6?noext\",\n",
       "    };\n",
       "\n",
       "    function maybeLoadScript(lib, version) {\n",
       "      var key = `${lib.replace(\"-\", \"\")}_version`;\n",
       "      return (VEGA_DEBUG[key] == version) ?\n",
       "        Promise.resolve(paths[lib]) :\n",
       "        new Promise(function(resolve, reject) {\n",
       "          var s = document.createElement('script');\n",
       "          document.getElementsByTagName(\"head\")[0].appendChild(s);\n",
       "          s.async = true;\n",
       "          s.onload = () => {\n",
       "            VEGA_DEBUG[key] = version;\n",
       "            return resolve(paths[lib]);\n",
       "          };\n",
       "          s.onerror = () => reject(`Error loading script: ${paths[lib]}`);\n",
       "          s.src = paths[lib];\n",
       "        });\n",
       "    }\n",
       "\n",
       "    function showError(err) {\n",
       "      outputDiv.innerHTML = `<div class=\"error\" style=\"color:red;\">${err}</div>`;\n",
       "      throw err;\n",
       "    }\n",
       "\n",
       "    function displayChart(vegaEmbed) {\n",
       "      vegaEmbed(outputDiv, spec, embedOpt)\n",
       "        .catch(err => showError(`Javascript Error: ${err.message}<br>This usually means there's a typo in your chart specification. See the javascript console for the full traceback.`));\n",
       "    }\n",
       "\n",
       "    if(typeof define === \"function\" && define.amd) {\n",
       "      requirejs.config({paths});\n",
       "      require([\"vega-embed\"], displayChart, err => showError(`Error loading script: ${err.message}`));\n",
       "    } else {\n",
       "      maybeLoadScript(\"vega\", \"5\")\n",
       "        .then(() => maybeLoadScript(\"vega-lite\", \"5.17.0\"))\n",
       "        .then(() => maybeLoadScript(\"vega-embed\", \"6\"))\n",
       "        .catch(showError)\n",
       "        .then(() => displayChart(vegaEmbed));\n",
       "    }\n",
       "  })({\"config\": {\"view\": {\"continuousWidth\": 300, \"continuousHeight\": 300}}, \"layer\": [{\"data\": {\"name\": \"data-242fb01f675a7449bfae6fe3be21401d\"}, \"mark\": {\"type\": \"bar\"}, \"encoding\": {\"tooltip\": [{\"field\": \"total\", \"type\": \"quantitative\"}], \"x\": {\"field\": \"total\", \"type\": \"quantitative\"}, \"y\": {\"field\": \"label\", \"sort\": null, \"type\": \"ordinal\"}}, \"name\": \"view_1\"}, {\"data\": {\"name\": \"data-0404f28059e953832bec1209b4f842bc\"}, \"mark\": {\"type\": \"bar\"}, \"encoding\": {\"color\": {\"field\": \"is_positive\", \"legend\": null, \"scale\": {\"domain\": [true, false], \"range\": [\"green\", \"red\"]}, \"type\": \"nominal\"}, \"tooltip\": [{\"field\": \"year\", \"type\": \"quantitative\"}, {\"field\": \"category\", \"type\": \"nominal\"}, {\"field\": \"kind\", \"type\": \"nominal\"}, {\"field\": \"impact\", \"type\": \"quantitative\"}], \"x\": {\"axis\": {\"title\": \"footprint\"}, \"field\": \"start\", \"type\": \"quantitative\"}, \"x2\": {\"field\": \"end\"}, \"y\": {\"axis\": {\"title\": null}, \"field\": \"label\", \"sort\": null, \"type\": \"ordinal\"}}}, {\"data\": {\"name\": \"data-bc638dec2a34df2f2471c7665833fe5f\"}, \"mark\": {\"type\": \"bar\"}, \"encoding\": {\"tooltip\": [{\"field\": \"total\", \"type\": \"quantitative\"}], \"x\": {\"field\": \"total\", \"type\": \"quantitative\"}, \"y\": {\"field\": \"label\", \"sort\": null, \"type\": \"ordinal\"}}}, {\"data\": {\"name\": \"data-238ce6794be2b25387e2bda94e764c49\"}, \"mark\": {\"type\": \"bar\"}, \"encoding\": {\"color\": {\"field\": \"is_positive\", \"legend\": null, \"scale\": {\"domain\": [true, false], \"range\": [\"green\", \"red\"]}, \"type\": \"nominal\"}, \"tooltip\": [{\"field\": \"year\", \"type\": \"quantitative\"}, {\"field\": \"category\", \"type\": \"nominal\"}, {\"field\": \"kind\", \"type\": \"nominal\"}, {\"field\": \"impact\", \"type\": \"quantitative\"}], \"x\": {\"axis\": {\"title\": \"footprint\"}, \"field\": \"start\", \"type\": \"quantitative\"}, \"x2\": {\"field\": \"end\"}, \"y\": {\"axis\": {\"title\": null}, \"field\": \"label\", \"sort\": null, \"type\": \"ordinal\"}}}, {\"data\": {\"name\": \"data-f28063f888fbd67e94d16ee44839474a\"}, \"mark\": {\"type\": \"bar\"}, \"encoding\": {\"tooltip\": [{\"field\": \"total\", \"type\": \"quantitative\"}], \"x\": {\"field\": \"total\", \"type\": \"quantitative\"}, \"y\": {\"field\": \"label\", \"sort\": null, \"type\": \"ordinal\"}}}], \"params\": [{\"name\": \"param_1\", \"select\": {\"type\": \"interval\", \"encodings\": [\"x\", \"y\"]}, \"bind\": \"scales\", \"views\": [\"view_1\"]}], \"$schema\": \"https://vega.github.io/schema/vega-lite/v5.17.0.json\", \"datasets\": {\"data-242fb01f675a7449bfae6fe3be21401d\": [{\"label\": [2021], \"total\": 21.95027759780389}], \"data-0404f28059e953832bec1209b4f842bc\": [{\"year\": 2022, \"category\": \"PANTS\", \"impact\": 0.6145273388886315, \"kind\": \"inner\", \"end\": 22.56480493669252, \"start\": 21.95027759780389, \"label\": \"2022 \\u2022 PANTS \\u2022 inner\", \"is_positive\": true}, {\"year\": 2022, \"category\": \"TSHIRT\", \"impact\": 0.30167724893309866, \"kind\": \"mix\", \"end\": 22.86648218562562, \"start\": 22.56480493669252, \"label\": \"2022 \\u2022 TSHIRT \\u2022 mix\", \"is_positive\": true}, {\"year\": 2022, \"category\": \"PANTS\", \"impact\": 0.2028211345999768, \"kind\": \"mix\", \"end\": 23.069303320225597, \"start\": 22.86648218562562, \"label\": \"2022 \\u2022 PANTS \\u2022 mix\", \"is_positive\": true}, {\"year\": 2022, \"category\": \"TSHIRT\", \"impact\": 0.08475665867342684, \"kind\": \"inner\", \"end\": 23.154059978899024, \"start\": 23.069303320225597, \"label\": \"2022 \\u2022 TSHIRT \\u2022 inner\", \"is_positive\": true}, {\"year\": 2022, \"category\": \"DRESS\", \"impact\": 0.04764107525793142, \"kind\": \"inner\", \"end\": 23.201701054156956, \"start\": 23.154059978899024, \"label\": \"2022 \\u2022 DRESS \\u2022 inner\", \"is_positive\": true}, {\"year\": 2022, \"category\": \"SHIRT\", \"impact\": 0.004249415405470712, \"kind\": \"mix\", \"end\": 23.205950469562424, \"start\": 23.201701054156956, \"label\": \"2022 \\u2022 SHIRT \\u2022 mix\", \"is_positive\": true}, {\"year\": 2022, \"category\": \"SHIRT\", \"impact\": -0.017932535305564764, \"kind\": \"inner\", \"end\": 23.188017934256862, \"start\": 23.205950469562424, \"label\": \"2022 \\u2022 SHIRT \\u2022 inner\", \"is_positive\": false}, {\"year\": 2022, \"category\": \"SWEATER\", \"impact\": -0.08811989002715365, \"kind\": \"mix\", \"end\": 23.099898044229707, \"start\": 23.188017934256862, \"label\": \"2022 \\u2022 SWEATER \\u2022 mix\", \"is_positive\": false}, {\"year\": 2022, \"category\": \"DRESS\", \"impact\": -0.13611661127961636, \"kind\": \"mix\", \"end\": 22.963781432950093, \"start\": 23.099898044229707, \"label\": \"2022 \\u2022 DRESS \\u2022 mix\", \"is_positive\": false}, {\"year\": 2022, \"category\": \"JACKET\", \"impact\": -0.16558724703683306, \"kind\": \"inner\", \"end\": 22.798194185913257, \"start\": 22.963781432950093, \"label\": \"2022 \\u2022 JACKET \\u2022 inner\", \"is_positive\": false}, {\"year\": 2022, \"category\": \"SWEATER\", \"impact\": -0.39426152927404745, \"kind\": \"inner\", \"end\": 22.40393265663921, \"start\": 22.798194185913257, \"label\": \"2022 \\u2022 SWEATER \\u2022 inner\", \"is_positive\": false}, {\"year\": 2022, \"category\": \"JACKET\", \"impact\": -0.6905343501362712, \"kind\": \"mix\", \"end\": 21.71339830650294, \"start\": 22.40393265663921, \"label\": \"2022 \\u2022 JACKET \\u2022 mix\", \"is_positive\": false}], \"data-bc638dec2a34df2f2471c7665833fe5f\": [{\"label\": [2022], \"total\": 21.713398306502942}], \"data-238ce6794be2b25387e2bda94e764c49\": [{\"year\": 2023, \"category\": \"JACKET\", \"impact\": 0.9698501184475561, \"kind\": \"mix\", \"end\": 22.6832484249505, \"start\": 21.713398306502942, \"label\": \"2023 \\u2022 JACKET \\u2022 mix\", \"is_positive\": true}, {\"year\": 2023, \"category\": \"DRESS\", \"impact\": 0.5128989262972464, \"kind\": \"mix\", \"end\": 23.196147351247745, \"start\": 22.6832484249505, \"label\": \"2023 \\u2022 DRESS \\u2022 mix\", \"is_positive\": true}, {\"year\": 2023, \"category\": \"SWEATER\", \"impact\": 0.3579306618365037, \"kind\": \"mix\", \"end\": 23.554078013084247, \"start\": 23.196147351247745, \"label\": \"2023 \\u2022 SWEATER \\u2022 mix\", \"is_positive\": true}, {\"year\": 2023, \"category\": \"SHIRT\", \"impact\": 0.017802295811369558, \"kind\": \"inner\", \"end\": 23.57188030889562, \"start\": 23.554078013084247, \"label\": \"2023 \\u2022 SHIRT \\u2022 inner\", \"is_positive\": true}, {\"year\": 2023, \"category\": \"SHIRT\", \"impact\": -0.034300793942507526, \"kind\": \"mix\", \"end\": 23.53757951495311, \"start\": 23.57188030889562, \"label\": \"2023 \\u2022 SHIRT \\u2022 mix\", \"is_positive\": false}, {\"year\": 2023, \"category\": \"TSHIRT\", \"impact\": -0.05598069939020174, \"kind\": \"mix\", \"end\": 23.481598815562908, \"start\": 23.53757951495311, \"label\": \"2023 \\u2022 TSHIRT \\u2022 mix\", \"is_positive\": false}, {\"year\": 2023, \"category\": \"SWEATER\", \"impact\": -0.06285171538046565, \"kind\": \"inner\", \"end\": 23.418747100182443, \"start\": 23.481598815562908, \"label\": \"2023 \\u2022 SWEATER \\u2022 inner\", \"is_positive\": false}, {\"year\": 2023, \"category\": \"DRESS\", \"impact\": -0.08155163940547772, \"kind\": \"inner\", \"end\": 23.337195460776964, \"start\": 23.418747100182443, \"label\": \"2023 \\u2022 DRESS \\u2022 inner\", \"is_positive\": false}, {\"year\": 2023, \"category\": \"PANTS\", \"impact\": -0.08823155008199736, \"kind\": \"mix\", \"end\": 23.248963910694968, \"start\": 23.337195460776964, \"label\": \"2023 \\u2022 PANTS \\u2022 mix\", \"is_positive\": false}, {\"year\": 2023, \"category\": \"JACKET\", \"impact\": -0.12907195009877084, \"kind\": \"inner\", \"end\": 23.119891960596195, \"start\": 23.248963910694968, \"label\": \"2023 \\u2022 JACKET \\u2022 inner\", \"is_positive\": false}, {\"year\": 2023, \"category\": \"TSHIRT\", \"impact\": -0.16246975189864427, \"kind\": \"inner\", \"end\": 22.95742220869755, \"start\": 23.119891960596195, \"label\": \"2023 \\u2022 TSHIRT \\u2022 inner\", \"is_positive\": false}, {\"year\": 2023, \"category\": \"PANTS\", \"impact\": -0.21876005026772086, \"kind\": \"inner\", \"end\": 22.738662158429833, \"start\": 22.95742220869755, \"label\": \"2023 \\u2022 PANTS \\u2022 inner\", \"is_positive\": false}], \"data-f28063f888fbd67e94d16ee44839474a\": [{\"label\": [2023], \"total\": 22.738662158429833}]}}, {\"mode\": \"vega-lite\"});\n",
       "</script>"
      ],
      "text/plain": [
       "alt.LayerChart(...)"
      ]
     },
     "execution_count": 4,
     "metadata": {},
     "output_type": "execute_result"
    }
   ],
   "source": [
    "explainer.plot(products)"
   ]
  },
  {
   "cell_type": "markdown",
   "metadata": {},
   "source": [
    "This is better than reporting the average footprint and unit produced separately. It's more informative to quantify their contribution to the change in emissions. Here it's good to confirm that the decrease in emissions is mostly due to a reduction in the number of units produced for both years. But it's also good to see that there was an increase due to the average footprint in 2023. Importantly, each one of these effects is calculated, and not just assumed."
   ]
  },
  {
   "cell_type": "markdown",
   "metadata": {},
   "source": [
    "It's natural to want to deepen the analysis. For instance:\n",
    "\n",
    "1. Why is there a significant inner contribution for pants in 2022? Is it because the materials are less sustainable? Or because the pants got heavier?\n",
    "2. The reduction in 2023 is mainly due to the reduction in the number of units produced. Can this be broken down into marketing segments? For instance, is the reduction mainly driven by online or in-person sales? How does this break down by country?\n",
    "\n",
    "These questions hint at the interactive aspect of this kind of analysis. Once you break down a metric's evolution along a dimension, the next steps are to break down the metric (question 1) and/or include another dimension (question 2).\n",
    "\n",
    "</br>"
   ]
  }
 ],
 "metadata": {
  "kernelspec": {
   "display_name": "icanexplain-6HGw6v_q-py3.11",
   "language": "python",
   "name": "python3"
  },
  "language_info": {
   "codemirror_mode": {
    "name": "ipython",
    "version": 3
   },
   "file_extension": ".py",
   "mimetype": "text/x-python",
   "name": "python",
   "nbconvert_exporter": "python",
   "pygments_lexer": "ipython3",
   "version": "3.11.4"
  },
  "widgets": {
   "application/vnd.jupyter.widget-state+json": {
    "state": {
     "1857cbb68e4c43e197cd388a68befdae": {
      "model_module": "@jupyter-widgets/controls",
      "model_module_version": "2.0.0",
      "model_name": "ProgressStyleModel",
      "state": {
       "_model_module": "@jupyter-widgets/controls",
       "_model_module_version": "2.0.0",
       "_model_name": "ProgressStyleModel",
       "_view_count": null,
       "_view_module": "@jupyter-widgets/base",
       "_view_module_version": "2.0.0",
       "_view_name": "StyleView",
       "bar_color": "black",
       "description_width": ""
      }
     },
     "89b5443863dc41a4bc58eaa40daf7c2f": {
      "model_module": "@jupyter-widgets/base",
      "model_module_version": "2.0.0",
      "model_name": "LayoutModel",
      "state": {
       "_model_module": "@jupyter-widgets/base",
       "_model_module_version": "2.0.0",
       "_model_name": "LayoutModel",
       "_view_count": null,
       "_view_module": "@jupyter-widgets/base",
       "_view_module_version": "2.0.0",
       "_view_name": "LayoutView",
       "align_content": null,
       "align_items": null,
       "align_self": null,
       "border_bottom": null,
       "border_left": null,
       "border_right": null,
       "border_top": null,
       "bottom": null,
       "display": null,
       "flex": null,
       "flex_flow": null,
       "grid_area": null,
       "grid_auto_columns": null,
       "grid_auto_flow": null,
       "grid_auto_rows": null,
       "grid_column": null,
       "grid_gap": null,
       "grid_row": null,
       "grid_template_areas": null,
       "grid_template_columns": null,
       "grid_template_rows": null,
       "height": null,
       "justify_content": null,
       "justify_items": null,
       "left": null,
       "margin": null,
       "max_height": null,
       "max_width": null,
       "min_height": null,
       "min_width": null,
       "object_fit": null,
       "object_position": null,
       "order": null,
       "overflow": null,
       "padding": null,
       "right": null,
       "top": null,
       "visibility": null,
       "width": "auto"
      }
     },
     "fa362e0d2cae4e1d881ff3f6602c7c70": {
      "model_module": "@jupyter-widgets/controls",
      "model_module_version": "2.0.0",
      "model_name": "FloatProgressModel",
      "state": {
       "_dom_classes": [],
       "_model_module": "@jupyter-widgets/controls",
       "_model_module_version": "2.0.0",
       "_model_name": "FloatProgressModel",
       "_view_count": null,
       "_view_module": "@jupyter-widgets/controls",
       "_view_module_version": "2.0.0",
       "_view_name": "ProgressView",
       "bar_style": "",
       "description": "",
       "description_allow_html": false,
       "layout": "IPY_MODEL_89b5443863dc41a4bc58eaa40daf7c2f",
       "max": 100,
       "min": 0,
       "orientation": "horizontal",
       "style": "IPY_MODEL_1857cbb68e4c43e197cd388a68befdae",
       "tabbable": null,
       "tooltip": null,
       "value": 100
      }
     }
    },
    "version_major": 2,
    "version_minor": 0
   }
  }
 },
 "nbformat": 4,
 "nbformat_minor": 2
}
