{
  "cells": [
    {
      "cell_type": "markdown",
      "metadata": {},
      "source": [
        "# Average metric decomposition"
      ]
    },
    {
      "cell_type": "markdown",
      "metadata": {},
      "source": [
        "https://dataverse.harvard.edu/dataset.xhtml?persistentId=doi:10.7910/DVN/VOQCHQ"
      ]
    },
    {
      "cell_type": "code",
      "execution_count": 1,
      "metadata": {
        "execution": {
          "iopub.execute_input": "2024-06-09T13:00:47.719278Z",
          "iopub.status.busy": "2024-06-09T13:00:47.718890Z",
          "iopub.status.idle": "2024-06-09T13:00:47.880086Z",
          "shell.execute_reply": "2024-06-09T13:00:47.879747Z"
        }
      },
      "outputs": [
        {
          "data": {
            "text/html": [
              "<div>\n",
              "<style scoped>\n",
              "    .dataframe tbody tr th:only-of-type {\n",
              "        vertical-align: middle;\n",
              "    }\n",
              "\n",
              "    .dataframe tbody tr th {\n",
              "        vertical-align: top;\n",
              "    }\n",
              "\n",
              "    .dataframe thead th {\n",
              "        text-align: right;\n",
              "    }\n",
              "</style>\n",
              "<table border=\"1\" class=\"dataframe\">\n",
              "  <thead>\n",
              "    <tr style=\"text-align: right;\">\n",
              "      <th></th>\n",
              "      <th>year</th>\n",
              "      <th>state</th>\n",
              "      <th>state_po</th>\n",
              "      <th>county_name</th>\n",
              "      <th>county_fips</th>\n",
              "      <th>party</th>\n",
              "      <th>votes</th>\n",
              "    </tr>\n",
              "  </thead>\n",
              "  <tbody>\n",
              "    <tr>\n",
              "      <th>0</th>\n",
              "      <td>2012</td>\n",
              "      <td>ALABAMA</td>\n",
              "      <td>AL</td>\n",
              "      <td>AUTAUGA</td>\n",
              "      <td>1001</td>\n",
              "      <td>DEMOCRAT</td>\n",
              "      <td>6363</td>\n",
              "    </tr>\n",
              "    <tr>\n",
              "      <th>1</th>\n",
              "      <td>2012</td>\n",
              "      <td>ALABAMA</td>\n",
              "      <td>AL</td>\n",
              "      <td>AUTAUGA</td>\n",
              "      <td>1001</td>\n",
              "      <td>OTHER</td>\n",
              "      <td>190</td>\n",
              "    </tr>\n",
              "    <tr>\n",
              "      <th>2</th>\n",
              "      <td>2012</td>\n",
              "      <td>ALABAMA</td>\n",
              "      <td>AL</td>\n",
              "      <td>AUTAUGA</td>\n",
              "      <td>1001</td>\n",
              "      <td>REPUBLICAN</td>\n",
              "      <td>17379</td>\n",
              "    </tr>\n",
              "    <tr>\n",
              "      <th>3</th>\n",
              "      <td>2012</td>\n",
              "      <td>ALABAMA</td>\n",
              "      <td>AL</td>\n",
              "      <td>BALDWIN</td>\n",
              "      <td>1003</td>\n",
              "      <td>DEMOCRAT</td>\n",
              "      <td>18424</td>\n",
              "    </tr>\n",
              "    <tr>\n",
              "      <th>4</th>\n",
              "      <td>2012</td>\n",
              "      <td>ALABAMA</td>\n",
              "      <td>AL</td>\n",
              "      <td>BALDWIN</td>\n",
              "      <td>1003</td>\n",
              "      <td>OTHER</td>\n",
              "      <td>898</td>\n",
              "    </tr>\n",
              "  </tbody>\n",
              "</table>\n",
              "</div>"
            ],
            "text/plain": [
              "   year    state state_po county_name  county_fips       party  votes\n",
              "0  2012  ALABAMA       AL     AUTAUGA         1001    DEMOCRAT   6363\n",
              "1  2012  ALABAMA       AL     AUTAUGA         1001       OTHER    190\n",
              "2  2012  ALABAMA       AL     AUTAUGA         1001  REPUBLICAN  17379\n",
              "3  2012  ALABAMA       AL     BALDWIN         1003    DEMOCRAT  18424\n",
              "4  2012  ALABAMA       AL     BALDWIN         1003       OTHER    898"
            ]
          },
          "execution_count": 1,
          "metadata": {},
          "output_type": "execute_result"
        }
      ],
      "source": [
        "import icanexplain as ice\n",
        "\n",
        "votes = ice.datasets.load_us_general_election_popular_vote()\n",
        "votes.head()"
      ]
    },
    {
      "cell_type": "markdown",
      "metadata": {},
      "source": [
        "We'll take a look at the evolution of the Republican vote share in the US over time."
      ]
    },
    {
      "cell_type": "code",
      "execution_count": 2,
      "metadata": {
        "execution": {
          "iopub.execute_input": "2024-06-09T13:00:47.881736Z",
          "iopub.status.busy": "2024-06-09T13:00:47.881644Z",
          "iopub.status.idle": "2024-06-09T13:00:47.896589Z",
          "shell.execute_reply": "2024-06-09T13:00:47.896320Z"
        }
      },
      "outputs": [
        {
          "data": {
            "text/html": [
              "<div>\n",
              "<style scoped>\n",
              "    .dataframe tbody tr th:only-of-type {\n",
              "        vertical-align: middle;\n",
              "    }\n",
              "\n",
              "    .dataframe tbody tr th {\n",
              "        vertical-align: top;\n",
              "    }\n",
              "\n",
              "    .dataframe thead th {\n",
              "        text-align: right;\n",
              "    }\n",
              "</style>\n",
              "<table border=\"1\" class=\"dataframe\">\n",
              "  <thead>\n",
              "    <tr style=\"text-align: right;\">\n",
              "      <th></th>\n",
              "      <th>year</th>\n",
              "      <th>state_po</th>\n",
              "      <th>total_votes</th>\n",
              "      <th>republican_votes</th>\n",
              "    </tr>\n",
              "  </thead>\n",
              "  <tbody>\n",
              "    <tr>\n",
              "      <th>44</th>\n",
              "      <td>2012</td>\n",
              "      <td>UT</td>\n",
              "      <td>1017440</td>\n",
              "      <td>740600</td>\n",
              "    </tr>\n",
              "    <tr>\n",
              "      <th>76</th>\n",
              "      <td>2016</td>\n",
              "      <td>MS</td>\n",
              "      <td>1209357</td>\n",
              "      <td>700714</td>\n",
              "    </tr>\n",
              "    <tr>\n",
              "      <th>8</th>\n",
              "      <td>2012</td>\n",
              "      <td>DE</td>\n",
              "      <td>413937</td>\n",
              "      <td>165484</td>\n",
              "    </tr>\n",
              "    <tr>\n",
              "      <th>34</th>\n",
              "      <td>2012</td>\n",
              "      <td>NY</td>\n",
              "      <td>7061925</td>\n",
              "      <td>2223397</td>\n",
              "    </tr>\n",
              "    <tr>\n",
              "      <th>75</th>\n",
              "      <td>2016</td>\n",
              "      <td>MO</td>\n",
              "      <td>2807381</td>\n",
              "      <td>1594511</td>\n",
              "    </tr>\n",
              "  </tbody>\n",
              "</table>\n",
              "</div>"
            ],
            "text/plain": [
              "    year state_po  total_votes  republican_votes\n",
              "44  2012       UT      1017440            740600\n",
              "76  2016       MS      1209357            700714\n",
              "8   2012       DE       413937            165484\n",
              "34  2012       NY      7061925           2223397\n",
              "75  2016       MO      2807381           1594511"
            ]
          },
          "execution_count": 2,
          "metadata": {},
          "output_type": "execute_result"
        }
      ],
      "source": [
        "tally = (\n",
        "    votes\n",
        "    .groupby(['year', 'state_po'])\n",
        "    .agg({'votes': 'sum'})\n",
        "    .rename(columns={'votes': 'total_votes'})\n",
        "    .join(\n",
        "        votes\n",
        "        .query('party == \"REPUBLICAN\"')\n",
        "        .groupby(['year', 'state_po'])\n",
        "        .agg({'votes': 'sum'})\n",
        "        .rename(columns={'votes': 'republican_votes'})\n",
        "    )\n",
        "    .reset_index()\n",
        ")\n",
        "tally.sample(5)"
      ]
    },
    {
      "cell_type": "code",
      "execution_count": 3,
      "metadata": {
        "execution": {
          "iopub.execute_input": "2024-06-09T13:00:47.898081Z",
          "iopub.status.busy": "2024-06-09T13:00:47.897996Z",
          "iopub.status.idle": "2024-06-09T13:00:47.929967Z",
          "shell.execute_reply": "2024-06-09T13:00:47.929719Z"
        }
      },
      "outputs": [
        {
          "data": {
            "text/html": [
              "<style type=\"text/css\">\n",
              "</style>\n",
              "<table id=\"T_30a7c\">\n",
              "  <caption>Republican share of the popular vote in US general elections</caption>\n",
              "  <thead>\n",
              "    <tr>\n",
              "      <th class=\"blank level0\" >&nbsp;</th>\n",
              "      <th id=\"T_30a7c_level0_col0\" class=\"col_heading level0 col0\" >year</th>\n",
              "      <th id=\"T_30a7c_level0_col1\" class=\"col_heading level0 col1\" >share</th>\n",
              "      <th id=\"T_30a7c_level0_col2\" class=\"col_heading level0 col2\" >diff</th>\n",
              "    </tr>\n",
              "  </thead>\n",
              "  <tbody>\n",
              "    <tr>\n",
              "      <th id=\"T_30a7c_level0_row0\" class=\"row_heading level0 row0\" >0</th>\n",
              "      <td id=\"T_30a7c_row0_col0\" class=\"data row0 col0\" >2012</td>\n",
              "      <td id=\"T_30a7c_row0_col1\" class=\"data row0 col1\" >47.01%</td>\n",
              "      <td id=\"T_30a7c_row0_col2\" class=\"data row0 col2\" ></td>\n",
              "    </tr>\n",
              "    <tr>\n",
              "      <th id=\"T_30a7c_level0_row1\" class=\"row_heading level0 row1\" >1</th>\n",
              "      <td id=\"T_30a7c_row1_col0\" class=\"data row1 col0\" >2016</td>\n",
              "      <td id=\"T_30a7c_row1_col1\" class=\"data row1 col1\" >46.14%</td>\n",
              "      <td id=\"T_30a7c_row1_col2\" class=\"data row1 col2\" >-0.87%</td>\n",
              "    </tr>\n",
              "    <tr>\n",
              "      <th id=\"T_30a7c_level0_row2\" class=\"row_heading level0 row2\" >2</th>\n",
              "      <td id=\"T_30a7c_row2_col0\" class=\"data row2 col0\" >2020</td>\n",
              "      <td id=\"T_30a7c_row2_col1\" class=\"data row2 col1\" >46.83%</td>\n",
              "      <td id=\"T_30a7c_row2_col2\" class=\"data row2 col2\" >+0.69%</td>\n",
              "    </tr>\n",
              "  </tbody>\n",
              "</table>\n"
            ],
            "text/plain": [
              "<pandas.io.formats.style.Styler at 0x11bb49610>"
            ]
          },
          "execution_count": 3,
          "metadata": {},
          "output_type": "execute_result"
        }
      ],
      "source": [
        "(\n",
        "    tally\n",
        "    .groupby('year')\n",
        "    [['total_votes', 'republican_votes']].sum()\n",
        "    .reset_index()\n",
        "    .assign(share=lambda x: x.republican_votes / x.total_votes)\n",
        "    .assign(diff=lambda x: x.share.diff())\n",
        "    [['year', 'share', 'diff']]\n",
        "    .style.format({'share': '{:.2%}', 'diff': '{:+.2%}'}, na_rep='')\n",
        "    .set_caption('Republican share of the popular vote in US general elections')\n",
        ")"
      ]
    },
    {
      "cell_type": "code",
      "execution_count": 4,
      "metadata": {
        "execution": {
          "iopub.execute_input": "2024-06-09T13:00:47.931506Z",
          "iopub.status.busy": "2024-06-09T13:00:47.931384Z",
          "iopub.status.idle": "2024-06-09T13:00:48.101783Z",
          "shell.execute_reply": "2024-06-09T13:00:48.101548Z"
        }
      },
      "outputs": [
        {
          "data": {
            "text/html": [
              "<style type=\"text/css\">\n",
              "</style>\n",
              "<table id=\"T_f9e06\">\n",
              "  <thead>\n",
              "    <tr>\n",
              "      <th class=\"blank level0\" >&nbsp;</th>\n",
              "      <th id=\"T_f9e06_level0_col0\" class=\"col_heading level0 col0\" >year</th>\n",
              "      <th id=\"T_f9e06_level0_col1\" class=\"col_heading level0 col1\" >inner</th>\n",
              "      <th id=\"T_f9e06_level0_col2\" class=\"col_heading level0 col2\" >mix</th>\n",
              "    </tr>\n",
              "  </thead>\n",
              "  <tbody>\n",
              "    <tr>\n",
              "      <th id=\"T_f9e06_level0_row0\" class=\"row_heading level0 row0\" >0</th>\n",
              "      <td id=\"T_f9e06_row0_col0\" class=\"data row0 col0\" >2016</td>\n",
              "      <td id=\"T_f9e06_row0_col1\" class=\"data row0 col1\" >-0.87%</td>\n",
              "      <td id=\"T_f9e06_row0_col2\" class=\"data row0 col2\" >+0.00%</td>\n",
              "    </tr>\n",
              "    <tr>\n",
              "      <th id=\"T_f9e06_level0_row1\" class=\"row_heading level0 row1\" >1</th>\n",
              "      <td id=\"T_f9e06_row1_col0\" class=\"data row1 col0\" >2020</td>\n",
              "      <td id=\"T_f9e06_row1_col1\" class=\"data row1 col1\" >+0.69%</td>\n",
              "      <td id=\"T_f9e06_row1_col2\" class=\"data row1 col2\" >-0.00%</td>\n",
              "    </tr>\n",
              "  </tbody>\n",
              "</table>\n"
            ],
            "text/plain": [
              "<pandas.io.formats.style.Styler at 0x11fc47510>"
            ]
          },
          "execution_count": 4,
          "metadata": {},
          "output_type": "execute_result"
        }
      ],
      "source": [
        "explainer = ice.MeanExplainer(\n",
        "    fact='republican_votes',\n",
        "    count='total_votes',\n",
        "    period='year',\n",
        ")\n",
        "explainer(tally).style.format({'inner': '{:+.2%}', 'mix': '{:+.2%}'}, na_rep='')"
      ]
    },
    {
      "cell_type": "code",
      "execution_count": 5,
      "metadata": {
        "execution": {
          "iopub.execute_input": "2024-06-09T13:00:48.103266Z",
          "iopub.status.busy": "2024-06-09T13:00:48.103151Z",
          "iopub.status.idle": "2024-06-09T13:00:48.161725Z",
          "shell.execute_reply": "2024-06-09T13:00:48.161459Z"
        }
      },
      "outputs": [
        {
          "data": {
            "text/html": [
              "<style type=\"text/css\">\n",
              "</style>\n",
              "<table id=\"T_4ca94\">\n",
              "  <thead>\n",
              "    <tr>\n",
              "      <th class=\"blank level0\" >&nbsp;</th>\n",
              "      <th id=\"T_4ca94_level0_col0\" class=\"col_heading level0 col0\" >year</th>\n",
              "      <th id=\"T_4ca94_level0_col1\" class=\"col_heading level0 col1\" >state_po</th>\n",
              "      <th id=\"T_4ca94_level0_col2\" class=\"col_heading level0 col2\" >inner</th>\n",
              "      <th id=\"T_4ca94_level0_col3\" class=\"col_heading level0 col3\" >mix</th>\n",
              "    </tr>\n",
              "  </thead>\n",
              "  <tbody>\n",
              "    <tr>\n",
              "      <th id=\"T_4ca94_level0_row0\" class=\"row_heading level0 row0\" >34</th>\n",
              "      <td id=\"T_4ca94_row0_col0\" class=\"data row0 col0\" >2016</td>\n",
              "      <td id=\"T_4ca94_row0_col1\" class=\"data row0 col1\" >NY</td>\n",
              "      <td id=\"T_4ca94_row0_col2\" class=\"data row0 col2\" >+0.28%</td>\n",
              "      <td id=\"T_4ca94_row0_col3\" class=\"data row0 col3\" >-0.03%</td>\n",
              "    </tr>\n",
              "    <tr>\n",
              "      <th id=\"T_4ca94_level0_row1\" class=\"row_heading level0 row1\" >35</th>\n",
              "      <td id=\"T_4ca94_row1_col0\" class=\"data row1 col0\" >2016</td>\n",
              "      <td id=\"T_4ca94_row1_col1\" class=\"data row1 col1\" >OH</td>\n",
              "      <td id=\"T_4ca94_row1_col2\" class=\"data row1 col2\" >+0.16%</td>\n",
              "      <td id=\"T_4ca94_row1_col3\" class=\"data row1 col3\" >-0.00%</td>\n",
              "    </tr>\n",
              "    <tr>\n",
              "      <th id=\"T_4ca94_level0_row2\" class=\"row_heading level0 row2\" >22</th>\n",
              "      <td id=\"T_4ca94_row2_col0\" class=\"data row2 col0\" >2016</td>\n",
              "      <td id=\"T_4ca94_row2_col1\" class=\"data row2 col1\" >MI</td>\n",
              "      <td id=\"T_4ca94_row2_col2\" class=\"data row2 col2\" >+0.10%</td>\n",
              "      <td id=\"T_4ca94_row2_col3\" class=\"data row2 col3\" >+0.00%</td>\n",
              "    </tr>\n",
              "    <tr>\n",
              "      <th id=\"T_4ca94_level0_row3\" class=\"row_heading level0 row3\" >38</th>\n",
              "      <td id=\"T_4ca94_row3_col0\" class=\"data row3 col0\" >2016</td>\n",
              "      <td id=\"T_4ca94_row3_col1\" class=\"data row3 col1\" >PA</td>\n",
              "      <td id=\"T_4ca94_row3_col2\" class=\"data row3 col2\" >+0.08%</td>\n",
              "      <td id=\"T_4ca94_row3_col3\" class=\"data row3 col3\" >+0.00%</td>\n",
              "    </tr>\n",
              "    <tr>\n",
              "      <th id=\"T_4ca94_level0_row4\" class=\"row_heading level0 row4\" >24</th>\n",
              "      <td id=\"T_4ca94_row4_col0\" class=\"data row4 col0\" >2016</td>\n",
              "      <td id=\"T_4ca94_row4_col1\" class=\"data row4 col1\" >MO</td>\n",
              "      <td id=\"T_4ca94_row4_col2\" class=\"data row4 col2\" >+0.06%</td>\n",
              "      <td id=\"T_4ca94_row4_col3\" class=\"data row4 col3\" >-0.01%</td>\n",
              "    </tr>\n",
              "    <tr>\n",
              "      <th id=\"T_4ca94_level0_row5\" class=\"row_heading level0 row5\" >12</th>\n",
              "      <td id=\"T_4ca94_row5_col0\" class=\"data row5 col0\" >2016</td>\n",
              "      <td id=\"T_4ca94_row5_col1\" class=\"data row5 col1\" >IA</td>\n",
              "      <td id=\"T_4ca94_row5_col2\" class=\"data row5 col2\" >+0.06%</td>\n",
              "      <td id=\"T_4ca94_row5_col3\" class=\"data row5 col3\" >-0.00%</td>\n",
              "    </tr>\n",
              "    <tr>\n",
              "      <th id=\"T_4ca94_level0_row6\" class=\"row_heading level0 row6\" >15</th>\n",
              "      <td id=\"T_4ca94_row6_col0\" class=\"data row6 col0\" >2016</td>\n",
              "      <td id=\"T_4ca94_row6_col1\" class=\"data row6 col1\" >IN</td>\n",
              "      <td id=\"T_4ca94_row6_col2\" class=\"data row6 col2\" >+0.06%</td>\n",
              "      <td id=\"T_4ca94_row6_col3\" class=\"data row6 col3\" >-0.00%</td>\n",
              "    </tr>\n",
              "    <tr>\n",
              "      <th id=\"T_4ca94_level0_row7\" class=\"row_heading level0 row7\" >49</th>\n",
              "      <td id=\"T_4ca94_row7_col0\" class=\"data row7 col0\" >2016</td>\n",
              "      <td id=\"T_4ca94_row7_col1\" class=\"data row7 col1\" >WV</td>\n",
              "      <td id=\"T_4ca94_row7_col2\" class=\"data row7 col2\" >+0.03%</td>\n",
              "      <td id=\"T_4ca94_row7_col3\" class=\"data row7 col3\" >+0.00%</td>\n",
              "    </tr>\n",
              "    <tr>\n",
              "      <th id=\"T_4ca94_level0_row8\" class=\"row_heading level0 row8\" >17</th>\n",
              "      <td id=\"T_4ca94_row8_col0\" class=\"data row8 col0\" >2016</td>\n",
              "      <td id=\"T_4ca94_row8_col1\" class=\"data row8 col1\" >KY</td>\n",
              "      <td id=\"T_4ca94_row8_col2\" class=\"data row8 col2\" >+0.03%</td>\n",
              "      <td id=\"T_4ca94_row8_col3\" class=\"data row8 col3\" >+0.00%</td>\n",
              "    </tr>\n",
              "    <tr>\n",
              "      <th id=\"T_4ca94_level0_row9\" class=\"row_heading level0 row9\" >48</th>\n",
              "      <td id=\"T_4ca94_row9_col0\" class=\"data row9 col0\" >2016</td>\n",
              "      <td id=\"T_4ca94_row9_col1\" class=\"data row9 col1\" >WI</td>\n",
              "      <td id=\"T_4ca94_row9_col2\" class=\"data row9 col2\" >+0.03%</td>\n",
              "      <td id=\"T_4ca94_row9_col3\" class=\"data row9 col3\" >+0.00%</td>\n",
              "    </tr>\n",
              "  </tbody>\n",
              "</table>\n"
            ],
            "text/plain": [
              "<pandas.io.formats.style.Styler at 0x11fc6a810>"
            ]
          },
          "execution_count": 5,
          "metadata": {},
          "output_type": "execute_result"
        }
      ],
      "source": [
        "explainer = ice.MeanExplainer(\n",
        "    fact='republican_votes',\n",
        "    count='total_votes',\n",
        "    period='year',\n",
        "    group='state_po'\n",
        ")\n",
        "explanation_by_state = explainer(tally)\n",
        "(\n",
        "    explanation_by_state\n",
        "    .query('year == 2016')\n",
        "    .sort_values('inner', ascending=False)\n",
        "    .head(10)\n",
        "    .style.format({'inner': '{:+.2%}', 'mix': '{:+.2%}'}, na_rep='')\n",
        ")"
      ]
    },
    {
      "cell_type": "markdown",
      "metadata": {},
      "source": [
        "Ohio (OH) shifted more Republican, moving from a win for Obama in 2012 to a win for Trump in 2016."
      ]
    },
    {
      "cell_type": "code",
      "execution_count": 6,
      "metadata": {
        "execution": {
          "iopub.execute_input": "2024-06-09T13:00:48.163246Z",
          "iopub.status.busy": "2024-06-09T13:00:48.163141Z",
          "iopub.status.idle": "2024-06-09T13:00:48.175282Z",
          "shell.execute_reply": "2024-06-09T13:00:48.175043Z"
        }
      },
      "outputs": [
        {
          "data": {
            "text/html": [
              "<div>\n",
              "<style scoped>\n",
              "    .dataframe tbody tr th:only-of-type {\n",
              "        vertical-align: middle;\n",
              "    }\n",
              "\n",
              "    .dataframe tbody tr th {\n",
              "        vertical-align: top;\n",
              "    }\n",
              "\n",
              "    .dataframe thead th {\n",
              "        text-align: right;\n",
              "    }\n",
              "</style>\n",
              "<table border=\"1\" class=\"dataframe\">\n",
              "  <thead>\n",
              "    <tr style=\"text-align: right;\">\n",
              "      <th></th>\n",
              "      <th>year</th>\n",
              "      <th>state_po</th>\n",
              "      <th>total_votes</th>\n",
              "      <th>republican_votes</th>\n",
              "      <th>share</th>\n",
              "    </tr>\n",
              "  </thead>\n",
              "  <tbody>\n",
              "    <tr>\n",
              "      <th>34</th>\n",
              "      <td>2012</td>\n",
              "      <td>NY</td>\n",
              "      <td>7061925</td>\n",
              "      <td>2223397</td>\n",
              "      <td>0.314843</td>\n",
              "    </tr>\n",
              "    <tr>\n",
              "      <th>85</th>\n",
              "      <td>2016</td>\n",
              "      <td>NY</td>\n",
              "      <td>7707363</td>\n",
              "      <td>2814589</td>\n",
              "      <td>0.365182</td>\n",
              "    </tr>\n",
              "  </tbody>\n",
              "</table>\n",
              "</div>"
            ],
            "text/plain": [
              "    year state_po  total_votes  republican_votes     share\n",
              "34  2012       NY      7061925           2223397  0.314843\n",
              "85  2016       NY      7707363           2814589  0.365182"
            ]
          },
          "execution_count": 6,
          "metadata": {},
          "output_type": "execute_result"
        }
      ],
      "source": [
        "(\n",
        "    tally\n",
        "    .query('state_po == \"NY\" and year in (2012, 2016)')\n",
        "    .assign(share=lambda x: x.republican_votes / x.total_votes)\n",
        "    .sort_values('year')\n",
        ")"
      ]
    },
    {
      "cell_type": "code",
      "execution_count": 7,
      "metadata": {
        "execution": {
          "iopub.execute_input": "2024-06-09T13:00:48.176642Z",
          "iopub.status.busy": "2024-06-09T13:00:48.176565Z",
          "iopub.status.idle": "2024-06-09T13:00:48.187444Z",
          "shell.execute_reply": "2024-06-09T13:00:48.187208Z"
        }
      },
      "outputs": [
        {
          "data": {
            "text/html": [
              "<div>\n",
              "<style scoped>\n",
              "    .dataframe tbody tr th:only-of-type {\n",
              "        vertical-align: middle;\n",
              "    }\n",
              "\n",
              "    .dataframe tbody tr th {\n",
              "        vertical-align: top;\n",
              "    }\n",
              "\n",
              "    .dataframe thead th {\n",
              "        text-align: right;\n",
              "    }\n",
              "</style>\n",
              "<table border=\"1\" class=\"dataframe\">\n",
              "  <thead>\n",
              "    <tr style=\"text-align: right;\">\n",
              "      <th></th>\n",
              "      <th>year</th>\n",
              "      <th>state_po</th>\n",
              "      <th>total_votes</th>\n",
              "      <th>republican_votes</th>\n",
              "      <th>share</th>\n",
              "    </tr>\n",
              "  </thead>\n",
              "  <tbody>\n",
              "    <tr>\n",
              "      <th>35</th>\n",
              "      <td>2012</td>\n",
              "      <td>OH</td>\n",
              "      <td>5580822</td>\n",
              "      <td>2661407</td>\n",
              "      <td>0.476884</td>\n",
              "    </tr>\n",
              "    <tr>\n",
              "      <th>86</th>\n",
              "      <td>2016</td>\n",
              "      <td>OH</td>\n",
              "      <td>5496487</td>\n",
              "      <td>2841005</td>\n",
              "      <td>0.516877</td>\n",
              "    </tr>\n",
              "  </tbody>\n",
              "</table>\n",
              "</div>"
            ],
            "text/plain": [
              "    year state_po  total_votes  republican_votes     share\n",
              "35  2012       OH      5580822           2661407  0.476884\n",
              "86  2016       OH      5496487           2841005  0.516877"
            ]
          },
          "execution_count": 7,
          "metadata": {},
          "output_type": "execute_result"
        }
      ],
      "source": [
        "(\n",
        "    tally\n",
        "    .query('state_po == \"OH\" and year in (2012, 2016)')\n",
        "    .assign(share=lambda x: x.republican_votes / x.total_votes)\n",
        "    .sort_values('year')\n",
        ")"
      ]
    },
    {
      "cell_type": "code",
      "execution_count": 8,
      "metadata": {
        "execution": {
          "iopub.execute_input": "2024-06-09T13:00:48.188994Z",
          "iopub.status.busy": "2024-06-09T13:00:48.188907Z",
          "iopub.status.idle": "2024-06-09T13:00:48.199212Z",
          "shell.execute_reply": "2024-06-09T13:00:48.198943Z"
        }
      },
      "outputs": [
        {
          "data": {
            "text/html": [
              "<style type=\"text/css\">\n",
              "</style>\n",
              "<table id=\"T_bc005\">\n",
              "  <thead>\n",
              "    <tr>\n",
              "      <th class=\"blank level0\" >&nbsp;</th>\n",
              "      <th id=\"T_bc005_level0_col0\" class=\"col_heading level0 col0\" >year</th>\n",
              "      <th id=\"T_bc005_level0_col1\" class=\"col_heading level0 col1\" >state_po</th>\n",
              "      <th id=\"T_bc005_level0_col2\" class=\"col_heading level0 col2\" >inner</th>\n",
              "      <th id=\"T_bc005_level0_col3\" class=\"col_heading level0 col3\" >mix</th>\n",
              "    </tr>\n",
              "  </thead>\n",
              "  <tbody>\n",
              "    <tr>\n",
              "      <th id=\"T_bc005_level0_row0\" class=\"row_heading level0 row0\" >61</th>\n",
              "      <td id=\"T_bc005_row0_col0\" class=\"data row0 col0\" >2020</td>\n",
              "      <td id=\"T_bc005_row0_col1\" class=\"data row0 col1\" >GA</td>\n",
              "      <td id=\"T_bc005_row0_col2\" class=\"data row0 col2\" >-0.05%</td>\n",
              "      <td id=\"T_bc005_row0_col3\" class=\"data row0 col3\" >+0.01%</td>\n",
              "    </tr>\n",
              "    <tr>\n",
              "      <th id=\"T_bc005_level0_row1\" class=\"row_heading level0 row1\" >71</th>\n",
              "      <td id=\"T_bc005_row1_col0\" class=\"data row1 col0\" >2020</td>\n",
              "      <td id=\"T_bc005_row1_col1\" class=\"data row1 col1\" >MD</td>\n",
              "      <td id=\"T_bc005_row1_col2\" class=\"data row1 col2\" >-0.03%</td>\n",
              "      <td id=\"T_bc005_row1_col3\" class=\"data row1 col3\" >+0.02%</td>\n",
              "    </tr>\n",
              "    <tr>\n",
              "      <th id=\"T_bc005_level0_row2\" class=\"row_heading level0 row2\" >70</th>\n",
              "      <td id=\"T_bc005_row2_col0\" class=\"data row2 col0\" >2020</td>\n",
              "      <td id=\"T_bc005_row2_col1\" class=\"data row2 col1\" >MA</td>\n",
              "      <td id=\"T_bc005_row2_col2\" class=\"data row2 col2\" >-0.03%</td>\n",
              "      <td id=\"T_bc005_row2_col3\" class=\"data row2 col3\" >+0.01%</td>\n",
              "    </tr>\n",
              "    <tr>\n",
              "      <th id=\"T_bc005_level0_row3\" class=\"row_heading level0 row3\" >56</th>\n",
              "      <td id=\"T_bc005_row3_col0\" class=\"data row3 col0\" >2020</td>\n",
              "      <td id=\"T_bc005_row3_col1\" class=\"data row3 col1\" >CO</td>\n",
              "      <td id=\"T_bc005_row3_col2\" class=\"data row3 col2\" >-0.03%</td>\n",
              "      <td id=\"T_bc005_row3_col3\" class=\"data row3 col3\" >-0.00%</td>\n",
              "    </tr>\n",
              "    <tr>\n",
              "      <th id=\"T_bc005_level0_row4\" class=\"row_heading level0 row4\" >57</th>\n",
              "      <td id=\"T_bc005_row4_col0\" class=\"data row4 col0\" >2020</td>\n",
              "      <td id=\"T_bc005_row4_col1\" class=\"data row4 col1\" >CT</td>\n",
              "      <td id=\"T_bc005_row4_col2\" class=\"data row4 col2\" >-0.02%</td>\n",
              "      <td id=\"T_bc005_row4_col3\" class=\"data row4 col3\" >+0.00%</td>\n",
              "    </tr>\n",
              "    <tr>\n",
              "      <th id=\"T_bc005_level0_row5\" class=\"row_heading level0 row5\" >94</th>\n",
              "      <td id=\"T_bc005_row5_col0\" class=\"data row5 col0\" >2020</td>\n",
              "      <td id=\"T_bc005_row5_col1\" class=\"data row5 col1\" >TX</td>\n",
              "      <td id=\"T_bc005_row5_col2\" class=\"data row5 col2\" >-0.01%</td>\n",
              "      <td id=\"T_bc005_row5_col3\" class=\"data row5 col3\" >+0.03%</td>\n",
              "    </tr>\n",
              "    <tr>\n",
              "      <th id=\"T_bc005_level0_row6\" class=\"row_heading level0 row6\" >96</th>\n",
              "      <td id=\"T_bc005_row6_col0\" class=\"data row6 col0\" >2020</td>\n",
              "      <td id=\"T_bc005_row6_col1\" class=\"data row6 col1\" >VA</td>\n",
              "      <td id=\"T_bc005_row6_col2\" class=\"data row6 col2\" >-0.01%</td>\n",
              "      <td id=\"T_bc005_row6_col3\" class=\"data row6 col3\" >+0.00%</td>\n",
              "    </tr>\n",
              "    <tr>\n",
              "      <th id=\"T_bc005_level0_row7\" class=\"row_heading level0 row7\" >72</th>\n",
              "      <td id=\"T_bc005_row7_col0\" class=\"data row7 col0\" >2020</td>\n",
              "      <td id=\"T_bc005_row7_col1\" class=\"data row7 col1\" >ME</td>\n",
              "      <td id=\"T_bc005_row7_col2\" class=\"data row7 col2\" >-0.01%</td>\n",
              "      <td id=\"T_bc005_row7_col3\" class=\"data row7 col3\" >+0.00%</td>\n",
              "    </tr>\n",
              "    <tr>\n",
              "      <th id=\"T_bc005_level0_row8\" class=\"row_heading level0 row8\" >59</th>\n",
              "      <td id=\"T_bc005_row8_col0\" class=\"data row8 col0\" >2020</td>\n",
              "      <td id=\"T_bc005_row8_col1\" class=\"data row8 col1\" >DE</td>\n",
              "      <td id=\"T_bc005_row8_col2\" class=\"data row8 col2\" >-0.01%</td>\n",
              "      <td id=\"T_bc005_row8_col3\" class=\"data row8 col3\" >+0.00%</td>\n",
              "    </tr>\n",
              "    <tr>\n",
              "      <th id=\"T_bc005_level0_row9\" class=\"row_heading level0 row9\" >68</th>\n",
              "      <td id=\"T_bc005_row9_col0\" class=\"data row9 col0\" >2020</td>\n",
              "      <td id=\"T_bc005_row9_col1\" class=\"data row9 col1\" >KY</td>\n",
              "      <td id=\"T_bc005_row9_col2\" class=\"data row9 col2\" >-0.01%</td>\n",
              "      <td id=\"T_bc005_row9_col3\" class=\"data row9 col3\" >-0.01%</td>\n",
              "    </tr>\n",
              "  </tbody>\n",
              "</table>\n"
            ],
            "text/plain": [
              "<pandas.io.formats.style.Styler at 0x11fe17fd0>"
            ]
          },
          "execution_count": 8,
          "metadata": {},
          "output_type": "execute_result"
        }
      ],
      "source": [
        "(\n",
        "    explanation_by_state\n",
        "    .query('year == 2020')\n",
        "    .sort_values('inner')\n",
        "    .head(10)\n",
        "    .style.format({'inner': '{:+.2%}', 'mix': '{:+.2%}'}, na_rep='')\n",
        ")"
      ]
    },
    {
      "cell_type": "markdown",
      "metadata": {},
      "source": [
        "Georgia (GA) went from Republican (Donald Trump) in 2016 to Democratic (Joe Biden) in 2020."
      ]
    },
    {
      "cell_type": "code",
      "execution_count": 9,
      "metadata": {
        "execution": {
          "iopub.execute_input": "2024-06-09T13:00:48.200752Z",
          "iopub.status.busy": "2024-06-09T13:00:48.200653Z",
          "iopub.status.idle": "2024-06-09T13:00:48.212531Z",
          "shell.execute_reply": "2024-06-09T13:00:48.212264Z"
        }
      },
      "outputs": [
        {
          "data": {
            "text/html": [
              "<div>\n",
              "<style scoped>\n",
              "    .dataframe tbody tr th:only-of-type {\n",
              "        vertical-align: middle;\n",
              "    }\n",
              "\n",
              "    .dataframe tbody tr th {\n",
              "        vertical-align: top;\n",
              "    }\n",
              "\n",
              "    .dataframe thead th {\n",
              "        text-align: right;\n",
              "    }\n",
              "</style>\n",
              "<table border=\"1\" class=\"dataframe\">\n",
              "  <thead>\n",
              "    <tr style=\"text-align: right;\">\n",
              "      <th></th>\n",
              "      <th>year</th>\n",
              "      <th>state_po</th>\n",
              "      <th>total_votes</th>\n",
              "      <th>republican_votes</th>\n",
              "      <th>share</th>\n",
              "    </tr>\n",
              "  </thead>\n",
              "  <tbody>\n",
              "    <tr>\n",
              "      <th>61</th>\n",
              "      <td>2016</td>\n",
              "      <td>GA</td>\n",
              "      <td>4114711</td>\n",
              "      <td>2089104</td>\n",
              "      <td>0.507716</td>\n",
              "    </tr>\n",
              "    <tr>\n",
              "      <th>112</th>\n",
              "      <td>2020</td>\n",
              "      <td>GA</td>\n",
              "      <td>4998482</td>\n",
              "      <td>2461837</td>\n",
              "      <td>0.492517</td>\n",
              "    </tr>\n",
              "  </tbody>\n",
              "</table>\n",
              "</div>"
            ],
            "text/plain": [
              "     year state_po  total_votes  republican_votes     share\n",
              "61   2016       GA      4114711           2089104  0.507716\n",
              "112  2020       GA      4998482           2461837  0.492517"
            ]
          },
          "execution_count": 9,
          "metadata": {},
          "output_type": "execute_result"
        }
      ],
      "source": [
        "(\n",
        "    tally\n",
        "    .query('state_po == \"GA\" and year in (2016, 2020)')\n",
        "    .assign(share=lambda x: x.republican_votes / x.total_votes)\n",
        "    .sort_values('year')\n",
        ")"
      ]
    },
    {
      "cell_type": "code",
      "execution_count": 10,
      "metadata": {
        "execution": {
          "iopub.execute_input": "2024-06-09T13:00:48.213992Z",
          "iopub.status.busy": "2024-06-09T13:00:48.213913Z",
          "iopub.status.idle": "2024-06-09T13:00:48.223761Z",
          "shell.execute_reply": "2024-06-09T13:00:48.223534Z"
        }
      },
      "outputs": [
        {
          "data": {
            "text/html": [
              "<style type=\"text/css\">\n",
              "</style>\n",
              "<table id=\"T_dbed4\">\n",
              "  <thead>\n",
              "    <tr>\n",
              "      <th class=\"blank level0\" >&nbsp;</th>\n",
              "      <th id=\"T_dbed4_level0_col0\" class=\"col_heading level0 col0\" >diff</th>\n",
              "    </tr>\n",
              "    <tr>\n",
              "      <th class=\"index_name level0\" >year</th>\n",
              "      <th class=\"blank col0\" >&nbsp;</th>\n",
              "    </tr>\n",
              "  </thead>\n",
              "  <tbody>\n",
              "    <tr>\n",
              "      <th id=\"T_dbed4_level0_row0\" class=\"row_heading level0 row0\" >2016</th>\n",
              "      <td id=\"T_dbed4_row0_col0\" class=\"data row0 col0\" >-0.87%</td>\n",
              "    </tr>\n",
              "    <tr>\n",
              "      <th id=\"T_dbed4_level0_row1\" class=\"row_heading level0 row1\" >2020</th>\n",
              "      <td id=\"T_dbed4_row1_col0\" class=\"data row1 col0\" >+0.69%</td>\n",
              "    </tr>\n",
              "  </tbody>\n",
              "</table>\n"
            ],
            "text/plain": [
              "<pandas.io.formats.style.Styler at 0x11fc7f410>"
            ]
          },
          "execution_count": 10,
          "metadata": {},
          "output_type": "execute_result"
        }
      ],
      "source": [
        "(\n",
        "    explanation_by_state\n",
        "    .groupby('year')\n",
        "    [['inner', 'mix']]\n",
        "    .sum().sum(axis='columns')\n",
        "    .to_frame('diff')\n",
        "    .style.format('{:+.2%}')\n",
        ")"
      ]
    },
    {
      "cell_type": "code",
      "execution_count": 11,
      "metadata": {
        "execution": {
          "iopub.execute_input": "2024-06-09T13:00:48.225162Z",
          "iopub.status.busy": "2024-06-09T13:00:48.225090Z",
          "iopub.status.idle": "2024-06-09T13:00:48.315706Z",
          "shell.execute_reply": "2024-06-09T13:00:48.315438Z"
        }
      },
      "outputs": [],
      "source": [
        "import altair as alt\n",
        "import pandas as pd\n",
        "from vega_datasets import data\n",
        "\n",
        "# Load state geometries from vega_datasets\n",
        "states = alt.topo_feature(data.us_10m.url, 'states')\n",
        "\n",
        "# Map state IDs to state postal abbreviations\n",
        "state_id_to_abbr = {\n",
        "    1: 'AL', 2: 'AK', 4: 'AZ', 5: 'AR', 6: 'CA', 8: 'CO', 9: 'CT', 10: 'DE',\n",
        "    11: 'DC', 12: 'FL', 13: 'GA', 15: 'HI', 16: 'ID', 17: 'IL', 18: 'IN',\n",
        "    19: 'IA', 20: 'KS', 21: 'KY', 22: 'LA', 23: 'ME', 24: 'MD', 25: 'MA',\n",
        "    26: 'MI', 27: 'MN', 28: 'MS', 29: 'MO', 30: 'MT', 31: 'NE', 32: 'NV',\n",
        "    33: 'NH', 34: 'NJ', 35: 'NM', 36: 'NY', 37: 'NC', 38: 'ND', 39: 'OH',\n",
        "    40: 'OK', 41: 'OR', 42: 'PA', 44: 'RI', 45: 'SC', 46: 'SD', 47: 'TN',\n",
        "    48: 'TX', 49: 'UT', 50: 'VT', 51: 'VA', 53: 'WA', 54: 'WV', 55: 'WI',\n",
        "    56: 'WY'\n",
        "}\n",
        "\n",
        "# Convert this dictionary into a DataFrame\n",
        "state_abbr_df = pd.DataFrame(list(state_id_to_abbr.items()), columns=['id', 'state_po'])\n",
        "\n",
        "# Merge with your original dataframe\n",
        "merged_df = pd.merge(state_abbr_df, explanation_by_state, on='state_po', how='left')"
      ]
    },
    {
      "cell_type": "code",
      "execution_count": 12,
      "metadata": {
        "execution": {
          "iopub.execute_input": "2024-06-09T13:00:48.317312Z",
          "iopub.status.busy": "2024-06-09T13:00:48.317228Z",
          "iopub.status.idle": "2024-06-09T13:00:48.352155Z",
          "shell.execute_reply": "2024-06-09T13:00:48.351898Z"
        }
      },
      "outputs": [
        {
          "data": {
            "text/html": [
              "\n",
              "<style>\n",
              "  #altair-viz-d63be56f63684d2ca4b12d7def21acf0.vega-embed {\n",
              "    width: 100%;\n",
              "    display: flex;\n",
              "  }\n",
              "\n",
              "  #altair-viz-d63be56f63684d2ca4b12d7def21acf0.vega-embed details,\n",
              "  #altair-viz-d63be56f63684d2ca4b12d7def21acf0.vega-embed details summary {\n",
              "    position: relative;\n",
              "  }\n",
              "</style>\n",
              "<div id=\"altair-viz-d63be56f63684d2ca4b12d7def21acf0\"></div>\n",
              "<script type=\"text/javascript\">\n",
              "  var VEGA_DEBUG = (typeof VEGA_DEBUG == \"undefined\") ? {} : VEGA_DEBUG;\n",
              "  (function(spec, embedOpt){\n",
              "    let outputDiv = document.currentScript.previousElementSibling;\n",
              "    if (outputDiv.id !== \"altair-viz-d63be56f63684d2ca4b12d7def21acf0\") {\n",
              "      outputDiv = document.getElementById(\"altair-viz-d63be56f63684d2ca4b12d7def21acf0\");\n",
              "    }\n",
              "    const paths = {\n",
              "      \"vega\": \"https://cdn.jsdelivr.net/npm/vega@5?noext\",\n",
              "      \"vega-lib\": \"https://cdn.jsdelivr.net/npm/vega-lib?noext\",\n",
              "      \"vega-lite\": \"https://cdn.jsdelivr.net/npm/vega-lite@5.17.0?noext\",\n",
              "      \"vega-embed\": \"https://cdn.jsdelivr.net/npm/vega-embed@6?noext\",\n",
              "    };\n",
              "\n",
              "    function maybeLoadScript(lib, version) {\n",
              "      var key = `${lib.replace(\"-\", \"\")}_version`;\n",
              "      return (VEGA_DEBUG[key] == version) ?\n",
              "        Promise.resolve(paths[lib]) :\n",
              "        new Promise(function(resolve, reject) {\n",
              "          var s = document.createElement('script');\n",
              "          document.getElementsByTagName(\"head\")[0].appendChild(s);\n",
              "          s.async = true;\n",
              "          s.onload = () => {\n",
              "            VEGA_DEBUG[key] = version;\n",
              "            return resolve(paths[lib]);\n",
              "          };\n",
              "          s.onerror = () => reject(`Error loading script: ${paths[lib]}`);\n",
              "          s.src = paths[lib];\n",
              "        });\n",
              "    }\n",
              "\n",
              "    function showError(err) {\n",
              "      outputDiv.innerHTML = `<div class=\"error\" style=\"color:red;\">${err}</div>`;\n",
              "      throw err;\n",
              "    }\n",
              "\n",
              "    function displayChart(vegaEmbed) {\n",
              "      vegaEmbed(outputDiv, spec, embedOpt)\n",
              "        .catch(err => showError(`Javascript Error: ${err.message}<br>This usually means there's a typo in your chart specification. See the javascript console for the full traceback.`));\n",
              "    }\n",
              "\n",
              "    if(typeof define === \"function\" && define.amd) {\n",
              "      requirejs.config({paths});\n",
              "      require([\"vega-embed\"], displayChart, err => showError(`Error loading script: ${err.message}`));\n",
              "    } else {\n",
              "      maybeLoadScript(\"vega\", \"5\")\n",
              "        .then(() => maybeLoadScript(\"vega-lite\", \"5.17.0\"))\n",
              "        .then(() => maybeLoadScript(\"vega-embed\", \"6\"))\n",
              "        .catch(showError)\n",
              "        .then(() => displayChart(vegaEmbed));\n",
              "    }\n",
              "  })({\"config\": {\"view\": {\"continuousWidth\": 300, \"continuousHeight\": 300}}, \"hconcat\": [{\"mark\": {\"type\": \"geoshape\"}, \"encoding\": {\"color\": {\"field\": \"inner\", \"scale\": {\"domain\": [-0.00571797920138231, 0.002985662219402244], \"scheme\": \"reds\"}, \"type\": \"quantitative\"}, \"tooltip\": [{\"field\": \"state_po\", \"type\": \"nominal\"}, {\"field\": \"inner\", \"type\": \"quantitative\"}]}, \"height\": 300, \"projection\": {\"type\": \"albersUsa\"}, \"title\": \"Year 2016\", \"transform\": [{\"lookup\": \"id\", \"from\": {\"data\": {\"name\": \"data-f03c497093d7f7c2524685998c00fcb2\"}, \"key\": \"id\", \"fields\": [\"state_po\", \"inner\"]}}], \"width\": 400}, {\"mark\": {\"type\": \"geoshape\"}, \"encoding\": {\"color\": {\"field\": \"inner\", \"scale\": {\"domain\": [-0.00571797920138231, 0.002985662219402244], \"scheme\": \"reds\"}, \"type\": \"quantitative\"}, \"tooltip\": [{\"field\": \"state_po\", \"type\": \"nominal\"}, {\"field\": \"inner\", \"type\": \"quantitative\"}]}, \"height\": 300, \"projection\": {\"type\": \"albersUsa\"}, \"title\": \"Year 2020\", \"transform\": [{\"lookup\": \"id\", \"from\": {\"data\": {\"name\": \"data-fad992a3a55bd3fce1d29b486983a850\"}, \"key\": \"id\", \"fields\": [\"state_po\", \"inner\"]}}], \"width\": 400}], \"data\": {\"url\": \"https://cdn.jsdelivr.net/npm/vega-datasets@v1.29.0/data/us-10m.json\", \"format\": {\"feature\": \"states\", \"type\": \"topojson\"}}, \"resolve\": {\"scale\": {\"color\": \"shared\"}}, \"$schema\": \"https://vega.github.io/schema/vega-lite/v5.17.0.json\", \"datasets\": {\"data-f03c497093d7f7c2524685998c00fcb2\": [{\"id\": 1, \"state_po\": \"AL\", \"year\": 2016, \"inner\": 0.00022100719553002263, \"mix\": -7.069731873508123e-05}, {\"id\": 2, \"state_po\": \"AK\", \"year\": 2016, \"inner\": -8.132506892560045e-05, \"mix\": 3.576289354695204e-07}, {\"id\": 4, \"state_po\": \"AZ\", \"year\": 2016, \"inner\": -0.0010616952326670253, \"mix\": 9.487408655828602e-05}, {\"id\": 5, \"state_po\": \"AR\", \"year\": 2016, \"inner\": 3.872874474247387e-06, \"mix\": -1.3562147305482473e-06}, {\"id\": 6, \"state_po\": \"CA\", \"year\": 2016, \"inner\": -0.00571797920138231, \"mix\": -0.0002582064860437069}, {\"id\": 8, \"state_po\": \"CO\", \"year\": 2016, \"inner\": -0.0005853215328877308, \"mix\": -7.411984571366955e-08}, {\"id\": 9, \"state_po\": \"CT\", \"year\": 2016, \"inner\": 2.090417560591669e-05, \"mix\": 1.1285792329280412e-06}, {\"id\": 10, \"state_po\": \"DE\", \"year\": 2016, \"inner\": 5.8797901218236126e-05, \"mix\": -2.3365539617164564e-06}, {\"id\": 11, \"state_po\": \"DC\", \"year\": 2016, \"inner\": -7.276673393689959e-05, \"mix\": -1.5746180127152582e-06}, {\"id\": 12, \"state_po\": \"FL\", \"year\": 2016, \"inner\": -7.525242562935926e-05, \"mix\": 0.00010008147751214166}, {\"id\": 13, \"state_po\": \"GA\", \"year\": 2016, \"inner\": -0.0007619279873669023, \"mix\": -5.444805026296616e-06}, {\"id\": 15, \"state_po\": \"HI\", \"year\": 2016, \"inner\": 6.873481758132652e-05, \"mix\": 4.0654810317997015e-05}, {\"id\": 16, \"state_po\": \"ID\", \"year\": 2016, \"inner\": -0.00026727011098392063, \"mix\": 7.019591257154708e-07}, {\"id\": 17, \"state_po\": \"IL\", \"year\": 2016, \"inner\": -0.0008654865458463475, \"mix\": -5.68526321090954e-06}, {\"id\": 18, \"state_po\": \"IN\", \"year\": 2016, \"inner\": 0.0005639603805807313, \"mix\": -2.399517909209102e-05}, {\"id\": 19, \"state_po\": \"IA\", \"year\": 2016, \"inner\": 0.0005701720934311133, \"mix\": -2.8968104454646724e-07}, {\"id\": 20, \"state_po\": \"KS\", \"year\": 2016, \"inner\": -0.00026070906856711783, \"mix\": -3.8199218052645396e-05}, {\"id\": 21, \"state_po\": \"KY\", \"year\": 2016, \"inner\": 0.0002856808768107462, \"mix\": 2.442962635729568e-05}, {\"id\": 22, \"state_po\": \"LA\", \"year\": 2016, \"inner\": 4.520792546576675e-05, \"mix\": -6.832674493520023e-05}, {\"id\": 23, \"state_po\": \"ME\", \"year\": 2016, \"inner\": 0.00021723193190063716, \"mix\": 2.6776568395580275e-06}, {\"id\": 24, \"state_po\": \"MD\", \"year\": 2016, \"inner\": -0.0004052069946140848, \"mix\": 6.161504713827821e-05}, {\"id\": 25, \"state_po\": \"MA\", \"year\": 2016, \"inner\": -0.0010072473561462231, \"mix\": 4.804456911367319e-05}, {\"id\": 26, \"state_po\": \"MI\", \"year\": 2016, \"inner\": 0.00097983987571228, \"mix\": 2.144496163408967e-05}, {\"id\": 27, \"state_po\": \"MN\", \"year\": 2016, \"inner\": -7.208914574667397e-06, \"mix\": 1.3969658590395637e-05}, {\"id\": 28, \"state_po\": \"MS\", \"year\": 2016, \"inner\": 0.00023525933347648076, \"mix\": -0.00010077260886045738}, {\"id\": 29, \"state_po\": \"MO\", \"year\": 2016, \"inner\": 0.0006238655240703855, \"mix\": -6.089522262847982e-05}, {\"id\": 30, \"state_po\": \"MT\", \"year\": 2016, \"inner\": 2.927333032930816e-05, \"mix\": -9.940123499442372e-06}, {\"id\": 31, \"state_po\": \"NE\", \"year\": 2016, \"inner\": -6.530618241161956e-05, \"mix\": 4.01402088125673e-06}, {\"id\": 32, \"state_po\": \"NV\", \"year\": 2016, \"inner\": -1.4397677017875122e-05, \"mix\": -1.7711261688925177e-06}, {\"id\": 33, \"state_po\": \"NH\", \"year\": 2016, \"inner\": 2.8462014285221683e-06, \"mix\": -1.4890092849222826e-07}, {\"id\": 34, \"state_po\": \"NJ\", \"year\": 2016, \"inner\": 0.0002160288266981636, \"mix\": -9.63976295201033e-06}, {\"id\": 35, \"state_po\": \"NM\", \"year\": 2016, \"inner\": -0.00016381625271433392, \"mix\": 7.40868942767941e-06}, {\"id\": 36, \"state_po\": \"NY\", \"year\": 2016, \"inner\": 0.002842538322171471, \"mix\": -0.0002555131441211362}, {\"id\": 37, \"state_po\": \"NC\", \"year\": 2016, \"inner\": -0.00019626509249989982, \"mix\": -7.4080367886930585e-06}, {\"id\": 38, \"state_po\": \"ND\", \"year\": 2016, \"inner\": 0.00011706365321510167, \"mix\": 2.492130395684707e-06}, {\"id\": 39, \"state_po\": \"OH\", \"year\": 2016, \"inner\": 0.0016104821238421038, \"mix\": -4.6068679798399694e-05}, {\"id\": 40, \"state_po\": \"OK\", \"year\": 2016, \"inner\": -0.00015429947651100686, \"mix\": 6.211600371341475e-05}, {\"id\": 41, \"state_po\": \"OR\", \"year\": 2016, \"inner\": -0.0004480707199521945, \"mix\": -3.182069934082842e-05}, {\"id\": 42, \"state_po\": \"PA\", \"year\": 2016, \"inner\": 0.000849950010630768, \"mix\": 1.6622426877438898e-06}, {\"id\": 44, \"state_po\": \"RI\", \"year\": 2016, \"inner\": 0.00012527885855857202, \"mix\": 6.396555502723654e-06}, {\"id\": 45, \"state_po\": \"SC\", \"year\": 2016, \"inner\": 5.82726180870739e-05, \"mix\": 1.577655150951967e-05}, {\"id\": 46, \"state_po\": \"SD\", \"year\": 2016, \"inner\": 9.873709980547573e-05, \"mix\": -1.2665805807750407e-05}, {\"id\": 47, \"state_po\": \"TN\", \"year\": 2016, \"inner\": 0.0002284605851221596, \"mix\": -9.030780776303814e-05}, {\"id\": 48, \"state_po\": \"TX\", \"year\": 2016, \"inner\": -0.003241158374929514, \"mix\": 0.0004153033647473939}, {\"id\": 49, \"state_po\": \"UT\", \"year\": 2016, \"inner\": -0.002259074268260604, \"mix\": 0.00010793458684982942}, {\"id\": 50, \"state_po\": \"VT\", \"year\": 2016, \"inner\": -1.6254937244188933e-05, \"mix\": 1.6479026579794783e-06}, {\"id\": 51, \"state_po\": \"VA\", \"year\": 2016, \"inner\": -0.000839720684915291, \"mix\": -7.720531647747237e-06}, {\"id\": 53, \"state_po\": \"WA\", \"year\": 2016, \"inner\": -0.0007581884436608774, \"mix\": 3.4318955751106586e-05}, {\"id\": 54, \"state_po\": \"WV\", \"year\": 2016, \"inner\": 0.00033094675136977265, \"mix\": 4.645263822965323e-06}, {\"id\": 55, \"state_po\": \"WI\", \"year\": 2016, \"inner\": 0.00027421819250717384, \"mix\": 4.05340481467706e-06}, {\"id\": 56, \"state_po\": \"WY\", \"year\": 2016, \"inner\": -8.809830914559553e-06, \"mix\": -1.2501962290136566e-05}], \"data-fad992a3a55bd3fce1d29b486983a850\": [{\"id\": 1, \"state_po\": \"AL\", \"year\": 2020, \"inner\": -7.529424496970192e-06, \"mix\": -0.00013675273286103972}, {\"id\": 2, \"state_po\": \"AK\", \"year\": 2020, \"inner\": 4.078381877881317e-05, \"mix\": -3.4268957042668063e-06}, {\"id\": 4, \"state_po\": \"AZ\", \"year\": 2020, \"inner\": 0.00021260377901592654, \"mix\": 2.8683766242185034e-05}, {\"id\": 5, \"state_po\": \"AR\", \"year\": 2020, \"inner\": 0.0001370799441333824, \"mix\": -8.072126366155563e-05}, {\"id\": 6, \"state_po\": \"CA\", \"year\": 2020, \"inner\": 0.002985662219402244, \"mix\": -0.0009936907085482919}, {\"id\": 8, \"state_po\": \"CO\", \"year\": 2020, \"inner\": -0.0002781636881612072, \"mix\": -6.538149003224627e-06}, {\"id\": 9, \"state_po\": \"CT\", \"year\": 2020, \"inner\": -0.00020022795568683406, \"mix\": 3.205734445305681e-05}, {\"id\": 10, \"state_po\": \"DE\", \"year\": 2020, \"inner\": -6.323425791652636e-05, \"mix\": 3.2915811978055917e-06}, {\"id\": 11, \"state_po\": \"DC\", \"year\": 2020, \"inner\": 2.846189257495228e-05, \"mix\": 4.598855832383233e-05}, {\"id\": 12, \"state_po\": \"FL\", \"year\": 2020, \"inner\": 0.0015349244531564885, \"mix\": 1.7967065865419095e-05}, {\"id\": 13, \"state_po\": \"GA\", \"year\": 2020, \"inner\": -0.00047938732002167237, \"mix\": 5.492414126946969e-05}, {\"id\": 15, \"state_po\": \"HI\", \"year\": 2020, \"inner\": 0.0001533081709890979, \"mix\": -8.099286208921238e-05}, {\"id\": 16, \"state_po\": \"ID\", \"year\": 2020, \"inner\": 0.0002539241205883725, \"mix\": 5.1474353597453694e-05}, {\"id\": 17, \"state_po\": \"IL\", \"year\": 2020, \"inner\": 0.0007413186119366058, \"mix\": 0.0002181974254269796}, {\"id\": 18, \"state_po\": \"IN\", \"year\": 2020, \"inner\": 1.551580590059489e-05, \"mix\": -9.080338180559882e-05}, {\"id\": 19, \"state_po\": \"IA\", \"year\": 2020, \"inner\": 0.0002345692589302483, \"mix\": -3.4687733832131503e-05}, {\"id\": 20, \"state_po\": \"KS\", \"year\": 2020, \"inner\": -3.8276183602115645e-05, \"mix\": -1.7847932759828855e-06}, {\"id\": 21, \"state_po\": \"KY\", \"year\": 2020, \"inner\": -5.283932294803213e-05, \"mix\": -9.808329409832247e-05}, {\"id\": 22, \"state_po\": \"LA\", \"year\": 2020, \"inner\": 5.044941635233709e-05, \"mix\": -0.00014759117754431346}, {\"id\": 23, \"state_po\": \"ME\", \"year\": 2020, \"inner\": -6.58203837484413e-05, \"mix\": 4.7093094045958485e-06}, {\"id\": 24, \"state_po\": \"MD\", \"year\": 2020, \"inner\": -0.000337098256047884, \"mix\": 0.00015693294918192244}, {\"id\": 25, \"state_po\": \"MA\", \"year\": 2020, \"inner\": -0.00032455596530138204, \"mix\": 0.0001228409379081643}, {\"id\": 26, \"state_po\": \"MI\", \"year\": 2020, \"inner\": 0.00011874627900577507, \"mix\": -1.3857229507936414e-06}, {\"id\": 27, \"state_po\": \"MN\", \"year\": 2020, \"inner\": 7.447719379495956e-05, \"mix\": 1.7094411684082904e-05}, {\"id\": 28, \"state_po\": \"MS\", \"year\": 2020, \"inner\": -2.8026913655463348e-05, \"mix\": -6.336305680085655e-05}, {\"id\": 29, \"state_po\": \"MO\", \"year\": 2020, \"inner\": 4.879616728937123e-07, \"mix\": -0.00014689178546924402}, {\"id\": 30, \"state_po\": \"MT\", \"year\": 2020, \"inner\": 2.868871232847057e-05, \"mix\": 1.5560336605801012e-05}, {\"id\": 31, \"state_po\": \"NE\", \"year\": 2020, \"inner\": -1.4258219340653726e-05, \"mix\": -2.142710182754053e-05}, {\"id\": 32, \"state_po\": \"NV\", \"year\": 2020, \"inner\": 0.0001915978572757933, \"mix\": -8.25885428035766e-06}, {\"id\": 33, \"state_po\": \"NH\", \"year\": 2020, \"inner\": -4.9156213209306e-05, \"mix\": 1.424813648618354e-06}, {\"id\": 34, \"state_po\": \"NJ\", \"year\": 2020, \"inner\": 1.3244528983087624e-05, \"mix\": -1.774291537135512e-05}, {\"id\": 35, \"state_po\": \"NM\", \"year\": 2020, \"inner\": 0.00020138768504121578, \"mix\": 1.2617039743268517e-06}, {\"id\": 36, \"state_po\": \"NY\", \"year\": 2020, \"inner\": 0.000515469244753954, \"mix\": 0.00018686582170878273}, {\"id\": 37, \"state_po\": \"NC\", \"year\": 2020, \"inner\": 3.7036618915334695e-05, \"mix\": 3.682236418093017e-06}, {\"id\": 38, \"state_po\": \"ND\", \"year\": 2020, \"inner\": 4.927913614135093e-05, \"mix\": -3.866941822669056e-05}, {\"id\": 39, \"state_po\": \"OH\", \"year\": 2020, \"inner\": 0.0005918039266479304, \"mix\": -0.00014080889986050525}, {\"id\": 40, \"state_po\": \"OK\", \"year\": 2020, \"inner\": 4.964160634834768e-06, \"mix\": -0.0001474015035284713}, {\"id\": 41, \"state_po\": \"OR\", \"year\": 2020, \"inner\": 0.00019075474376884085, \"mix\": -2.4717100974199096e-05}, {\"id\": 42, \"state_po\": \"PA\", \"year\": 2020, \"inner\": 0.00011595246153430827, \"mix\": -2.0390012221931254e-05}, {\"id\": 44, \"state_po\": \"RI\", \"year\": 2020, \"inner\": -8.092329477674816e-06, \"mix\": 1.0786284917530507e-05}, {\"id\": 45, \"state_po\": \"SC\", \"year\": 2020, \"inner\": 2.7113317435215398e-05, \"mix\": 3.660154906743536e-05}, {\"id\": 46, \"state_po\": \"SD\", \"year\": 2020, \"inner\": 6.3637963650676095e-06, \"mix\": -6.582496604550902e-06}, {\"id\": 47, \"state_po\": \"TN\", \"year\": 2020, \"inner\": -1.1897253802675894e-05, \"mix\": 0.000124311031796205}, {\"id\": 48, \"state_po\": \"TX\", \"year\": 2020, \"inner\": -0.00012643480554549633, \"mix\": 0.0003071507613555394}, {\"id\": 49, \"state_po\": \"UT\", \"year\": 2020, \"inner\": 0.0011622186803793538, \"mix\": -1.4843206946467953e-05}, {\"id\": 50, \"state_po\": \"VT\", \"year\": 2020, \"inner\": 2.931847179836085e-06, \"mix\": -5.223417808729247e-06}, {\"id\": 51, \"state_po\": \"VA\", \"year\": 2020, \"inner\": -0.00012155280909606771, \"mix\": 2.5085654215630743e-05}, {\"id\": 53, \"state_po\": \"WA\", \"year\": 2020, \"inner\": 0.00017977989349453284, \"mix\": -0.00019988159790201228}, {\"id\": 54, \"state_po\": \"WV\", \"year\": 2020, \"inner\": 4.899563030381673e-08, \"mix\": -4.574082468049409e-05}, {\"id\": 55, \"state_po\": \"WI\", \"year\": 2020, \"inner\": 0.00033975258849161934, \"mix\": -3.615951859669822e-06}, {\"id\": 56, \"state_po\": \"WY\", \"year\": 2020, \"inner\": 2.332317742909165e-05, \"mix\": -2.4988604957607916e-05}]}}, {\"mode\": \"vega-lite\"});\n",
              "</script>"
            ],
            "text/plain": [
              "alt.HConcatChart(...)"
            ]
          },
          "execution_count": 12,
          "metadata": {},
          "output_type": "execute_result"
        }
      ],
      "source": [
        "# Define the color scale\n",
        "color_scale = alt.Scale(domain=[merged_df['inner'].min(), merged_df['inner'].max()], scheme='reds')\n",
        "\n",
        "# Create a chart for the year 2020\n",
        "chart_2020 = alt.Chart(states).mark_geoshape().encode(\n",
        "    color=alt.Color('inner:Q', scale=color_scale),\n",
        "    tooltip=['state_po:N', 'inner:Q']\n",
        ").transform_lookup(\n",
        "    lookup='id',\n",
        "    from_=alt.LookupData(merged_df[merged_df['year'] == 2016], 'id', ['state_po', 'inner'])\n",
        ").project(\n",
        "    type='albersUsa'\n",
        ").properties(\n",
        "    width=400,\n",
        "    height=300,\n",
        "    title='Year 2016'\n",
        ")\n",
        "\n",
        "# Create a chart for the year 2021\n",
        "chart_2021 = alt.Chart(states).mark_geoshape().encode(\n",
        "    color=alt.Color('inner:Q', scale=color_scale),\n",
        "    tooltip=['state_po:N', 'inner:Q']\n",
        ").transform_lookup(\n",
        "    lookup='id',\n",
        "    from_=alt.LookupData(merged_df[merged_df['year'] == 2020], 'id', ['state_po', 'inner'])\n",
        ").project(\n",
        "    type='albersUsa'\n",
        ").properties(\n",
        "    width=400,\n",
        "    height=300,\n",
        "    title='Year 2020'\n",
        ")\n",
        "\n",
        "# Combine the charts\n",
        "combined_chart = alt.hconcat(chart_2020, chart_2021).resolve_scale(\n",
        "    color='shared'\n",
        ")\n",
        "\n",
        "combined_chart\n"
      ]
    }
  ],
  "metadata": {
    "kernelspec": {
      "display_name": "icanexplain-6HGw6v_q-py3.11",
      "language": "python",
      "name": "python3"
    },
    "language_info": {
      "codemirror_mode": {
        "name": "ipython",
        "version": 3
      },
      "file_extension": ".py",
      "mimetype": "text/x-python",
      "name": "python",
      "nbconvert_exporter": "python",
      "pygments_lexer": "ipython3",
      "version": "3.11.4"
    }
  },
  "nbformat": 4,
  "nbformat_minor": 2
}
