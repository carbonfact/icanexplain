{
  "cells": [
    {
      "cell_type": "markdown",
      "metadata": {},
      "source": [
        "# Natality decrease\n",
        "\n",
        "It's well known that the [birth rate](https://en.wikipedia.org/wiki/Birth_rate) of humans on Earth decreased in modern times. It's interesting to evaluate the drivers of this decrease.\n",
        "\n",
        "OurWorldInData has a [great article](https://ourworldindata.org/fertility-rate) about this topic. They also provide [some](https://ourworldindata.org/population-growth) [data](https://ourworldindata.org/grapher/births-and-deaths-projected-to-2100) that is made available in this library."
      ]
    },
    {
      "cell_type": "code",
      "execution_count": 76,
      "metadata": {
        "execution": {
          "iopub.execute_input": "2024-07-06T22:49:46.745772Z",
          "iopub.status.busy": "2024-07-06T22:49:46.744961Z",
          "iopub.status.idle": "2024-07-06T22:49:46.936245Z",
          "shell.execute_reply": "2024-07-06T22:49:46.935999Z"
        }
      },
      "outputs": [
        {
          "data": {
            "text/html": [
              "<style type=\"text/css\">\n",
              "</style>\n",
              "<table id=\"T_016df\">\n",
              "  <thead>\n",
              "    <tr>\n",
              "      <th class=\"blank level0\" >&nbsp;</th>\n",
              "      <th id=\"T_016df_level0_col0\" class=\"col_heading level0 col0\" >country</th>\n",
              "      <th id=\"T_016df_level0_col1\" class=\"col_heading level0 col1\" >continent</th>\n",
              "      <th id=\"T_016df_level0_col2\" class=\"col_heading level0 col2\" >year</th>\n",
              "      <th id=\"T_016df_level0_col3\" class=\"col_heading level0 col3\" >population</th>\n",
              "      <th id=\"T_016df_level0_col4\" class=\"col_heading level0 col4\" >births</th>\n",
              "      <th id=\"T_016df_level0_col5\" class=\"col_heading level0 col5\" >deaths</th>\n",
              "    </tr>\n",
              "  </thead>\n",
              "  <tbody>\n",
              "    <tr>\n",
              "      <th id=\"T_016df_level0_row0\" class=\"row_heading level0 row0\" >623</th>\n",
              "      <td id=\"T_016df_row0_col0\" class=\"data row0 col0\" >Taiwan</td>\n",
              "      <td id=\"T_016df_row0_col1\" class=\"data row0 col1\" >Asia</td>\n",
              "      <td id=\"T_016df_row0_col2\" class=\"data row0 col2\" >2020</td>\n",
              "      <td id=\"T_016df_row0_col3\" class=\"data row0 col3\" >23,821,468</td>\n",
              "      <td id=\"T_016df_row0_col4\" class=\"data row0 col4\" >186,897</td>\n",
              "      <td id=\"T_016df_row0_col5\" class=\"data row0 col5\" >172,149</td>\n",
              "    </tr>\n",
              "    <tr>\n",
              "      <th id=\"T_016df_level0_row1\" class=\"row_heading level0 row1\" >645</th>\n",
              "      <td id=\"T_016df_row1_col0\" class=\"data row1 col0\" >Tunisia</td>\n",
              "      <td id=\"T_016df_row1_col1\" class=\"data row1 col1\" >Africa</td>\n",
              "      <td id=\"T_016df_row1_col2\" class=\"data row1 col2\" >1960</td>\n",
              "      <td id=\"T_016df_row1_col3\" class=\"data row1 col3\" >4,195,466</td>\n",
              "      <td id=\"T_016df_row1_col4\" class=\"data row1 col4\" >197,446</td>\n",
              "      <td id=\"T_016df_row1_col5\" class=\"data row1 col5\" >91,090</td>\n",
              "    </tr>\n",
              "    <tr>\n",
              "      <th id=\"T_016df_level0_row2\" class=\"row_heading level0 row2\" >437</th>\n",
              "      <td id=\"T_016df_row2_col0\" class=\"data row2 col0\" >Namibia</td>\n",
              "      <td id=\"T_016df_row2_col1\" class=\"data row2 col1\" >Africa</td>\n",
              "      <td id=\"T_016df_row2_col2\" class=\"data row2 col2\" >2020</td>\n",
              "      <td id=\"T_016df_row2_col3\" class=\"data row2 col3\" >2,489,099</td>\n",
              "      <td id=\"T_016df_row2_col4\" class=\"data row2 col4\" >69,444</td>\n",
              "      <td id=\"T_016df_row2_col5\" class=\"data row2 col5\" >21,112</td>\n",
              "    </tr>\n",
              "    <tr>\n",
              "      <th id=\"T_016df_level0_row3\" class=\"row_heading level0 row3\" >240</th>\n",
              "      <td id=\"T_016df_row3_col0\" class=\"data row3 col0\" >Gibraltar</td>\n",
              "      <td id=\"T_016df_row3_col1\" class=\"data row3 col1\" >Europe</td>\n",
              "      <td id=\"T_016df_row3_col2\" class=\"data row3 col2\" >1960</td>\n",
              "      <td id=\"T_016df_row3_col3\" class=\"data row3 col3\" >21,845</td>\n",
              "      <td id=\"T_016df_row3_col4\" class=\"data row3 col4\" >475</td>\n",
              "      <td id=\"T_016df_row3_col5\" class=\"data row3 col5\" >188</td>\n",
              "    </tr>\n",
              "    <tr>\n",
              "      <th id=\"T_016df_level0_row4\" class=\"row_heading level0 row4\" >640</th>\n",
              "      <td id=\"T_016df_row4_col0\" class=\"data row4 col0\" >Tonga</td>\n",
              "      <td id=\"T_016df_row4_col1\" class=\"data row4 col1\" >Oceania</td>\n",
              "      <td id=\"T_016df_row4_col2\" class=\"data row4 col2\" >1990</td>\n",
              "      <td id=\"T_016df_row4_col3\" class=\"data row4 col3\" >98,744</td>\n",
              "      <td id=\"T_016df_row4_col4\" class=\"data row4 col4\" >3,060</td>\n",
              "      <td id=\"T_016df_row4_col5\" class=\"data row4 col5\" >683</td>\n",
              "    </tr>\n",
              "  </tbody>\n",
              "</table>\n"
            ],
            "text/plain": [
              "<pandas.io.formats.style.Styler at 0x157c63450>"
            ]
          },
          "execution_count": 76,
          "metadata": {},
          "output_type": "execute_result"
        }
      ],
      "source": [
        "import icanexplain as ice\n",
        "\n",
        "demography = ice.datasets.load_world_demography()\n",
        "demography = demography.query('year in (1960, 1990, 2020)')\n",
        "demography.sample(5).style.format({'population': '{:,d}', 'births': '{:,d}', 'deaths': '{:,d}'})"
      ]
    },
    {
      "cell_type": "markdown",
      "metadata": {},
      "source": [
        "We can calculate the birth by dividing the number of births by the total population at any given year. This isn't *exactly* the \"official\" definition of birth rate, but it's a good enough approximation."
      ]
    },
    {
      "cell_type": "code",
      "execution_count": 2,
      "metadata": {
        "execution": {
          "iopub.execute_input": "2024-07-06T22:49:46.937885Z",
          "iopub.status.busy": "2024-07-06T22:49:46.937774Z",
          "iopub.status.idle": "2024-07-06T22:49:46.948107Z",
          "shell.execute_reply": "2024-07-06T22:49:46.947861Z"
        }
      },
      "outputs": [
        {
          "data": {
            "text/html": [
              "<style type=\"text/css\">\n",
              "</style>\n",
              "<table id=\"T_226dd\">\n",
              "  <thead>\n",
              "    <tr>\n",
              "      <th class=\"blank level0\" >&nbsp;</th>\n",
              "      <th id=\"T_226dd_level0_col0\" class=\"col_heading level0 col0\" >year</th>\n",
              "      <th id=\"T_226dd_level0_col1\" class=\"col_heading level0 col1\" >birth_per_capita</th>\n",
              "      <th id=\"T_226dd_level0_col2\" class=\"col_heading level0 col2\" >diff</th>\n",
              "    </tr>\n",
              "  </thead>\n",
              "  <tbody>\n",
              "    <tr>\n",
              "      <th id=\"T_226dd_level0_row0\" class=\"row_heading level0 row0\" >0</th>\n",
              "      <td id=\"T_226dd_row0_col0\" class=\"data row0 col0\" >1960</td>\n",
              "      <td id=\"T_226dd_row0_col1\" class=\"data row0 col1\" >3.39%</td>\n",
              "      <td id=\"T_226dd_row0_col2\" class=\"data row0 col2\" ></td>\n",
              "    </tr>\n",
              "    <tr>\n",
              "      <th id=\"T_226dd_level0_row1\" class=\"row_heading level0 row1\" >1</th>\n",
              "      <td id=\"T_226dd_row1_col0\" class=\"data row1 col0\" >1990</td>\n",
              "      <td id=\"T_226dd_row1_col1\" class=\"data row1 col1\" >2.68%</td>\n",
              "      <td id=\"T_226dd_row1_col2\" class=\"data row1 col2\" >-0.71%</td>\n",
              "    </tr>\n",
              "    <tr>\n",
              "      <th id=\"T_226dd_level0_row2\" class=\"row_heading level0 row2\" >2</th>\n",
              "      <td id=\"T_226dd_row2_col0\" class=\"data row2 col0\" >2020</td>\n",
              "      <td id=\"T_226dd_row2_col1\" class=\"data row2 col1\" >1.72%</td>\n",
              "      <td id=\"T_226dd_row2_col2\" class=\"data row2 col2\" >-0.96%</td>\n",
              "    </tr>\n",
              "  </tbody>\n",
              "</table>\n"
            ],
            "text/plain": [
              "<pandas.io.formats.style.Styler at 0x13fd8ae50>"
            ]
          },
          "execution_count": 2,
          "metadata": {},
          "output_type": "execute_result"
        }
      ],
      "source": [
        "(\n",
        "    demography\n",
        "    .groupby('year')\n",
        "    [['births', 'population']].sum()\n",
        "    .reset_index()\n",
        "    .assign(birth_per_capita=lambda x: x.births / x.population)\n",
        "    .assign(diff=lambda x: x.birth_per_capita.diff())\n",
        "    [['year', 'birth_per_capita', 'diff']]\n",
        "    .style.format({'birth_per_capita': '{:.2%}', 'diff': '{:+.2%}'}, na_rep='')\n",
        ")"
      ]
    },
    {
      "cell_type": "markdown",
      "metadata": {},
      "source": [
        "We're limiting the analysis to 1960, 1990, and 2020 for the sake of simplicity. The data shows that the births per capita went down from 3.39% in 1960 to 1.72% in 2020.\n",
        "\n",
        "The birth rate is a ratio metric. That is, it is the ratio of the number of births to the total population."
      ]
    },
    {
      "cell_type": "code",
      "execution_count": 3,
      "metadata": {
        "execution": {
          "iopub.execute_input": "2024-07-06T22:49:46.949555Z",
          "iopub.status.busy": "2024-07-06T22:49:46.949469Z",
          "iopub.status.idle": "2024-07-06T22:49:47.125752Z",
          "shell.execute_reply": "2024-07-06T22:49:47.125462Z"
        }
      },
      "outputs": [
        {
          "data": {
            "text/html": [
              "<style type=\"text/css\">\n",
              "</style>\n",
              "<table id=\"T_a4a6b\">\n",
              "  <thead>\n",
              "    <tr>\n",
              "      <th class=\"blank\" >&nbsp;</th>\n",
              "      <th class=\"blank level0\" >&nbsp;</th>\n",
              "      <th id=\"T_a4a6b_level0_col0\" class=\"col_heading level0 col0\" >inner</th>\n",
              "      <th id=\"T_a4a6b_level0_col1\" class=\"col_heading level0 col1\" >mix</th>\n",
              "    </tr>\n",
              "    <tr>\n",
              "      <th class=\"index_name level0\" >year</th>\n",
              "      <th class=\"index_name level1\" >continent</th>\n",
              "      <th class=\"blank col0\" >&nbsp;</th>\n",
              "      <th class=\"blank col1\" >&nbsp;</th>\n",
              "    </tr>\n",
              "  </thead>\n",
              "  <tbody>\n",
              "    <tr>\n",
              "      <th id=\"T_a4a6b_level0_row0\" class=\"row_heading level0 row0\" rowspan=\"6\">1990</th>\n",
              "      <th id=\"T_a4a6b_level1_row0\" class=\"row_heading level1 row0\" >Africa</th>\n",
              "      <td id=\"T_a4a6b_row0_col0\" class=\"data row0 col0\" >-0.07%</td>\n",
              "      <td id=\"T_a4a6b_row0_col1\" class=\"data row0 col1\" >+0.05%</td>\n",
              "    </tr>\n",
              "    <tr>\n",
              "      <th id=\"T_a4a6b_level1_row1\" class=\"row_heading level1 row1\" >Asia</th>\n",
              "      <td id=\"T_a4a6b_row1_col0\" class=\"data row1 col0\" >-0.54%</td>\n",
              "      <td id=\"T_a4a6b_row1_col1\" class=\"data row1 col1\" >+0.04%</td>\n",
              "    </tr>\n",
              "    <tr>\n",
              "      <th id=\"T_a4a6b_level1_row2\" class=\"row_heading level1 row2\" >Europe</th>\n",
              "      <td id=\"T_a4a6b_row2_col0\" class=\"data row2 col0\" >-0.10%</td>\n",
              "      <td id=\"T_a4a6b_row2_col1\" class=\"data row2 col1\" >+0.04%</td>\n",
              "    </tr>\n",
              "    <tr>\n",
              "      <th id=\"T_a4a6b_level1_row3\" class=\"row_heading level1 row3\" >North America</th>\n",
              "      <td id=\"T_a4a6b_row3_col0\" class=\"data row3 col0\" >-0.06%</td>\n",
              "      <td id=\"T_a4a6b_row3_col1\" class=\"data row3 col1\" >-0.00%</td>\n",
              "    </tr>\n",
              "    <tr>\n",
              "      <th id=\"T_a4a6b_level1_row4\" class=\"row_heading level1 row4\" >Oceania</th>\n",
              "      <td id=\"T_a4a6b_row4_col0\" class=\"data row4 col0\" >-0.00%</td>\n",
              "      <td id=\"T_a4a6b_row4_col1\" class=\"data row4 col1\" >-0.00%</td>\n",
              "    </tr>\n",
              "    <tr>\n",
              "      <th id=\"T_a4a6b_level1_row5\" class=\"row_heading level1 row5\" >South America</th>\n",
              "      <td id=\"T_a4a6b_row5_col0\" class=\"data row5 col0\" >-0.08%</td>\n",
              "      <td id=\"T_a4a6b_row5_col1\" class=\"data row5 col1\" >+0.01%</td>\n",
              "    </tr>\n",
              "    <tr>\n",
              "      <th id=\"T_a4a6b_level0_row6\" class=\"row_heading level0 row6\" rowspan=\"6\">2020</th>\n",
              "      <th id=\"T_a4a6b_level1_row6\" class=\"row_heading level1 row6\" >Africa</th>\n",
              "      <td id=\"T_a4a6b_row6_col0\" class=\"data row6 col0\" >-0.16%</td>\n",
              "      <td id=\"T_a4a6b_row6_col1\" class=\"data row6 col1\" >+0.13%</td>\n",
              "    </tr>\n",
              "    <tr>\n",
              "      <th id=\"T_a4a6b_level1_row7\" class=\"row_heading level1 row7\" >Asia</th>\n",
              "      <td id=\"T_a4a6b_row7_col0\" class=\"data row7 col0\" >-0.78%</td>\n",
              "      <td id=\"T_a4a6b_row7_col1\" class=\"data row7 col1\" >-0.01%</td>\n",
              "    </tr>\n",
              "    <tr>\n",
              "      <th id=\"T_a4a6b_level1_row8\" class=\"row_heading level1 row8\" >Europe</th>\n",
              "      <td id=\"T_a4a6b_row8_col0\" class=\"data row8 col0\" >-0.03%</td>\n",
              "      <td id=\"T_a4a6b_row8_col1\" class=\"data row8 col1\" >+0.02%</td>\n",
              "    </tr>\n",
              "    <tr>\n",
              "      <th id=\"T_a4a6b_level1_row9\" class=\"row_heading level1 row9\" >North America</th>\n",
              "      <td id=\"T_a4a6b_row9_col0\" class=\"data row9 col0\" >-0.06%</td>\n",
              "      <td id=\"T_a4a6b_row9_col1\" class=\"data row9 col1\" >-0.00%</td>\n",
              "    </tr>\n",
              "    <tr>\n",
              "      <th id=\"T_a4a6b_level1_row10\" class=\"row_heading level1 row10\" >Oceania</th>\n",
              "      <td id=\"T_a4a6b_row10_col0\" class=\"data row10 col0\" >-0.00%</td>\n",
              "      <td id=\"T_a4a6b_row10_col1\" class=\"data row10 col1\" >+0.00%</td>\n",
              "    </tr>\n",
              "    <tr>\n",
              "      <th id=\"T_a4a6b_level1_row11\" class=\"row_heading level1 row11\" >South America</th>\n",
              "      <td id=\"T_a4a6b_row11_col0\" class=\"data row11 col0\" >-0.06%</td>\n",
              "      <td id=\"T_a4a6b_row11_col1\" class=\"data row11 col1\" >-0.00%</td>\n",
              "    </tr>\n",
              "  </tbody>\n",
              "</table>\n"
            ],
            "text/plain": [
              "<pandas.io.formats.style.Styler at 0x13fda04d0>"
            ]
          },
          "execution_count": 3,
          "metadata": {},
          "output_type": "execute_result"
        }
      ],
      "source": [
        "explainer = ice.MeanExplainer(\n",
        "    fact='births',\n",
        "    count='population',\n",
        "    period='year',\n",
        "    group='continent',\n",
        ")\n",
        "\n",
        "explanation = explainer(demography)\n",
        "(\n",
        "    explanation\n",
        "    .style.format({'inner': '{:+.2%}', 'mix': '{:+.2%}'}, na_rep='')\n",
        ")"
      ]
    },
    {
      "cell_type": "code",
      "execution_count": 4,
      "metadata": {
        "execution": {
          "iopub.execute_input": "2024-07-06T22:49:47.127241Z",
          "iopub.status.busy": "2024-07-06T22:49:47.127142Z",
          "iopub.status.idle": "2024-07-06T22:49:47.315516Z",
          "shell.execute_reply": "2024-07-06T22:49:47.315269Z"
        }
      },
      "outputs": [
        {
          "data": {
            "text/html": [
              "\n",
              "<style>\n",
              "  #altair-viz-0830d23f9697487ea1bf3f59d7b2253d.vega-embed {\n",
              "    width: 100%;\n",
              "    display: flex;\n",
              "  }\n",
              "\n",
              "  #altair-viz-0830d23f9697487ea1bf3f59d7b2253d.vega-embed details,\n",
              "  #altair-viz-0830d23f9697487ea1bf3f59d7b2253d.vega-embed details summary {\n",
              "    position: relative;\n",
              "  }\n",
              "</style>\n",
              "<div id=\"altair-viz-0830d23f9697487ea1bf3f59d7b2253d\"></div>\n",
              "<script type=\"text/javascript\">\n",
              "  var VEGA_DEBUG = (typeof VEGA_DEBUG == \"undefined\") ? {} : VEGA_DEBUG;\n",
              "  (function(spec, embedOpt){\n",
              "    let outputDiv = document.currentScript.previousElementSibling;\n",
              "    if (outputDiv.id !== \"altair-viz-0830d23f9697487ea1bf3f59d7b2253d\") {\n",
              "      outputDiv = document.getElementById(\"altair-viz-0830d23f9697487ea1bf3f59d7b2253d\");\n",
              "    }\n",
              "    const paths = {\n",
              "      \"vega\": \"https://cdn.jsdelivr.net/npm/vega@5?noext\",\n",
              "      \"vega-lib\": \"https://cdn.jsdelivr.net/npm/vega-lib?noext\",\n",
              "      \"vega-lite\": \"https://cdn.jsdelivr.net/npm/vega-lite@5.17.0?noext\",\n",
              "      \"vega-embed\": \"https://cdn.jsdelivr.net/npm/vega-embed@6?noext\",\n",
              "    };\n",
              "\n",
              "    function maybeLoadScript(lib, version) {\n",
              "      var key = `${lib.replace(\"-\", \"\")}_version`;\n",
              "      return (VEGA_DEBUG[key] == version) ?\n",
              "        Promise.resolve(paths[lib]) :\n",
              "        new Promise(function(resolve, reject) {\n",
              "          var s = document.createElement('script');\n",
              "          document.getElementsByTagName(\"head\")[0].appendChild(s);\n",
              "          s.async = true;\n",
              "          s.onload = () => {\n",
              "            VEGA_DEBUG[key] = version;\n",
              "            return resolve(paths[lib]);\n",
              "          };\n",
              "          s.onerror = () => reject(`Error loading script: ${paths[lib]}`);\n",
              "          s.src = paths[lib];\n",
              "        });\n",
              "    }\n",
              "\n",
              "    function showError(err) {\n",
              "      outputDiv.innerHTML = `<div class=\"error\" style=\"color:red;\">${err}</div>`;\n",
              "      throw err;\n",
              "    }\n",
              "\n",
              "    function displayChart(vegaEmbed) {\n",
              "      vegaEmbed(outputDiv, spec, embedOpt)\n",
              "        .catch(err => showError(`Javascript Error: ${err.message}<br>This usually means there's a typo in your chart specification. See the javascript console for the full traceback.`));\n",
              "    }\n",
              "\n",
              "    if(typeof define === \"function\" && define.amd) {\n",
              "      requirejs.config({paths});\n",
              "      require([\"vega-embed\"], displayChart, err => showError(`Error loading script: ${err.message}`));\n",
              "    } else {\n",
              "      maybeLoadScript(\"vega\", \"5\")\n",
              "        .then(() => maybeLoadScript(\"vega-lite\", \"5.17.0\"))\n",
              "        .then(() => maybeLoadScript(\"vega-embed\", \"6\"))\n",
              "        .catch(showError)\n",
              "        .then(() => displayChart(vegaEmbed));\n",
              "    }\n",
              "  })({\"config\": {\"view\": {\"continuousWidth\": 300, \"continuousHeight\": 300}}, \"layer\": [{\"data\": {\"name\": \"data-f1de58efd137c02a08a765735cd625ec\"}, \"mark\": {\"type\": \"bar\"}, \"encoding\": {\"tooltip\": [{\"field\": \"total\", \"type\": \"quantitative\"}], \"x\": {\"field\": \"total\", \"type\": \"quantitative\"}, \"y\": {\"field\": \"label\", \"sort\": null, \"type\": \"ordinal\"}}, \"name\": \"view_1\"}, {\"data\": {\"name\": \"data-4b6665332cff17cbafdd79e1d5cddb3b\"}, \"mark\": {\"type\": \"bar\"}, \"encoding\": {\"color\": {\"field\": \"is_positive\", \"legend\": null, \"scale\": {\"domain\": [true, false], \"range\": [\"green\", \"red\"]}, \"type\": \"nominal\"}, \"tooltip\": [{\"field\": \"year\", \"type\": \"quantitative\"}, {\"field\": \"continent\", \"type\": \"nominal\"}, {\"field\": \"kind\", \"type\": \"nominal\"}, {\"field\": \"impact\", \"type\": \"quantitative\"}], \"x\": {\"axis\": {\"title\": \"births\"}, \"field\": \"start\", \"type\": \"quantitative\"}, \"x2\": {\"field\": \"end\"}, \"y\": {\"axis\": {\"title\": null}, \"field\": \"label\", \"sort\": null, \"type\": \"ordinal\"}}}, {\"data\": {\"name\": \"data-a07dc84afb5fdd476d7499ca18c0eaa5\"}, \"mark\": {\"type\": \"bar\"}, \"encoding\": {\"tooltip\": [{\"field\": \"total\", \"type\": \"quantitative\"}], \"x\": {\"field\": \"total\", \"type\": \"quantitative\"}, \"y\": {\"field\": \"label\", \"sort\": null, \"type\": \"ordinal\"}}}, {\"data\": {\"name\": \"data-241fac17129089c28a97ca39c7928b1a\"}, \"mark\": {\"type\": \"bar\"}, \"encoding\": {\"color\": {\"field\": \"is_positive\", \"legend\": null, \"scale\": {\"domain\": [true, false], \"range\": [\"green\", \"red\"]}, \"type\": \"nominal\"}, \"tooltip\": [{\"field\": \"year\", \"type\": \"quantitative\"}, {\"field\": \"continent\", \"type\": \"nominal\"}, {\"field\": \"kind\", \"type\": \"nominal\"}, {\"field\": \"impact\", \"type\": \"quantitative\"}], \"x\": {\"axis\": {\"title\": \"births\"}, \"field\": \"start\", \"type\": \"quantitative\"}, \"x2\": {\"field\": \"end\"}, \"y\": {\"axis\": {\"title\": null}, \"field\": \"label\", \"sort\": null, \"type\": \"ordinal\"}}}, {\"data\": {\"name\": \"data-9eca99924302cb5c10ea67ef24cde909\"}, \"mark\": {\"type\": \"bar\"}, \"encoding\": {\"tooltip\": [{\"field\": \"total\", \"type\": \"quantitative\"}], \"x\": {\"field\": \"total\", \"type\": \"quantitative\"}, \"y\": {\"field\": \"label\", \"sort\": null, \"type\": \"ordinal\"}}}], \"params\": [{\"name\": \"param_1\", \"select\": {\"type\": \"interval\", \"encodings\": [\"x\", \"y\"]}, \"bind\": \"scales\", \"views\": [\"view_1\"]}], \"$schema\": \"https://vega.github.io/schema/vega-lite/v5.17.0.json\", \"datasets\": {\"data-f1de58efd137c02a08a765735cd625ec\": [{\"label\": [1960], \"total\": 0.03387031688748053}], \"data-4b6665332cff17cbafdd79e1d5cddb3b\": [{\"year\": 1990, \"continent\": \"Africa\", \"impact\": 0.0005389578525387987, \"kind\": \"mix\", \"end\": 0.03440927474001933, \"start\": 0.03387031688748053, \"label\": \"1990 \\u2022 Africa \\u2022 mix\", \"is_positive\": true}, {\"year\": 1990, \"continent\": \"Europe\", \"impact\": 0.00044238541357677336, \"kind\": \"mix\", \"end\": 0.0348516601535961, \"start\": 0.03440927474001933, \"label\": \"1990 \\u2022 Europe \\u2022 mix\", \"is_positive\": true}, {\"year\": 1990, \"continent\": \"Asia\", \"impact\": 0.00041049615581368145, \"kind\": \"mix\", \"end\": 0.035262156309409785, \"start\": 0.0348516601535961, \"label\": \"1990 \\u2022 Asia \\u2022 mix\", \"is_positive\": true}, {\"year\": 1990, \"continent\": \"South America\", \"impact\": 9.013729076567816e-05, \"kind\": \"mix\", \"end\": 0.035352293600175465, \"start\": 0.035262156309409785, \"label\": \"1990 \\u2022 South America \\u2022 mix\", \"is_positive\": true}, {\"year\": 1990, \"continent\": \"Oceania\", \"impact\": -9.111630901880898e-08, \"kind\": \"mix\", \"end\": 0.035352202483866446, \"start\": 0.035352293600175465, \"label\": \"1990 \\u2022 Oceania \\u2022 mix\", \"is_positive\": false}, {\"year\": 1990, \"continent\": \"North America\", \"impact\": -1.7010356346083166e-05, \"kind\": \"mix\", \"end\": 0.035335192127520364, \"start\": 0.035352202483866446, \"label\": \"1990 \\u2022 North America \\u2022 mix\", \"is_positive\": false}, {\"year\": 1990, \"continent\": \"Oceania\", \"impact\": -3.53393707345398e-05, \"kind\": \"inner\", \"end\": 0.03529985275678582, \"start\": 0.035335192127520364, \"label\": \"1990 \\u2022 Oceania \\u2022 inner\", \"is_positive\": false}, {\"year\": 1990, \"continent\": \"North America\", \"impact\": -0.0006120541320128246, \"kind\": \"inner\", \"end\": 0.034687798624772996, \"start\": 0.03529985275678582, \"label\": \"1990 \\u2022 North America \\u2022 inner\", \"is_positive\": false}, {\"year\": 1990, \"continent\": \"Africa\", \"impact\": -0.0006829520636140792, \"kind\": \"inner\", \"end\": 0.034004846561158916, \"start\": 0.034687798624772996, \"label\": \"1990 \\u2022 Africa \\u2022 inner\", \"is_positive\": false}, {\"year\": 1990, \"continent\": \"South America\", \"impact\": -0.0008291595253684412, \"kind\": \"inner\", \"end\": 0.03317568703579048, \"start\": 0.034004846561158916, \"label\": \"1990 \\u2022 South America \\u2022 inner\", \"is_positive\": false}, {\"year\": 1990, \"continent\": \"Europe\", \"impact\": -0.000973927686611739, \"kind\": \"inner\", \"end\": 0.03220175934917874, \"start\": 0.03317568703579048, \"label\": \"1990 \\u2022 Europe \\u2022 inner\", \"is_positive\": false}, {\"year\": 1990, \"continent\": \"Asia\", \"impact\": -0.005405998396932333, \"kind\": \"inner\", \"end\": 0.026795760952246405, \"start\": 0.03220175934917874, \"label\": \"1990 \\u2022 Asia \\u2022 inner\", \"is_positive\": false}], \"data-a07dc84afb5fdd476d7499ca18c0eaa5\": [{\"label\": [1990], \"total\": 0.026795760952246405}], \"data-241fac17129089c28a97ca39c7928b1a\": [{\"year\": 2020, \"continent\": \"Africa\", \"impact\": 0.001321095755789056, \"kind\": \"mix\", \"end\": 0.02811685670803546, \"start\": 0.026795760952246405, \"label\": \"2020 \\u2022 Africa \\u2022 mix\", \"is_positive\": true}, {\"year\": 2020, \"continent\": \"Europe\", \"impact\": 0.00017977894602539164, \"kind\": \"mix\", \"end\": 0.02829663565406085, \"start\": 0.02811685670803546, \"label\": \"2020 \\u2022 Europe \\u2022 mix\", \"is_positive\": true}, {\"year\": 2020, \"continent\": \"Oceania\", \"impact\": 1.6868081217440717e-06, \"kind\": \"mix\", \"end\": 0.0282983224621826, \"start\": 0.02829663565406085, \"label\": \"2020 \\u2022 Oceania \\u2022 mix\", \"is_positive\": true}, {\"year\": 2020, \"continent\": \"South America\", \"impact\": -7.497250416567788e-06, \"kind\": \"mix\", \"end\": 0.02829082521176603, \"start\": 0.0282983224621826, \"label\": \"2020 \\u2022 South America \\u2022 mix\", \"is_positive\": false}, {\"year\": 2020, \"continent\": \"North America\", \"impact\": -1.3305601086211096e-05, \"kind\": \"mix\", \"end\": 0.028277519610679817, \"start\": 0.02829082521176603, \"label\": \"2020 \\u2022 North America \\u2022 mix\", \"is_positive\": false}, {\"year\": 2020, \"continent\": \"Oceania\", \"impact\": -2.5074353583789164e-05, \"kind\": \"inner\", \"end\": 0.02825244525709603, \"start\": 0.028277519610679817, \"label\": \"2020 \\u2022 Oceania \\u2022 inner\", \"is_positive\": false}, {\"year\": 2020, \"continent\": \"Asia\", \"impact\": -9.740973306788104e-05, \"kind\": \"mix\", \"end\": 0.02815503552402815, \"start\": 0.02825244525709603, \"label\": \"2020 \\u2022 Asia \\u2022 mix\", \"is_positive\": false}, {\"year\": 2020, \"continent\": \"Europe\", \"impact\": -0.00033327817703443014, \"kind\": \"inner\", \"end\": 0.027821757346993718, \"start\": 0.02815503552402815, \"label\": \"2020 \\u2022 Europe \\u2022 inner\", \"is_positive\": false}, {\"year\": 2020, \"continent\": \"North America\", \"impact\": -0.0006183635016777963, \"kind\": \"inner\", \"end\": 0.02720339384531592, \"start\": 0.027821757346993718, \"label\": \"2020 \\u2022 North America \\u2022 inner\", \"is_positive\": false}, {\"year\": 2020, \"continent\": \"South America\", \"impact\": -0.0006345445294266325, \"kind\": \"inner\", \"end\": 0.02656884931588929, \"start\": 0.02720339384531592, \"label\": \"2020 \\u2022 South America \\u2022 inner\", \"is_positive\": false}, {\"year\": 2020, \"continent\": \"Africa\", \"impact\": -0.0015618551167013773, \"kind\": \"inner\", \"end\": 0.02500699419918791, \"start\": 0.02656884931588929, \"label\": \"2020 \\u2022 Africa \\u2022 inner\", \"is_positive\": false}, {\"year\": 2020, \"continent\": \"Asia\", \"impact\": -0.0077727906937751275, \"kind\": \"inner\", \"end\": 0.017234203505412785, \"start\": 0.02500699419918791, \"label\": \"2020 \\u2022 Asia \\u2022 inner\", \"is_positive\": false}], \"data-9eca99924302cb5c10ea67ef24cde909\": [{\"label\": [2020], \"total\": 0.017234203505412785}]}}, {\"mode\": \"vega-lite\"});\n",
              "</script>"
            ],
            "text/plain": [
              "alt.LayerChart(...)"
            ]
          },
          "execution_count": 4,
          "metadata": {},
          "output_type": "execute_result"
        }
      ],
      "source": [
        "explainer.plot(demography)"
      ]
    }
  ],
  "metadata": {
    "kernelspec": {
      "display_name": "icanexplain-JrJCEE-Q-py3.11",
      "language": "python",
      "name": "python3"
    },
    "language_info": {
      "codemirror_mode": {
        "name": "ipython",
        "version": 3
      },
      "file_extension": ".py",
      "mimetype": "text/x-python",
      "name": "python",
      "nbconvert_exporter": "python",
      "pygments_lexer": "ipython3",
      "version": "3.11.4"
    }
  },
  "nbformat": 4,
  "nbformat_minor": 2
}
