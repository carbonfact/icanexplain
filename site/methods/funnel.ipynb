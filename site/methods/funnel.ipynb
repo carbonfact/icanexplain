{
 "cells": [
  {
   "cell_type": "markdown",
   "metadata": {},
   "source": [
    "# Funnel decomposition"
   ]
  },
  {
   "cell_type": "code",
   "execution_count": 1,
   "metadata": {
    "execution": {
     "iopub.execute_input": "2024-09-22T20:47:33.121138Z",
     "iopub.status.busy": "2024-09-22T20:47:33.120968Z",
     "iopub.status.idle": "2024-09-22T20:47:33.134095Z",
     "shell.execute_reply": "2024-09-22T20:47:33.133549Z"
    }
   },
   "outputs": [],
   "source": [
    "# Funnel"
   ]
  }
 ],
 "metadata": {
  "language_info": {
   "codemirror_mode": {
    "name": "ipython",
    "version": 3
   },
   "file_extension": ".py",
   "mimetype": "text/x-python",
   "name": "python",
   "nbconvert_exporter": "python",
   "pygments_lexer": "ipython3",
   "version": "3.11.4"
  }
 },
 "nbformat": 4,
 "nbformat_minor": 2
}
