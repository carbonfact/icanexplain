{
 "cells": [
  {
   "cell_type": "markdown",
   "metadata": {},
   "source": [
    "# Funnel decomposition"
   ]
  },
  {
   "cell_type": "code",
   "execution_count": 1,
   "metadata": {
    "execution": {
     "iopub.execute_input": "2024-09-25T08:40:25.341828Z",
     "iopub.status.busy": "2024-09-25T08:40:25.341418Z",
     "iopub.status.idle": "2024-09-25T08:40:25.360667Z",
     "shell.execute_reply": "2024-09-25T08:40:25.360217Z"
    }
   },
   "outputs": [],
   "source": [
    "# Funnel"
   ]
  }
 ],
 "metadata": {
  "language_info": {
   "codemirror_mode": {
    "name": "ipython",
    "version": 3
   },
   "file_extension": ".py",
   "mimetype": "text/x-python",
   "name": "python",
   "nbconvert_exporter": "python",
   "pygments_lexer": "ipython3",
   "version": "3.11.4"
  }
 },
 "nbformat": 4,
 "nbformat_minor": 2
}
