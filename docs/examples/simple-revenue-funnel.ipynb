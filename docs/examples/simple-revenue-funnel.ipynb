{
 "cells": [
  {
   "cell_type": "markdown",
   "metadata": {},
   "source": [
    "# Simple revenue funnel"
   ]
  },
  {
   "cell_type": "markdown",
   "metadata": {},
   "source": [
    "We look at a toy website funnel in this example. Imagine a fictitious website that sells stuff. Users go to the website, are presented with items, can add them to their cart, and then can buy them."
   ]
  },
  {
   "cell_type": "code",
   "execution_count": 1,
   "metadata": {
    "execution": {
     "iopub.execute_input": "2024-09-25T08:13:56.835441Z",
     "iopub.status.busy": "2024-09-25T08:13:56.835087Z",
     "iopub.status.idle": "2024-09-25T08:13:56.943657Z",
     "shell.execute_reply": "2024-09-25T08:13:56.943205Z"
    }
   },
   "outputs": [
    {
     "data": {
      "text/html": [
       "<style type=\"text/css\">\n",
       "</style>\n",
       "<table id=\"T_aea2c\">\n",
       "  <thead>\n",
       "    <tr>\n",
       "      <th class=\"blank level0\" >&nbsp;</th>\n",
       "      <th id=\"T_aea2c_level0_col0\" class=\"col_heading level0 col0\" >date</th>\n",
       "      <th id=\"T_aea2c_level0_col1\" class=\"col_heading level0 col1\" >group</th>\n",
       "      <th id=\"T_aea2c_level0_col2\" class=\"col_heading level0 col2\" >impressions</th>\n",
       "      <th id=\"T_aea2c_level0_col3\" class=\"col_heading level0 col3\" >clicks</th>\n",
       "      <th id=\"T_aea2c_level0_col4\" class=\"col_heading level0 col4\" >conversions</th>\n",
       "      <th id=\"T_aea2c_level0_col5\" class=\"col_heading level0 col5\" >revenue</th>\n",
       "    </tr>\n",
       "  </thead>\n",
       "  <tbody>\n",
       "    <tr>\n",
       "      <th id=\"T_aea2c_level0_row0\" class=\"row_heading level0 row0\" >0</th>\n",
       "      <td id=\"T_aea2c_row0_col0\" class=\"data row0 col0\" >2018-01-01</td>\n",
       "      <td id=\"T_aea2c_row0_col1\" class=\"data row0 col1\" >A</td>\n",
       "      <td id=\"T_aea2c_row0_col2\" class=\"data row0 col2\" >1000</td>\n",
       "      <td id=\"T_aea2c_row0_col3\" class=\"data row0 col3\" >150</td>\n",
       "      <td id=\"T_aea2c_row0_col4\" class=\"data row0 col4\" >120</td>\n",
       "      <td id=\"T_aea2c_row0_col5\" class=\"data row0 col5\" >$8,600.00</td>\n",
       "    </tr>\n",
       "    <tr>\n",
       "      <th id=\"T_aea2c_level0_row1\" class=\"row_heading level0 row1\" >1</th>\n",
       "      <td id=\"T_aea2c_row1_col0\" class=\"data row1 col0\" >2018-01-01</td>\n",
       "      <td id=\"T_aea2c_row1_col1\" class=\"data row1 col1\" >B</td>\n",
       "      <td id=\"T_aea2c_row1_col2\" class=\"data row1 col2\" >2000</td>\n",
       "      <td id=\"T_aea2c_row1_col3\" class=\"data row1 col3\" >150</td>\n",
       "      <td id=\"T_aea2c_row1_col4\" class=\"data row1 col4\" >150</td>\n",
       "      <td id=\"T_aea2c_row1_col5\" class=\"data row1 col5\" >$9,400.00</td>\n",
       "    </tr>\n",
       "    <tr>\n",
       "      <th id=\"T_aea2c_level0_row2\" class=\"row_heading level0 row2\" >2</th>\n",
       "      <td id=\"T_aea2c_row2_col0\" class=\"data row2 col0\" >2018-01-01</td>\n",
       "      <td id=\"T_aea2c_row2_col1\" class=\"data row2 col1\" >C</td>\n",
       "      <td id=\"T_aea2c_row2_col2\" class=\"data row2 col2\" >2500</td>\n",
       "      <td id=\"T_aea2c_row2_col3\" class=\"data row2 col3\" >250</td>\n",
       "      <td id=\"T_aea2c_row2_col4\" class=\"data row2 col4\" >125</td>\n",
       "      <td id=\"T_aea2c_row2_col5\" class=\"data row2 col5\" >$10,750.00</td>\n",
       "    </tr>\n",
       "    <tr>\n",
       "      <th id=\"T_aea2c_level0_row3\" class=\"row_heading level0 row3\" >3</th>\n",
       "      <td id=\"T_aea2c_row3_col0\" class=\"data row3 col0\" >2019-01-01</td>\n",
       "      <td id=\"T_aea2c_row3_col1\" class=\"data row3 col1\" >A</td>\n",
       "      <td id=\"T_aea2c_row3_col2\" class=\"data row3 col2\" >1000</td>\n",
       "      <td id=\"T_aea2c_row3_col3\" class=\"data row3 col3\" >120</td>\n",
       "      <td id=\"T_aea2c_row3_col4\" class=\"data row3 col4\" >160</td>\n",
       "      <td id=\"T_aea2c_row3_col5\" class=\"data row3 col5\" >$9,055.00</td>\n",
       "    </tr>\n",
       "    <tr>\n",
       "      <th id=\"T_aea2c_level0_row4\" class=\"row_heading level0 row4\" >4</th>\n",
       "      <td id=\"T_aea2c_row4_col0\" class=\"data row4 col0\" >2019-01-01</td>\n",
       "      <td id=\"T_aea2c_row4_col1\" class=\"data row4 col1\" >B</td>\n",
       "      <td id=\"T_aea2c_row4_col2\" class=\"data row4 col2\" >2150</td>\n",
       "      <td id=\"T_aea2c_row4_col3\" class=\"data row4 col3\" >200</td>\n",
       "      <td id=\"T_aea2c_row4_col4\" class=\"data row4 col4\" >145</td>\n",
       "      <td id=\"T_aea2c_row4_col5\" class=\"data row4 col5\" >$8,739.00</td>\n",
       "    </tr>\n",
       "    <tr>\n",
       "      <th id=\"T_aea2c_level0_row5\" class=\"row_heading level0 row5\" >5</th>\n",
       "      <td id=\"T_aea2c_row5_col0\" class=\"data row5 col0\" >2019-01-01</td>\n",
       "      <td id=\"T_aea2c_row5_col1\" class=\"data row5 col1\" >C</td>\n",
       "      <td id=\"T_aea2c_row5_col2\" class=\"data row5 col2\" >2000</td>\n",
       "      <td id=\"T_aea2c_row5_col3\" class=\"data row5 col3\" >400</td>\n",
       "      <td id=\"T_aea2c_row5_col4\" class=\"data row5 col4\" >166</td>\n",
       "      <td id=\"T_aea2c_row5_col5\" class=\"data row5 col5\" >$10,147.00</td>\n",
       "    </tr>\n",
       "    <tr>\n",
       "      <th id=\"T_aea2c_level0_row6\" class=\"row_heading level0 row6\" >6</th>\n",
       "      <td id=\"T_aea2c_row6_col0\" class=\"data row6 col0\" >2018-02-01</td>\n",
       "      <td id=\"T_aea2c_row6_col1\" class=\"data row6 col1\" >A</td>\n",
       "      <td id=\"T_aea2c_row6_col2\" class=\"data row6 col2\" >50</td>\n",
       "      <td id=\"T_aea2c_row6_col3\" class=\"data row6 col3\" >20</td>\n",
       "      <td id=\"T_aea2c_row6_col4\" class=\"data row6 col4\" >10</td>\n",
       "      <td id=\"T_aea2c_row6_col5\" class=\"data row6 col5\" >$500.00</td>\n",
       "    </tr>\n",
       "    <tr>\n",
       "      <th id=\"T_aea2c_level0_row7\" class=\"row_heading level0 row7\" >7</th>\n",
       "      <td id=\"T_aea2c_row7_col0\" class=\"data row7 col0\" >2018-02-01</td>\n",
       "      <td id=\"T_aea2c_row7_col1\" class=\"data row7 col1\" >B</td>\n",
       "      <td id=\"T_aea2c_row7_col2\" class=\"data row7 col2\" >2000</td>\n",
       "      <td id=\"T_aea2c_row7_col3\" class=\"data row7 col3\" >300</td>\n",
       "      <td id=\"T_aea2c_row7_col4\" class=\"data row7 col4\" >150</td>\n",
       "      <td id=\"T_aea2c_row7_col5\" class=\"data row7 col5\" >$11,400.00</td>\n",
       "    </tr>\n",
       "    <tr>\n",
       "      <th id=\"T_aea2c_level0_row8\" class=\"row_heading level0 row8\" >8</th>\n",
       "      <td id=\"T_aea2c_row8_col0\" class=\"data row8 col0\" >2018-02-01</td>\n",
       "      <td id=\"T_aea2c_row8_col1\" class=\"data row8 col1\" >C</td>\n",
       "      <td id=\"T_aea2c_row8_col2\" class=\"data row8 col2\" >2500</td>\n",
       "      <td id=\"T_aea2c_row8_col3\" class=\"data row8 col3\" >250</td>\n",
       "      <td id=\"T_aea2c_row8_col4\" class=\"data row8 col4\" >125</td>\n",
       "      <td id=\"T_aea2c_row8_col5\" class=\"data row8 col5\" >$8,750.00</td>\n",
       "    </tr>\n",
       "    <tr>\n",
       "      <th id=\"T_aea2c_level0_row9\" class=\"row_heading level0 row9\" >9</th>\n",
       "      <td id=\"T_aea2c_row9_col0\" class=\"data row9 col0\" >2019-02-01</td>\n",
       "      <td id=\"T_aea2c_row9_col1\" class=\"data row9 col1\" >A</td>\n",
       "      <td id=\"T_aea2c_row9_col2\" class=\"data row9 col2\" >2500</td>\n",
       "      <td id=\"T_aea2c_row9_col3\" class=\"data row9 col3\" >1000</td>\n",
       "      <td id=\"T_aea2c_row9_col4\" class=\"data row9 col4\" >500</td>\n",
       "      <td id=\"T_aea2c_row9_col5\" class=\"data row9 col5\" >$50,000.00</td>\n",
       "    </tr>\n",
       "    <tr>\n",
       "      <th id=\"T_aea2c_level0_row10\" class=\"row_heading level0 row10\" >10</th>\n",
       "      <td id=\"T_aea2c_row10_col0\" class=\"data row10 col0\" >2019-02-01</td>\n",
       "      <td id=\"T_aea2c_row10_col1\" class=\"data row10 col1\" >B</td>\n",
       "      <td id=\"T_aea2c_row10_col2\" class=\"data row10 col2\" >2150</td>\n",
       "      <td id=\"T_aea2c_row10_col3\" class=\"data row10 col3\" >323</td>\n",
       "      <td id=\"T_aea2c_row10_col4\" class=\"data row10 col4\" >145</td>\n",
       "      <td id=\"T_aea2c_row10_col5\" class=\"data row10 col5\" >$10,739.00</td>\n",
       "    </tr>\n",
       "    <tr>\n",
       "      <th id=\"T_aea2c_level0_row11\" class=\"row_heading level0 row11\" >11</th>\n",
       "      <td id=\"T_aea2c_row11_col0\" class=\"data row11 col0\" >2019-02-01</td>\n",
       "      <td id=\"T_aea2c_row11_col1\" class=\"data row11 col1\" >C</td>\n",
       "      <td id=\"T_aea2c_row11_col2\" class=\"data row11 col2\" >2000</td>\n",
       "      <td id=\"T_aea2c_row11_col3\" class=\"data row11 col3\" >320</td>\n",
       "      <td id=\"T_aea2c_row11_col4\" class=\"data row11 col4\" >166</td>\n",
       "      <td id=\"T_aea2c_row11_col5\" class=\"data row11 col5\" >$12,147.00</td>\n",
       "    </tr>\n",
       "  </tbody>\n",
       "</table>\n"
      ],
      "text/plain": [
       "<pandas.io.formats.style.Styler at 0x104ff0f10>"
      ]
     },
     "execution_count": 1,
     "metadata": {},
     "output_type": "execute_result"
    }
   ],
   "source": [
    "import pandas as pd\n",
    "import locale\n",
    "\n",
    "locale.setlocale(locale.LC_MONETARY, 'en_US.UTF-8')\n",
    "def fmt_currency(x):\n",
    "    return locale.currency(x, grouping=True)\n",
    "\n",
    "traffic = pd.DataFrame({\n",
    "    'date': ['2018-01-01', '2018-01-01', '2018-01-01', '2019-01-01', '2019-01-01', '2019-01-01', '2018-02-01', '2018-02-01', '2018-02-01', '2019-02-01', '2019-02-01', '2019-02-01'],\n",
    "    'group': ['A', 'B', 'C', 'A', 'B', 'C', 'A', 'B', 'C', 'A', 'B', 'C'],\n",
    "    'impressions': [1000, 2000, 2500, 1000, 2150, 2000, 50, 2000, 2500, 2500, 2150, 2000],\n",
    "    'clicks': [150, 150, 250, 120, 200, 400, 20, 300, 250, 1000, 323, 320],\n",
    "    'conversions': [120, 150, 125, 160, 145, 166, 10, 150, 125, 500, 145, 166],\n",
    "    'revenue': ['$8,600', '$9,400', '$10,750', '$9,055', '$8,739', '$10,147', '$500', '$11,400', '$8,750', '$50,000', '$10,739', '$12,147'],\n",
    "})\n",
    "traffic['date'] = pd.to_datetime(traffic['date'])\n",
    "traffic['revenue'] = traffic['revenue'].str.replace('$', '', regex=False).str.replace(',', '', regex=False).astype(float)\n",
    "traffic.style.format({'revenue': fmt_currency, 'date': lambda x: x.strftime('%Y-%m-%d')}, na_rep='N/A')"
   ]
  },
  {
   "cell_type": "markdown",
   "metadata": {},
   "source": [
    "The users are bucketed into 3 groups: A, B, C. We've also bucketed impressions/clicks/conversions/revenue figures by month of the year.\n",
    "\n",
    "We're interested in understanding how the metrics evolve over time. The basic method is to calculate each metric separately. To keep things simple, we can do this for each year."
   ]
  },
  {
   "cell_type": "code",
   "execution_count": 2,
   "metadata": {
    "execution": {
     "iopub.execute_input": "2024-09-25T08:13:56.945992Z",
     "iopub.status.busy": "2024-09-25T08:13:56.945770Z",
     "iopub.status.idle": "2024-09-25T08:13:56.973383Z",
     "shell.execute_reply": "2024-09-25T08:13:56.972907Z"
    }
   },
   "outputs": [
    {
     "data": {
      "text/html": [
       "<style type=\"text/css\">\n",
       "</style>\n",
       "<table id=\"T_e28e2\">\n",
       "  <thead>\n",
       "    <tr>\n",
       "      <th class=\"blank level0\" >&nbsp;</th>\n",
       "      <th id=\"T_e28e2_level0_col0\" class=\"col_heading level0 col0\" >impressions</th>\n",
       "      <th id=\"T_e28e2_level0_col1\" class=\"col_heading level0 col1\" >click_rate</th>\n",
       "      <th id=\"T_e28e2_level0_col2\" class=\"col_heading level0 col2\" >conversion_rate</th>\n",
       "      <th id=\"T_e28e2_level0_col3\" class=\"col_heading level0 col3\" >average_spend</th>\n",
       "      <th id=\"T_e28e2_level0_col4\" class=\"col_heading level0 col4\" >revenue</th>\n",
       "    </tr>\n",
       "    <tr>\n",
       "      <th class=\"index_name level0\" >year</th>\n",
       "      <th class=\"blank col0\" >&nbsp;</th>\n",
       "      <th class=\"blank col1\" >&nbsp;</th>\n",
       "      <th class=\"blank col2\" >&nbsp;</th>\n",
       "      <th class=\"blank col3\" >&nbsp;</th>\n",
       "      <th class=\"blank col4\" >&nbsp;</th>\n",
       "    </tr>\n",
       "  </thead>\n",
       "  <tbody>\n",
       "    <tr>\n",
       "      <th id=\"T_e28e2_level0_row0\" class=\"row_heading level0 row0\" >2018</th>\n",
       "      <td id=\"T_e28e2_row0_col0\" class=\"data row0 col0\" >10050</td>\n",
       "      <td id=\"T_e28e2_row0_col1\" class=\"data row0 col1\" >0.111443</td>\n",
       "      <td id=\"T_e28e2_row0_col2\" class=\"data row0 col2\" >0.607143</td>\n",
       "      <td id=\"T_e28e2_row0_col3\" class=\"data row0 col3\" >$72.65</td>\n",
       "      <td id=\"T_e28e2_row0_col4\" class=\"data row0 col4\" >$49,400.00</td>\n",
       "    </tr>\n",
       "    <tr>\n",
       "      <th id=\"T_e28e2_level0_row1\" class=\"row_heading level0 row1\" >2019</th>\n",
       "      <td id=\"T_e28e2_row1_col0\" class=\"data row1 col0\" >11800</td>\n",
       "      <td id=\"T_e28e2_row1_col1\" class=\"data row1 col1\" >0.200254</td>\n",
       "      <td id=\"T_e28e2_row1_col2\" class=\"data row1 col2\" >0.542531</td>\n",
       "      <td id=\"T_e28e2_row1_col3\" class=\"data row1 col3\" >$78.65</td>\n",
       "      <td id=\"T_e28e2_row1_col4\" class=\"data row1 col4\" >$100,827.00</td>\n",
       "    </tr>\n",
       "  </tbody>\n",
       "</table>\n"
      ],
      "text/plain": [
       "<pandas.io.formats.style.Styler at 0x106b30550>"
      ]
     },
     "execution_count": 2,
     "metadata": {},
     "output_type": "execute_result"
    }
   ],
   "source": [
    "pd.DataFrame({\n",
    "    'impressions': (\n",
    "        traffic\n",
    "        .assign(year=traffic.date.dt.year)\n",
    "        .groupby('year')\n",
    "        .impressions.sum()\n",
    "    ),\n",
    "    'click_rate': (\n",
    "        traffic\n",
    "        .assign(year=traffic.date.dt.year)\n",
    "        .groupby('year')\n",
    "        .apply(lambda x: x.clicks.sum() / x.impressions.sum(), include_groups=False)\n",
    "    ),\n",
    "    'conversion_rate': (\n",
    "        traffic\n",
    "        .assign(year=traffic.date.dt.year)\n",
    "        .groupby('year')\n",
    "        .apply(lambda x: x.conversions.sum() / x.clicks.sum(), include_groups=False)\n",
    "    ),\n",
    "    'average_spend': (\n",
    "        traffic\n",
    "        .assign(year=traffic.date.dt.year)\n",
    "        .groupby('year')\n",
    "        .apply(lambda x: x.revenue.sum() / x.conversions.sum(), include_groups=False)\n",
    "    ),\n",
    "    'revenue': (\n",
    "        traffic\n",
    "        .assign(year=traffic.date.dt.year)\n",
    "        .groupby('year')\n",
    "        .revenue.sum()\n",
    "    )\n",
    "}).style.format({'average_spend': fmt_currency, 'revenue': fmt_currency}, na_rep='')"
   ]
  },
  {
   "cell_type": "markdown",
   "metadata": {},
   "source": [
    "In and of itself, this is already quite interesting. However, what we really want to know is how the change of each metric contributes to the change in revenue. This is where icanexplain comes in."
   ]
  },
  {
   "cell_type": "code",
   "execution_count": 3,
   "metadata": {
    "execution": {
     "iopub.execute_input": "2024-09-25T08:13:56.975622Z",
     "iopub.status.busy": "2024-09-25T08:13:56.975443Z",
     "iopub.status.idle": "2024-09-25T08:13:57.446902Z",
     "shell.execute_reply": "2024-09-25T08:13:57.446477Z"
    }
   },
   "outputs": [
    {
     "data": {
      "text/html": [
       "<style type=\"text/css\">\n",
       "#T_7c395_row0_col0, #T_7c395_row0_col1, #T_7c395_row0_col2, #T_7c395_row0_col3, #T_7c395_row1_col0, #T_7c395_row1_col1, #T_7c395_row1_col2, #T_7c395_row1_col3, #T_7c395_row2_col0, #T_7c395_row2_col1, #T_7c395_row2_col2, #T_7c395_row2_col3, #T_7c395_row3_col0, #T_7c395_row3_col1, #T_7c395_row3_col2, #T_7c395_row3_col3, #T_7c395_row4_col0, #T_7c395_row4_col1, #T_7c395_row4_col2, #T_7c395_row4_col3, #T_7c395_row5_col0, #T_7c395_row5_col1, #T_7c395_row5_col2, #T_7c395_row5_col3 {\n",
       "  text-align: right;\n",
       "}\n",
       "</style>\n",
       "<table id=\"T_7c395\">\n",
       "  <thead>\n",
       "    <tr>\n",
       "      <th class=\"blank\" >&nbsp;</th>\n",
       "      <th class=\"blank\" >&nbsp;</th>\n",
       "      <th class=\"blank level0\" >&nbsp;</th>\n",
       "      <th id=\"T_7c395_level0_col0\" class=\"col_heading level0 col0\" >impressions_contribution</th>\n",
       "      <th id=\"T_7c395_level0_col1\" class=\"col_heading level0 col1\" >clicks_over_impressions_contribution</th>\n",
       "      <th id=\"T_7c395_level0_col2\" class=\"col_heading level0 col2\" >conversions_over_clicks_contribution</th>\n",
       "      <th id=\"T_7c395_level0_col3\" class=\"col_heading level0 col3\" >revenue_over_conversions_contribution</th>\n",
       "    </tr>\n",
       "    <tr>\n",
       "      <th class=\"index_name level0\" >year</th>\n",
       "      <th class=\"index_name level1\" >month</th>\n",
       "      <th class=\"index_name level2\" >group</th>\n",
       "      <th class=\"blank col0\" >&nbsp;</th>\n",
       "      <th class=\"blank col1\" >&nbsp;</th>\n",
       "      <th class=\"blank col2\" >&nbsp;</th>\n",
       "      <th class=\"blank col3\" >&nbsp;</th>\n",
       "    </tr>\n",
       "  </thead>\n",
       "  <tbody>\n",
       "    <tr>\n",
       "      <th id=\"T_7c395_level0_row0\" class=\"row_heading level0 row0\" rowspan=\"6\">2019</th>\n",
       "      <th id=\"T_7c395_level1_row0\" class=\"row_heading level1 row0\" rowspan=\"3\">1</th>\n",
       "      <th id=\"T_7c395_level2_row0\" class=\"row_heading level2 row0\" >A</th>\n",
       "      <td id=\"T_7c395_row0_col0\" class=\"data row0 col0\" >$0.00</td>\n",
       "      <td id=\"T_7c395_row0_col1\" class=\"data row0 col1\" >-$1,720.00</td>\n",
       "      <td id=\"T_7c395_row0_col2\" class=\"data row0 col2\" >$4,586.67</td>\n",
       "      <td id=\"T_7c395_row0_col3\" class=\"data row0 col3\" >-$2,411.67</td>\n",
       "    </tr>\n",
       "    <tr>\n",
       "      <th id=\"T_7c395_level2_row1\" class=\"row_heading level2 row1\" >B</th>\n",
       "      <td id=\"T_7c395_row1_col0\" class=\"data row1 col0\" >$705.00</td>\n",
       "      <td id=\"T_7c395_row1_col1\" class=\"data row1 col1\" >$2,428.33</td>\n",
       "      <td id=\"T_7c395_row1_col2\" class=\"data row1 col2\" >-$3,446.67</td>\n",
       "      <td id=\"T_7c395_row1_col3\" class=\"data row1 col3\" >-$347.67</td>\n",
       "    </tr>\n",
       "    <tr>\n",
       "      <th id=\"T_7c395_level2_row2\" class=\"row_heading level2 row2\" >C</th>\n",
       "      <td id=\"T_7c395_row2_col0\" class=\"data row2 col0\" >-$2,150.00</td>\n",
       "      <td id=\"T_7c395_row2_col1\" class=\"data row2 col1\" >$8,600.00</td>\n",
       "      <td id=\"T_7c395_row2_col2\" class=\"data row2 col2\" >-$2,924.00</td>\n",
       "      <td id=\"T_7c395_row2_col3\" class=\"data row2 col3\" >-$4,129.00</td>\n",
       "    </tr>\n",
       "    <tr>\n",
       "      <th id=\"T_7c395_level1_row3\" class=\"row_heading level1 row3\" rowspan=\"3\">2</th>\n",
       "      <th id=\"T_7c395_level2_row3\" class=\"row_heading level2 row3\" >A</th>\n",
       "      <td id=\"T_7c395_row3_col0\" class=\"data row3 col0\" >$24,500.00</td>\n",
       "      <td id=\"T_7c395_row3_col1\" class=\"data row3 col1\" >$0.00</td>\n",
       "      <td id=\"T_7c395_row3_col2\" class=\"data row3 col2\" >$0.00</td>\n",
       "      <td id=\"T_7c395_row3_col3\" class=\"data row3 col3\" >$25,000.00</td>\n",
       "    </tr>\n",
       "    <tr>\n",
       "      <th id=\"T_7c395_level2_row4\" class=\"row_heading level2 row4\" >B</th>\n",
       "      <td id=\"T_7c395_row4_col0\" class=\"data row4 col0\" >$855.00</td>\n",
       "      <td id=\"T_7c395_row4_col1\" class=\"data row4 col1\" >$19.00</td>\n",
       "      <td id=\"T_7c395_row4_col2\" class=\"data row4 col2\" >-$1,254.00</td>\n",
       "      <td id=\"T_7c395_row4_col3\" class=\"data row4 col3\" >-$281.00</td>\n",
       "    </tr>\n",
       "    <tr>\n",
       "      <th id=\"T_7c395_level2_row5\" class=\"row_heading level2 row5\" >C</th>\n",
       "      <td id=\"T_7c395_row5_col0\" class=\"data row5 col0\" >-$1,750.00</td>\n",
       "      <td id=\"T_7c395_row5_col1\" class=\"data row5 col1\" >$4,200.00</td>\n",
       "      <td id=\"T_7c395_row5_col2\" class=\"data row5 col2\" >$420.00</td>\n",
       "      <td id=\"T_7c395_row5_col3\" class=\"data row5 col3\" >$527.00</td>\n",
       "    </tr>\n",
       "  </tbody>\n",
       "</table>\n"
      ],
      "text/plain": [
       "<pandas.io.formats.style.Styler at 0x113cfeb90>"
      ]
     },
     "execution_count": 3,
     "metadata": {},
     "output_type": "execute_result"
    }
   ],
   "source": [
    "import icanexplain as ice\n",
    "\n",
    "explainer = ice.FunnelExplainer(\n",
    "    funnel=['impressions', 'clicks', 'conversions', 'revenue'],\n",
    "    period='year',\n",
    "    group=['month', 'group']\n",
    ")\n",
    "traffic = traffic.assign(\n",
    "    month=traffic.date.dt.month,\n",
    "    year=traffic.date.dt.year\n",
    ")\n",
    "explanation = explainer(traffic)\n",
    "explanation.style.format(fmt_currency).set_properties(**{'text-align': 'right'})"
   ]
  },
  {
   "cell_type": "markdown",
   "metadata": {},
   "source": [
    "This is powerful, because it allows us to understand the drivers of revenue growth. For example, between January 2018 and January 2019, revenue went up by $8,600 due an increase in clicks for group C. This is more insightful than just saying that their click rate went up."
   ]
  },
  {
   "cell_type": "markdown",
   "metadata": {},
   "source": [
    "One thing to keep in mind is that contributions sum up to the overall difference between two periods. This means that it's easy to unit test that the contributions are correct:"
   ]
  },
  {
   "cell_type": "code",
   "execution_count": 4,
   "metadata": {
    "execution": {
     "iopub.execute_input": "2024-09-25T08:13:57.448740Z",
     "iopub.status.busy": "2024-09-25T08:13:57.448621Z",
     "iopub.status.idle": "2024-09-25T08:13:57.462629Z",
     "shell.execute_reply": "2024-09-25T08:13:57.462239Z"
    }
   },
   "outputs": [
    {
     "data": {
      "text/html": [
       "<style type=\"text/css\">\n",
       "</style>\n",
       "<table id=\"T_ee41b\">\n",
       "  <thead>\n",
       "    <tr>\n",
       "      <th class=\"blank level0\" >&nbsp;</th>\n",
       "      <th id=\"T_ee41b_level0_col0\" class=\"col_heading level0 col0\" >sum</th>\n",
       "    </tr>\n",
       "    <tr>\n",
       "      <th class=\"index_name level0\" >year</th>\n",
       "      <th class=\"blank col0\" >&nbsp;</th>\n",
       "    </tr>\n",
       "  </thead>\n",
       "  <tbody>\n",
       "    <tr>\n",
       "      <th id=\"T_ee41b_level0_row0\" class=\"row_heading level0 row0\" >2019</th>\n",
       "      <td id=\"T_ee41b_row0_col0\" class=\"data row0 col0\" >$51,427.00</td>\n",
       "    </tr>\n",
       "  </tbody>\n",
       "</table>\n"
      ],
      "text/plain": [
       "<pandas.io.formats.style.Styler at 0x1126468d0>"
      ]
     },
     "execution_count": 4,
     "metadata": {},
     "output_type": "execute_result"
    }
   ],
   "source": [
    "(\n",
    "    explanation\n",
    "    .groupby('year').sum().sum(axis=1)\n",
    "    .to_frame('sum')\n",
    "    .style.format(fmt_currency)\n",
    ")"
   ]
  },
  {
   "cell_type": "markdown",
   "metadata": {},
   "source": [
    "Of course, it would be more interesting to apply this methodology to some real data. One example is the [Google Analytics dataset sample](https://developers.google.com/analytics/bigquery/web-ecommerce-demo-dataset) which is publicly available in BigQuery. "
   ]
  }
 ],
 "metadata": {
  "kernelspec": {
   "display_name": "Python 3",
   "language": "python",
   "name": "python3"
  },
  "language_info": {
   "codemirror_mode": {
    "name": "ipython",
    "version": 3
   },
   "file_extension": ".py",
   "mimetype": "text/x-python",
   "name": "python",
   "nbconvert_exporter": "python",
   "pygments_lexer": "ipython3",
   "version": "3.11.4"
  }
 },
 "nbformat": 4,
 "nbformat_minor": 2
}
