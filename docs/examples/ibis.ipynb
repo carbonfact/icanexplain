{
 "cells": [
  {
   "cell_type": "markdown",
   "metadata": {},
   "source": [
    "# Different backend support with Ibis"
   ]
  },
  {
   "cell_type": "markdown",
   "metadata": {},
   "source": [
    "icanexplain is implemented with [Ibis](https://github.com/ibis-project/ibis). This means that it is framework agnostic, and can work with different backends. This example shows how to use it with [DuckDB](https://duckdb.org/)."
   ]
  },
  {
   "cell_type": "code",
   "execution_count": 1,
   "metadata": {
    "execution": {
     "iopub.execute_input": "2024-09-24T16:47:39.971176Z",
     "iopub.status.busy": "2024-09-24T16:47:39.970883Z",
     "iopub.status.idle": "2024-09-24T16:47:40.369982Z",
     "shell.execute_reply": "2024-09-24T16:47:40.369725Z"
    }
   },
   "outputs": [
    {
     "data": {
      "text/html": [
       "<pre style=\"white-space:pre;overflow-x:auto;line-height:normal;font-family:Menlo,'DejaVu Sans Mono',consolas,'Courier New',monospace\">DatabaseTable: example.main.products\n",
       "  year       int64\n",
       "  category   string\n",
       "  product_id string\n",
       "  footprint  float64\n",
       "  units      int64\n",
       "</pre>\n"
      ],
      "text/plain": [
       "DatabaseTable: example.main.products\n",
       "  year       int64\n",
       "  category   string\n",
       "  product_id string\n",
       "  footprint  float64\n",
       "  units      int64"
      ]
     },
     "execution_count": 1,
     "metadata": {},
     "output_type": "execute_result"
    }
   ],
   "source": [
    "import ibis\n",
    "import icanexplain as ice\n",
    "\n",
    "products_df = ice.datasets.load_product_footprints()\n",
    "con = ibis.connect(\"duckdb://example.ddb\")\n",
    "con.create_table(\n",
    "    \"products\", products_df, overwrite=True\n",
    ")"
   ]
  },
  {
   "cell_type": "code",
   "execution_count": 2,
   "metadata": {
    "execution": {
     "iopub.execute_input": "2024-09-24T16:47:40.371272Z",
     "iopub.status.busy": "2024-09-24T16:47:40.371174Z",
     "iopub.status.idle": "2024-09-24T16:47:40.385389Z",
     "shell.execute_reply": "2024-09-24T16:47:40.385125Z"
    }
   },
   "outputs": [
    {
     "data": {
      "text/plain": [
       "['products']"
      ]
     },
     "execution_count": 2,
     "metadata": {},
     "output_type": "execute_result"
    }
   ],
   "source": [
    "con = ibis.connect(\"duckdb://example.ddb\")\n",
    "con.list_tables()"
   ]
  },
  {
   "cell_type": "code",
   "execution_count": 3,
   "metadata": {
    "execution": {
     "iopub.execute_input": "2024-09-24T16:47:40.386625Z",
     "iopub.status.busy": "2024-09-24T16:47:40.386547Z",
     "iopub.status.idle": "2024-09-24T16:47:40.400427Z",
     "shell.execute_reply": "2024-09-24T16:47:40.400189Z"
    }
   },
   "outputs": [
    {
     "data": {
      "text/html": [
       "<pre style=\"white-space:pre;overflow-x:auto;line-height:normal;font-family:Menlo,'DejaVu Sans Mono',consolas,'Courier New',monospace\">┏━━━━━━━┳━━━━━━━━━━┳━━━━━━━━━━━━┳━━━━━━━━━━━┳━━━━━━━┓\n",
       "┃<span style=\"font-weight: bold\"> year  </span>┃<span style=\"font-weight: bold\"> category </span>┃<span style=\"font-weight: bold\"> product_id </span>┃<span style=\"font-weight: bold\"> footprint </span>┃<span style=\"font-weight: bold\"> units </span>┃\n",
       "┡━━━━━━━╇━━━━━━━━━━╇━━━━━━━━━━━━╇━━━━━━━━━━━╇━━━━━━━┩\n",
       "│ <span style=\"color: #7f7f7f; text-decoration-color: #7f7f7f\">int64</span> │ <span style=\"color: #7f7f7f; text-decoration-color: #7f7f7f\">string</span>   │ <span style=\"color: #7f7f7f; text-decoration-color: #7f7f7f\">string</span>     │ <span style=\"color: #7f7f7f; text-decoration-color: #7f7f7f\">float64</span>   │ <span style=\"color: #7f7f7f; text-decoration-color: #7f7f7f\">int64</span> │\n",
       "├───────┼──────────┼────────────┼───────────┼───────┤\n",
       "│  <span style=\"color: #008080; text-decoration-color: #008080; font-weight: bold\">2021</span> │ <span style=\"color: #008000; text-decoration-color: #008000\">DRESS   </span> │ <span style=\"color: #008000; text-decoration-color: #008000\">848be709  </span> │     <span style=\"color: #008080; text-decoration-color: #008080; font-weight: bold\">96.04</span> │   <span style=\"color: #008080; text-decoration-color: #008080; font-weight: bold\">803</span> │\n",
       "│  <span style=\"color: #008080; text-decoration-color: #008080; font-weight: bold\">2021</span> │ <span style=\"color: #008000; text-decoration-color: #008000\">DRESS   </span> │ <span style=\"color: #008000; text-decoration-color: #008000\">658f92b3  </span> │     <span style=\"color: #008080; text-decoration-color: #008080; font-weight: bold\">58.15</span> │  <span style=\"color: #008080; text-decoration-color: #008080; font-weight: bold\">3367</span> │\n",
       "│  <span style=\"color: #008080; text-decoration-color: #008080; font-weight: bold\">2021</span> │ <span style=\"color: #008000; text-decoration-color: #008000\">DRESS   </span> │ <span style=\"color: #008000; text-decoration-color: #008000\">3a26f323  </span> │     <span style=\"color: #008080; text-decoration-color: #008080; font-weight: bold\">82.94</span> │   <span style=\"color: #008080; text-decoration-color: #008080; font-weight: bold\">240</span> │\n",
       "│  <span style=\"color: #008080; text-decoration-color: #008080; font-weight: bold\">2021</span> │ <span style=\"color: #008000; text-decoration-color: #008000\">DRESS   </span> │ <span style=\"color: #008000; text-decoration-color: #008000\">6221dca6  </span> │     <span style=\"color: #008080; text-decoration-color: #008080; font-weight: bold\">85.94</span> │   <span style=\"color: #008080; text-decoration-color: #008080; font-weight: bold\">432</span> │\n",
       "│  <span style=\"color: #008080; text-decoration-color: #008080; font-weight: bold\">2021</span> │ <span style=\"color: #008000; text-decoration-color: #008000\">DRESS   </span> │ <span style=\"color: #008000; text-decoration-color: #008000\">46864ac5  </span> │     <span style=\"color: #008080; text-decoration-color: #008080; font-weight: bold\">84.99</span> │   <span style=\"color: #008080; text-decoration-color: #008080; font-weight: bold\">816</span> │\n",
       "└───────┴──────────┴────────────┴───────────┴───────┘\n",
       "</pre>\n"
      ],
      "text/plain": [
       "┏━━━━━━━┳━━━━━━━━━━┳━━━━━━━━━━━━┳━━━━━━━━━━━┳━━━━━━━┓\n",
       "┃\u001b[1m \u001b[0m\u001b[1myear\u001b[0m\u001b[1m \u001b[0m\u001b[1m \u001b[0m┃\u001b[1m \u001b[0m\u001b[1mcategory\u001b[0m\u001b[1m \u001b[0m┃\u001b[1m \u001b[0m\u001b[1mproduct_id\u001b[0m\u001b[1m \u001b[0m┃\u001b[1m \u001b[0m\u001b[1mfootprint\u001b[0m\u001b[1m \u001b[0m┃\u001b[1m \u001b[0m\u001b[1munits\u001b[0m\u001b[1m \u001b[0m┃\n",
       "┡━━━━━━━╇━━━━━━━━━━╇━━━━━━━━━━━━╇━━━━━━━━━━━╇━━━━━━━┩\n",
       "│ \u001b[2mint64\u001b[0m │ \u001b[2mstring\u001b[0m   │ \u001b[2mstring\u001b[0m     │ \u001b[2mfloat64\u001b[0m   │ \u001b[2mint64\u001b[0m │\n",
       "├───────┼──────────┼────────────┼───────────┼───────┤\n",
       "│  \u001b[1;36m2021\u001b[0m │ \u001b[32mDRESS   \u001b[0m │ \u001b[32m848be709  \u001b[0m │     \u001b[1;36m96.04\u001b[0m │   \u001b[1;36m803\u001b[0m │\n",
       "│  \u001b[1;36m2021\u001b[0m │ \u001b[32mDRESS   \u001b[0m │ \u001b[32m658f92b3  \u001b[0m │     \u001b[1;36m58.15\u001b[0m │  \u001b[1;36m3367\u001b[0m │\n",
       "│  \u001b[1;36m2021\u001b[0m │ \u001b[32mDRESS   \u001b[0m │ \u001b[32m3a26f323  \u001b[0m │     \u001b[1;36m82.94\u001b[0m │   \u001b[1;36m240\u001b[0m │\n",
       "│  \u001b[1;36m2021\u001b[0m │ \u001b[32mDRESS   \u001b[0m │ \u001b[32m6221dca6  \u001b[0m │     \u001b[1;36m85.94\u001b[0m │   \u001b[1;36m432\u001b[0m │\n",
       "│  \u001b[1;36m2021\u001b[0m │ \u001b[32mDRESS   \u001b[0m │ \u001b[32m46864ac5  \u001b[0m │     \u001b[1;36m84.99\u001b[0m │   \u001b[1;36m816\u001b[0m │\n",
       "└───────┴──────────┴────────────┴───────────┴───────┘"
      ]
     },
     "execution_count": 3,
     "metadata": {},
     "output_type": "execute_result"
    }
   ],
   "source": [
    "ibis.options.interactive = True\n",
    "products = con.table(\"products\")\n",
    "products.head()"
   ]
  },
  {
   "cell_type": "code",
   "execution_count": 4,
   "metadata": {
    "execution": {
     "iopub.execute_input": "2024-09-24T16:47:40.401658Z",
     "iopub.status.busy": "2024-09-24T16:47:40.401583Z",
     "iopub.status.idle": "2024-09-24T16:47:40.500964Z",
     "shell.execute_reply": "2024-09-24T16:47:40.500689Z"
    }
   },
   "outputs": [
    {
     "data": {
      "text/html": [
       "<pre style=\"white-space:pre;overflow-x:auto;line-height:normal;font-family:Menlo,'DejaVu Sans Mono',consolas,'Courier New',monospace\">┏━━━━━━━┳━━━━━━━━━━┳━━━━━━━━━━━━━━━┳━━━━━━━━━━━━━━━┓\n",
       "┃<span style=\"font-weight: bold\"> year  </span>┃<span style=\"font-weight: bold\"> category </span>┃<span style=\"font-weight: bold\"> inner         </span>┃<span style=\"font-weight: bold\"> mix           </span>┃\n",
       "┡━━━━━━━╇━━━━━━━━━━╇━━━━━━━━━━━━━━━╇━━━━━━━━━━━━━━━┩\n",
       "│ <span style=\"color: #7f7f7f; text-decoration-color: #7f7f7f\">int64</span> │ <span style=\"color: #7f7f7f; text-decoration-color: #7f7f7f\">string</span>   │ <span style=\"color: #7f7f7f; text-decoration-color: #7f7f7f\">float64</span>       │ <span style=\"color: #7f7f7f; text-decoration-color: #7f7f7f\">float64</span>       │\n",
       "├───────┼──────────┼───────────────┼───────────────┤\n",
       "│  <span style=\"color: #008080; text-decoration-color: #008080; font-weight: bold\">2022</span> │ <span style=\"color: #008000; text-decoration-color: #008000\">DRESS   </span> │  <span style=\"color: #008080; text-decoration-color: #008080; font-weight: bold\">3.931932e+06</span> │ <span style=\"color: #008080; text-decoration-color: #008080; font-weight: bold\">-1.881370e+07</span> │\n",
       "│  <span style=\"color: #008080; text-decoration-color: #008080; font-weight: bold\">2022</span> │ <span style=\"color: #008000; text-decoration-color: #008000\">JACKET  </span> │ <span style=\"color: #008080; text-decoration-color: #008080; font-weight: bold\">-1.510008e+07</span> │ <span style=\"color: #008080; text-decoration-color: #008080; font-weight: bold\">-9.238617e+07</span> │\n",
       "│  <span style=\"color: #008080; text-decoration-color: #008080; font-weight: bold\">2022</span> │ <span style=\"color: #008000; text-decoration-color: #008000\">PANTS   </span> │  <span style=\"color: #008080; text-decoration-color: #008080; font-weight: bold\">4.002506e+07</span> │  <span style=\"color: #008080; text-decoration-color: #008080; font-weight: bold\">5.295190e+07</span> │\n",
       "│  <span style=\"color: #008080; text-decoration-color: #008080; font-weight: bold\">2022</span> │ <span style=\"color: #008000; text-decoration-color: #008000\">SHIRT   </span> │ <span style=\"color: #008080; text-decoration-color: #008080; font-weight: bold\">-1.484809e+06</span> │ <span style=\"color: #008080; text-decoration-color: #008080; font-weight: bold\">-5.791456e+06</span> │\n",
       "│  <span style=\"color: #008080; text-decoration-color: #008080; font-weight: bold\">2022</span> │ <span style=\"color: #008000; text-decoration-color: #008000\">SWEATER </span> │ <span style=\"color: #008080; text-decoration-color: #008080; font-weight: bold\">-2.676209e+07</span> │  <span style=\"color: #008080; text-decoration-color: #008080; font-weight: bold\">1.181504e+07</span> │\n",
       "│  <span style=\"color: #008080; text-decoration-color: #008080; font-weight: bold\">2022</span> │ <span style=\"color: #008000; text-decoration-color: #008000\">TSHIRT  </span> │  <span style=\"color: #008080; text-decoration-color: #008080; font-weight: bold\">6.650940e+06</span> │ <span style=\"color: #008080; text-decoration-color: #008080; font-weight: bold\">-2.311836e+07</span> │\n",
       "│  <span style=\"color: #008080; text-decoration-color: #008080; font-weight: bold\">2023</span> │ <span style=\"color: #008000; text-decoration-color: #008000\">DRESS   </span> │ <span style=\"color: #008080; text-decoration-color: #008080; font-weight: bold\">-4.078094e+06</span> │ <span style=\"color: #008080; text-decoration-color: #008080; font-weight: bold\">-1.240339e+07</span> │\n",
       "│  <span style=\"color: #008080; text-decoration-color: #008080; font-weight: bold\">2023</span> │ <span style=\"color: #008000; text-decoration-color: #008000\">JACKET  </span> │ <span style=\"color: #008080; text-decoration-color: #008080; font-weight: bold\">-6.793317e+06</span> │ <span style=\"color: #008080; text-decoration-color: #008080; font-weight: bold\">-4.924036e+07</span> │\n",
       "│  <span style=\"color: #008080; text-decoration-color: #008080; font-weight: bold\">2023</span> │ <span style=\"color: #008000; text-decoration-color: #008000\">PANTS   </span> │ <span style=\"color: #008080; text-decoration-color: #008080; font-weight: bold\">-1.636299e+07</span> │ <span style=\"color: #008080; text-decoration-color: #008080; font-weight: bold\">-2.295608e+08</span> │\n",
       "│  <span style=\"color: #008080; text-decoration-color: #008080; font-weight: bold\">2023</span> │ <span style=\"color: #008000; text-decoration-color: #008000\">SHIRT   </span> │  <span style=\"color: #008080; text-decoration-color: #008080; font-weight: bold\">8.920908e+05</span> │ <span style=\"color: #008080; text-decoration-color: #008080; font-weight: bold\">-4.019144e+06</span> │\n",
       "│     <span style=\"color: #7f7f7f; text-decoration-color: #7f7f7f\">…</span> │ <span style=\"color: #7f7f7f; text-decoration-color: #7f7f7f\">…</span>        │             <span style=\"color: #7f7f7f; text-decoration-color: #7f7f7f\">…</span> │             <span style=\"color: #7f7f7f; text-decoration-color: #7f7f7f\">…</span> │\n",
       "└───────┴──────────┴───────────────┴───────────────┘\n",
       "</pre>\n"
      ],
      "text/plain": [
       "┏━━━━━━━┳━━━━━━━━━━┳━━━━━━━━━━━━━━━┳━━━━━━━━━━━━━━━┓\n",
       "┃\u001b[1m \u001b[0m\u001b[1myear\u001b[0m\u001b[1m \u001b[0m\u001b[1m \u001b[0m┃\u001b[1m \u001b[0m\u001b[1mcategory\u001b[0m\u001b[1m \u001b[0m┃\u001b[1m \u001b[0m\u001b[1minner\u001b[0m\u001b[1m        \u001b[0m\u001b[1m \u001b[0m┃\u001b[1m \u001b[0m\u001b[1mmix\u001b[0m\u001b[1m          \u001b[0m\u001b[1m \u001b[0m┃\n",
       "┡━━━━━━━╇━━━━━━━━━━╇━━━━━━━━━━━━━━━╇━━━━━━━━━━━━━━━┩\n",
       "│ \u001b[2mint64\u001b[0m │ \u001b[2mstring\u001b[0m   │ \u001b[2mfloat64\u001b[0m       │ \u001b[2mfloat64\u001b[0m       │\n",
       "├───────┼──────────┼───────────────┼───────────────┤\n",
       "│  \u001b[1;36m2022\u001b[0m │ \u001b[32mDRESS   \u001b[0m │  \u001b[1;36m3.931932e+06\u001b[0m │ \u001b[1;36m-1.881370e+07\u001b[0m │\n",
       "│  \u001b[1;36m2022\u001b[0m │ \u001b[32mJACKET  \u001b[0m │ \u001b[1;36m-1.510008e+07\u001b[0m │ \u001b[1;36m-9.238617e+07\u001b[0m │\n",
       "│  \u001b[1;36m2022\u001b[0m │ \u001b[32mPANTS   \u001b[0m │  \u001b[1;36m4.002506e+07\u001b[0m │  \u001b[1;36m5.295190e+07\u001b[0m │\n",
       "│  \u001b[1;36m2022\u001b[0m │ \u001b[32mSHIRT   \u001b[0m │ \u001b[1;36m-1.484809e+06\u001b[0m │ \u001b[1;36m-5.791456e+06\u001b[0m │\n",
       "│  \u001b[1;36m2022\u001b[0m │ \u001b[32mSWEATER \u001b[0m │ \u001b[1;36m-2.676209e+07\u001b[0m │  \u001b[1;36m1.181504e+07\u001b[0m │\n",
       "│  \u001b[1;36m2022\u001b[0m │ \u001b[32mTSHIRT  \u001b[0m │  \u001b[1;36m6.650940e+06\u001b[0m │ \u001b[1;36m-2.311836e+07\u001b[0m │\n",
       "│  \u001b[1;36m2023\u001b[0m │ \u001b[32mDRESS   \u001b[0m │ \u001b[1;36m-4.078094e+06\u001b[0m │ \u001b[1;36m-1.240339e+07\u001b[0m │\n",
       "│  \u001b[1;36m2023\u001b[0m │ \u001b[32mJACKET  \u001b[0m │ \u001b[1;36m-6.793317e+06\u001b[0m │ \u001b[1;36m-4.924036e+07\u001b[0m │\n",
       "│  \u001b[1;36m2023\u001b[0m │ \u001b[32mPANTS   \u001b[0m │ \u001b[1;36m-1.636299e+07\u001b[0m │ \u001b[1;36m-2.295608e+08\u001b[0m │\n",
       "│  \u001b[1;36m2023\u001b[0m │ \u001b[32mSHIRT   \u001b[0m │  \u001b[1;36m8.920908e+05\u001b[0m │ \u001b[1;36m-4.019144e+06\u001b[0m │\n",
       "│     \u001b[2m…\u001b[0m │ \u001b[2m…\u001b[0m        │             \u001b[2m…\u001b[0m │             \u001b[2m…\u001b[0m │\n",
       "└───────┴──────────┴───────────────┴───────────────┘"
      ]
     },
     "execution_count": 4,
     "metadata": {},
     "output_type": "execute_result"
    }
   ],
   "source": [
    "explainer = ice.SumExplainer(\n",
    "    fact='footprint',\n",
    "    count='units',\n",
    "    group='category',\n",
    "    period='year'\n",
    ")\n",
    "explanation = explainer(products)\n",
    "explanation"
   ]
  },
  {
   "cell_type": "code",
   "execution_count": 5,
   "metadata": {
    "execution": {
     "iopub.execute_input": "2024-09-24T16:47:40.502228Z",
     "iopub.status.busy": "2024-09-24T16:47:40.502121Z",
     "iopub.status.idle": "2024-09-24T16:47:40.510694Z",
     "shell.execute_reply": "2024-09-24T16:47:40.510470Z"
    }
   },
   "outputs": [
    {
     "data": {
      "text/plain": [
       "ibis.expr.types.relations.Table"
      ]
     },
     "execution_count": 5,
     "metadata": {},
     "output_type": "execute_result"
    }
   ],
   "source": [
    "type(explanation)"
   ]
  },
  {
   "cell_type": "code",
   "execution_count": 6,
   "metadata": {
    "execution": {
     "iopub.execute_input": "2024-09-24T16:47:40.511882Z",
     "iopub.status.busy": "2024-09-24T16:47:40.511800Z",
     "iopub.status.idle": "2024-09-24T16:47:40.537378Z",
     "shell.execute_reply": "2024-09-24T16:47:40.537114Z"
    }
   },
   "outputs": [
    {
     "data": {
      "text/html": [
       "<div>\n",
       "<style scoped>\n",
       "    .dataframe tbody tr th:only-of-type {\n",
       "        vertical-align: middle;\n",
       "    }\n",
       "\n",
       "    .dataframe tbody tr th {\n",
       "        vertical-align: top;\n",
       "    }\n",
       "\n",
       "    .dataframe thead th {\n",
       "        text-align: right;\n",
       "    }\n",
       "</style>\n",
       "<table border=\"1\" class=\"dataframe\">\n",
       "  <thead>\n",
       "    <tr style=\"text-align: right;\">\n",
       "      <th></th>\n",
       "      <th>year</th>\n",
       "      <th>category</th>\n",
       "      <th>inner</th>\n",
       "      <th>mix</th>\n",
       "    </tr>\n",
       "  </thead>\n",
       "  <tbody>\n",
       "    <tr>\n",
       "      <th>0</th>\n",
       "      <td>2022</td>\n",
       "      <td>DRESS</td>\n",
       "      <td>3.931932e+06</td>\n",
       "      <td>-1.881370e+07</td>\n",
       "    </tr>\n",
       "    <tr>\n",
       "      <th>1</th>\n",
       "      <td>2022</td>\n",
       "      <td>JACKET</td>\n",
       "      <td>-1.510008e+07</td>\n",
       "      <td>-9.238617e+07</td>\n",
       "    </tr>\n",
       "    <tr>\n",
       "      <th>2</th>\n",
       "      <td>2022</td>\n",
       "      <td>PANTS</td>\n",
       "      <td>4.002506e+07</td>\n",
       "      <td>5.295190e+07</td>\n",
       "    </tr>\n",
       "    <tr>\n",
       "      <th>3</th>\n",
       "      <td>2022</td>\n",
       "      <td>SHIRT</td>\n",
       "      <td>-1.484809e+06</td>\n",
       "      <td>-5.791456e+06</td>\n",
       "    </tr>\n",
       "    <tr>\n",
       "      <th>4</th>\n",
       "      <td>2022</td>\n",
       "      <td>SWEATER</td>\n",
       "      <td>-2.676209e+07</td>\n",
       "      <td>1.181504e+07</td>\n",
       "    </tr>\n",
       "    <tr>\n",
       "      <th>5</th>\n",
       "      <td>2022</td>\n",
       "      <td>TSHIRT</td>\n",
       "      <td>6.650940e+06</td>\n",
       "      <td>-2.311836e+07</td>\n",
       "    </tr>\n",
       "    <tr>\n",
       "      <th>6</th>\n",
       "      <td>2023</td>\n",
       "      <td>DRESS</td>\n",
       "      <td>-4.078094e+06</td>\n",
       "      <td>-1.240339e+07</td>\n",
       "    </tr>\n",
       "    <tr>\n",
       "      <th>7</th>\n",
       "      <td>2023</td>\n",
       "      <td>JACKET</td>\n",
       "      <td>-6.793317e+06</td>\n",
       "      <td>-4.924036e+07</td>\n",
       "    </tr>\n",
       "    <tr>\n",
       "      <th>8</th>\n",
       "      <td>2023</td>\n",
       "      <td>PANTS</td>\n",
       "      <td>-1.636299e+07</td>\n",
       "      <td>-2.295608e+08</td>\n",
       "    </tr>\n",
       "    <tr>\n",
       "      <th>9</th>\n",
       "      <td>2023</td>\n",
       "      <td>SHIRT</td>\n",
       "      <td>8.920908e+05</td>\n",
       "      <td>-4.019144e+06</td>\n",
       "    </tr>\n",
       "    <tr>\n",
       "      <th>10</th>\n",
       "      <td>2023</td>\n",
       "      <td>SWEATER</td>\n",
       "      <td>-5.701391e+06</td>\n",
       "      <td>-1.130507e+08</td>\n",
       "    </tr>\n",
       "    <tr>\n",
       "      <th>11</th>\n",
       "      <td>2023</td>\n",
       "      <td>TSHIRT</td>\n",
       "      <td>-1.150391e+07</td>\n",
       "      <td>-8.391323e+07</td>\n",
       "    </tr>\n",
       "  </tbody>\n",
       "</table>\n",
       "</div>"
      ],
      "text/plain": [
       "    year category         inner           mix\n",
       "0   2022    DRESS  3.931932e+06 -1.881370e+07\n",
       "1   2022   JACKET -1.510008e+07 -9.238617e+07\n",
       "2   2022    PANTS  4.002506e+07  5.295190e+07\n",
       "3   2022    SHIRT -1.484809e+06 -5.791456e+06\n",
       "4   2022  SWEATER -2.676209e+07  1.181504e+07\n",
       "5   2022   TSHIRT  6.650940e+06 -2.311836e+07\n",
       "6   2023    DRESS -4.078094e+06 -1.240339e+07\n",
       "7   2023   JACKET -6.793317e+06 -4.924036e+07\n",
       "8   2023    PANTS -1.636299e+07 -2.295608e+08\n",
       "9   2023    SHIRT  8.920908e+05 -4.019144e+06\n",
       "10  2023  SWEATER -5.701391e+06 -1.130507e+08\n",
       "11  2023   TSHIRT -1.150391e+07 -8.391323e+07"
      ]
     },
     "execution_count": 6,
     "metadata": {},
     "output_type": "execute_result"
    }
   ],
   "source": [
    "explanation.execute()"
   ]
  },
  {
   "cell_type": "code",
   "execution_count": 7,
   "metadata": {
    "execution": {
     "iopub.execute_input": "2024-09-24T16:47:40.538610Z",
     "iopub.status.busy": "2024-09-24T16:47:40.538516Z",
     "iopub.status.idle": "2024-09-24T16:47:40.568211Z",
     "shell.execute_reply": "2024-09-24T16:47:40.567972Z"
    }
   },
   "outputs": [
    {
     "data": {
      "text/markdown": [
       "```sql\n",
       "SELECT\n",
       "  *\n",
       "FROM (\n",
       "  SELECT\n",
       "    \"t9\".\"year\",\n",
       "    \"t9\".\"category\",\n",
       "    \"t9\".\"count_lag\" * (\n",
       "      \"t9\".\"mean\" - \"t9\".\"mean_lag\"\n",
       "    ) AS \"inner\",\n",
       "    (\n",
       "      \"t9\".\"count\" - \"t9\".\"count_lag\"\n",
       "    ) * \"t9\".\"mean\" AS \"mix\"\n",
       "  FROM (\n",
       "    SELECT\n",
       "      \"t8\".\"category\",\n",
       "      \"t8\".\"year\",\n",
       "      \"t8\".\"mean\",\n",
       "      \"t8\".\"count\",\n",
       "      LAG(\"t8\".\"mean\", 1) OVER (PARTITION BY \"t8\".\"category\" ORDER BY \"t8\".\"year\" ASC ROWS BETWEEN UNBOUNDED PRECEDING AND UNBOUNDED FOLLOWING) AS \"mean_lag\",\n",
       "      LAG(\"t8\".\"count\", 1) OVER (PARTITION BY \"t8\".\"category\" ORDER BY \"t8\".\"year\" ASC ROWS BETWEEN UNBOUNDED PRECEDING AND UNBOUNDED FOLLOWING) AS \"count_lag\"\n",
       "    FROM (\n",
       "      SELECT\n",
       "        \"t7\".\"category\",\n",
       "        \"t7\".\"year\",\n",
       "        COALESCE(\"t7\".\"mean\", 0) AS \"mean\",\n",
       "        COALESCE(\"t7\".\"count\", 0) AS \"count\"\n",
       "      FROM (\n",
       "        SELECT\n",
       "          \"t3\".\"category\",\n",
       "          \"t4\".\"year\",\n",
       "          \"t6\".\"mean\",\n",
       "          \"t6\".\"count\"\n",
       "        FROM (\n",
       "          SELECT DISTINCT\n",
       "            \"t0\".\"category\"\n",
       "          FROM \"products\" AS \"t0\"\n",
       "        ) AS \"t3\"\n",
       "        CROSS JOIN (\n",
       "          SELECT DISTINCT\n",
       "            \"t0\".\"year\"\n",
       "          FROM \"products\" AS \"t0\"\n",
       "        ) AS \"t4\"\n",
       "        LEFT OUTER JOIN (\n",
       "          SELECT\n",
       "            \"t0\".\"category\",\n",
       "            \"t0\".\"year\",\n",
       "            SUM(\"t0\".\"footprint\" * \"t0\".\"units\") / SUM(\"t0\".\"units\") AS \"mean\",\n",
       "            SUM(\"t0\".\"units\") AS \"count\"\n",
       "          FROM \"products\" AS \"t0\"\n",
       "          GROUP BY\n",
       "            1,\n",
       "            2\n",
       "        ) AS \"t6\"\n",
       "          ON \"t3\".\"category\" = \"t6\".\"category\" AND \"t4\".\"year\" = \"t6\".\"year\"\n",
       "      ) AS \"t7\"\n",
       "    ) AS \"t8\"\n",
       "  ) AS \"t9\"\n",
       "  ORDER BY\n",
       "    \"t9\".\"year\" ASC,\n",
       "    \"t9\".\"category\" ASC\n",
       ") AS \"t10\"\n",
       "WHERE\n",
       "  \"t10\".\"year\" IS NOT NULL\n",
       "  AND \"t10\".\"category\" IS NOT NULL\n",
       "  AND \"t10\".\"inner\" IS NOT NULL\n",
       "  AND \"t10\".\"mix\" IS NOT NULL\n",
       "```"
      ],
      "text/plain": [
       "\u001b[34mSELECT\u001b[39;49;00m\u001b[37m\u001b[39;49;00m\n",
       "\u001b[37m  \u001b[39;49;00m*\u001b[37m\u001b[39;49;00m\n",
       "\u001b[34mFROM\u001b[39;49;00m\u001b[37m \u001b[39;49;00m(\u001b[37m\u001b[39;49;00m\n",
       "\u001b[37m  \u001b[39;49;00m\u001b[34mSELECT\u001b[39;49;00m\u001b[37m\u001b[39;49;00m\n",
       "\u001b[37m    \u001b[39;49;00m\u001b[33m\"t9\"\u001b[39;49;00m.\u001b[33m\"year\"\u001b[39;49;00m,\u001b[37m\u001b[39;49;00m\n",
       "\u001b[37m    \u001b[39;49;00m\u001b[33m\"t9\"\u001b[39;49;00m.\u001b[33m\"category\"\u001b[39;49;00m,\u001b[37m\u001b[39;49;00m\n",
       "\u001b[37m    \u001b[39;49;00m\u001b[33m\"t9\"\u001b[39;49;00m.\u001b[33m\"count_lag\"\u001b[39;49;00m\u001b[37m \u001b[39;49;00m*\u001b[37m \u001b[39;49;00m(\u001b[37m\u001b[39;49;00m\n",
       "\u001b[37m      \u001b[39;49;00m\u001b[33m\"t9\"\u001b[39;49;00m.\u001b[33m\"mean\"\u001b[39;49;00m\u001b[37m \u001b[39;49;00m-\u001b[37m \u001b[39;49;00m\u001b[33m\"t9\"\u001b[39;49;00m.\u001b[33m\"mean_lag\"\u001b[39;49;00m\u001b[37m\u001b[39;49;00m\n",
       "\u001b[37m    \u001b[39;49;00m)\u001b[37m \u001b[39;49;00m\u001b[34mAS\u001b[39;49;00m\u001b[37m \u001b[39;49;00m\u001b[33m\"inner\"\u001b[39;49;00m,\u001b[37m\u001b[39;49;00m\n",
       "\u001b[37m    \u001b[39;49;00m(\u001b[37m\u001b[39;49;00m\n",
       "\u001b[37m      \u001b[39;49;00m\u001b[33m\"t9\"\u001b[39;49;00m.\u001b[33m\"count\"\u001b[39;49;00m\u001b[37m \u001b[39;49;00m-\u001b[37m \u001b[39;49;00m\u001b[33m\"t9\"\u001b[39;49;00m.\u001b[33m\"count_lag\"\u001b[39;49;00m\u001b[37m\u001b[39;49;00m\n",
       "\u001b[37m    \u001b[39;49;00m)\u001b[37m \u001b[39;49;00m*\u001b[37m \u001b[39;49;00m\u001b[33m\"t9\"\u001b[39;49;00m.\u001b[33m\"mean\"\u001b[39;49;00m\u001b[37m \u001b[39;49;00m\u001b[34mAS\u001b[39;49;00m\u001b[37m \u001b[39;49;00m\u001b[33m\"mix\"\u001b[39;49;00m\u001b[37m\u001b[39;49;00m\n",
       "\u001b[37m  \u001b[39;49;00m\u001b[34mFROM\u001b[39;49;00m\u001b[37m \u001b[39;49;00m(\u001b[37m\u001b[39;49;00m\n",
       "\u001b[37m    \u001b[39;49;00m\u001b[34mSELECT\u001b[39;49;00m\u001b[37m\u001b[39;49;00m\n",
       "\u001b[37m      \u001b[39;49;00m\u001b[33m\"t8\"\u001b[39;49;00m.\u001b[33m\"category\"\u001b[39;49;00m,\u001b[37m\u001b[39;49;00m\n",
       "\u001b[37m      \u001b[39;49;00m\u001b[33m\"t8\"\u001b[39;49;00m.\u001b[33m\"year\"\u001b[39;49;00m,\u001b[37m\u001b[39;49;00m\n",
       "\u001b[37m      \u001b[39;49;00m\u001b[33m\"t8\"\u001b[39;49;00m.\u001b[33m\"mean\"\u001b[39;49;00m,\u001b[37m\u001b[39;49;00m\n",
       "\u001b[37m      \u001b[39;49;00m\u001b[33m\"t8\"\u001b[39;49;00m.\u001b[33m\"count\"\u001b[39;49;00m,\u001b[37m\u001b[39;49;00m\n",
       "\u001b[37m      \u001b[39;49;00mLAG(\u001b[33m\"t8\"\u001b[39;49;00m.\u001b[33m\"mean\"\u001b[39;49;00m,\u001b[37m \u001b[39;49;00m\u001b[34m1\u001b[39;49;00m)\u001b[37m \u001b[39;49;00mOVER\u001b[37m \u001b[39;49;00m(PARTITION\u001b[37m \u001b[39;49;00m\u001b[34mBY\u001b[39;49;00m\u001b[37m \u001b[39;49;00m\u001b[33m\"t8\"\u001b[39;49;00m.\u001b[33m\"category\"\u001b[39;49;00m\u001b[37m \u001b[39;49;00m\u001b[34mORDER\u001b[39;49;00m\u001b[37m \u001b[39;49;00m\u001b[34mBY\u001b[39;49;00m\u001b[37m \u001b[39;49;00m\u001b[33m\"t8\"\u001b[39;49;00m.\u001b[33m\"year\"\u001b[39;49;00m\u001b[37m \u001b[39;49;00m\u001b[34mASC\u001b[39;49;00m\u001b[37m \u001b[39;49;00m\u001b[34mROWS\u001b[39;49;00m\u001b[37m \u001b[39;49;00m\u001b[34mBETWEEN\u001b[39;49;00m\u001b[37m \u001b[39;49;00mUNBOUNDED\u001b[37m \u001b[39;49;00mPRECEDING\u001b[37m \u001b[39;49;00m\u001b[34mAND\u001b[39;49;00m\u001b[37m \u001b[39;49;00mUNBOUNDED\u001b[37m \u001b[39;49;00mFOLLOWING)\u001b[37m \u001b[39;49;00m\u001b[34mAS\u001b[39;49;00m\u001b[37m \u001b[39;49;00m\u001b[33m\"mean_lag\"\u001b[39;49;00m,\u001b[37m\u001b[39;49;00m\n",
       "\u001b[37m      \u001b[39;49;00mLAG(\u001b[33m\"t8\"\u001b[39;49;00m.\u001b[33m\"count\"\u001b[39;49;00m,\u001b[37m \u001b[39;49;00m\u001b[34m1\u001b[39;49;00m)\u001b[37m \u001b[39;49;00mOVER\u001b[37m \u001b[39;49;00m(PARTITION\u001b[37m \u001b[39;49;00m\u001b[34mBY\u001b[39;49;00m\u001b[37m \u001b[39;49;00m\u001b[33m\"t8\"\u001b[39;49;00m.\u001b[33m\"category\"\u001b[39;49;00m\u001b[37m \u001b[39;49;00m\u001b[34mORDER\u001b[39;49;00m\u001b[37m \u001b[39;49;00m\u001b[34mBY\u001b[39;49;00m\u001b[37m \u001b[39;49;00m\u001b[33m\"t8\"\u001b[39;49;00m.\u001b[33m\"year\"\u001b[39;49;00m\u001b[37m \u001b[39;49;00m\u001b[34mASC\u001b[39;49;00m\u001b[37m \u001b[39;49;00m\u001b[34mROWS\u001b[39;49;00m\u001b[37m \u001b[39;49;00m\u001b[34mBETWEEN\u001b[39;49;00m\u001b[37m \u001b[39;49;00mUNBOUNDED\u001b[37m \u001b[39;49;00mPRECEDING\u001b[37m \u001b[39;49;00m\u001b[34mAND\u001b[39;49;00m\u001b[37m \u001b[39;49;00mUNBOUNDED\u001b[37m \u001b[39;49;00mFOLLOWING)\u001b[37m \u001b[39;49;00m\u001b[34mAS\u001b[39;49;00m\u001b[37m \u001b[39;49;00m\u001b[33m\"count_lag\"\u001b[39;49;00m\u001b[37m\u001b[39;49;00m\n",
       "\u001b[37m    \u001b[39;49;00m\u001b[34mFROM\u001b[39;49;00m\u001b[37m \u001b[39;49;00m(\u001b[37m\u001b[39;49;00m\n",
       "\u001b[37m      \u001b[39;49;00m\u001b[34mSELECT\u001b[39;49;00m\u001b[37m\u001b[39;49;00m\n",
       "\u001b[37m        \u001b[39;49;00m\u001b[33m\"t7\"\u001b[39;49;00m.\u001b[33m\"category\"\u001b[39;49;00m,\u001b[37m\u001b[39;49;00m\n",
       "\u001b[37m        \u001b[39;49;00m\u001b[33m\"t7\"\u001b[39;49;00m.\u001b[33m\"year\"\u001b[39;49;00m,\u001b[37m\u001b[39;49;00m\n",
       "\u001b[37m        \u001b[39;49;00m\u001b[34mCOALESCE\u001b[39;49;00m(\u001b[33m\"t7\"\u001b[39;49;00m.\u001b[33m\"mean\"\u001b[39;49;00m,\u001b[37m \u001b[39;49;00m\u001b[34m0\u001b[39;49;00m)\u001b[37m \u001b[39;49;00m\u001b[34mAS\u001b[39;49;00m\u001b[37m \u001b[39;49;00m\u001b[33m\"mean\"\u001b[39;49;00m,\u001b[37m\u001b[39;49;00m\n",
       "\u001b[37m        \u001b[39;49;00m\u001b[34mCOALESCE\u001b[39;49;00m(\u001b[33m\"t7\"\u001b[39;49;00m.\u001b[33m\"count\"\u001b[39;49;00m,\u001b[37m \u001b[39;49;00m\u001b[34m0\u001b[39;49;00m)\u001b[37m \u001b[39;49;00m\u001b[34mAS\u001b[39;49;00m\u001b[37m \u001b[39;49;00m\u001b[33m\"count\"\u001b[39;49;00m\u001b[37m\u001b[39;49;00m\n",
       "\u001b[37m      \u001b[39;49;00m\u001b[34mFROM\u001b[39;49;00m\u001b[37m \u001b[39;49;00m(\u001b[37m\u001b[39;49;00m\n",
       "\u001b[37m        \u001b[39;49;00m\u001b[34mSELECT\u001b[39;49;00m\u001b[37m\u001b[39;49;00m\n",
       "\u001b[37m          \u001b[39;49;00m\u001b[33m\"t3\"\u001b[39;49;00m.\u001b[33m\"category\"\u001b[39;49;00m,\u001b[37m\u001b[39;49;00m\n",
       "\u001b[37m          \u001b[39;49;00m\u001b[33m\"t4\"\u001b[39;49;00m.\u001b[33m\"year\"\u001b[39;49;00m,\u001b[37m\u001b[39;49;00m\n",
       "\u001b[37m          \u001b[39;49;00m\u001b[33m\"t6\"\u001b[39;49;00m.\u001b[33m\"mean\"\u001b[39;49;00m,\u001b[37m\u001b[39;49;00m\n",
       "\u001b[37m          \u001b[39;49;00m\u001b[33m\"t6\"\u001b[39;49;00m.\u001b[33m\"count\"\u001b[39;49;00m\u001b[37m\u001b[39;49;00m\n",
       "\u001b[37m        \u001b[39;49;00m\u001b[34mFROM\u001b[39;49;00m\u001b[37m \u001b[39;49;00m(\u001b[37m\u001b[39;49;00m\n",
       "\u001b[37m          \u001b[39;49;00m\u001b[34mSELECT\u001b[39;49;00m\u001b[37m \u001b[39;49;00m\u001b[34mDISTINCT\u001b[39;49;00m\u001b[37m\u001b[39;49;00m\n",
       "\u001b[37m            \u001b[39;49;00m\u001b[33m\"t0\"\u001b[39;49;00m.\u001b[33m\"category\"\u001b[39;49;00m\u001b[37m\u001b[39;49;00m\n",
       "\u001b[37m          \u001b[39;49;00m\u001b[34mFROM\u001b[39;49;00m\u001b[37m \u001b[39;49;00m\u001b[33m\"products\"\u001b[39;49;00m\u001b[37m \u001b[39;49;00m\u001b[34mAS\u001b[39;49;00m\u001b[37m \u001b[39;49;00m\u001b[33m\"t0\"\u001b[39;49;00m\u001b[37m\u001b[39;49;00m\n",
       "\u001b[37m        \u001b[39;49;00m)\u001b[37m \u001b[39;49;00m\u001b[34mAS\u001b[39;49;00m\u001b[37m \u001b[39;49;00m\u001b[33m\"t3\"\u001b[39;49;00m\u001b[37m\u001b[39;49;00m\n",
       "\u001b[37m        \u001b[39;49;00m\u001b[34mCROSS\u001b[39;49;00m\u001b[37m \u001b[39;49;00m\u001b[34mJOIN\u001b[39;49;00m\u001b[37m \u001b[39;49;00m(\u001b[37m\u001b[39;49;00m\n",
       "\u001b[37m          \u001b[39;49;00m\u001b[34mSELECT\u001b[39;49;00m\u001b[37m \u001b[39;49;00m\u001b[34mDISTINCT\u001b[39;49;00m\u001b[37m\u001b[39;49;00m\n",
       "\u001b[37m            \u001b[39;49;00m\u001b[33m\"t0\"\u001b[39;49;00m.\u001b[33m\"year\"\u001b[39;49;00m\u001b[37m\u001b[39;49;00m\n",
       "\u001b[37m          \u001b[39;49;00m\u001b[34mFROM\u001b[39;49;00m\u001b[37m \u001b[39;49;00m\u001b[33m\"products\"\u001b[39;49;00m\u001b[37m \u001b[39;49;00m\u001b[34mAS\u001b[39;49;00m\u001b[37m \u001b[39;49;00m\u001b[33m\"t0\"\u001b[39;49;00m\u001b[37m\u001b[39;49;00m\n",
       "\u001b[37m        \u001b[39;49;00m)\u001b[37m \u001b[39;49;00m\u001b[34mAS\u001b[39;49;00m\u001b[37m \u001b[39;49;00m\u001b[33m\"t4\"\u001b[39;49;00m\u001b[37m\u001b[39;49;00m\n",
       "\u001b[37m        \u001b[39;49;00m\u001b[34mLEFT\u001b[39;49;00m\u001b[37m \u001b[39;49;00m\u001b[34mOUTER\u001b[39;49;00m\u001b[37m \u001b[39;49;00m\u001b[34mJOIN\u001b[39;49;00m\u001b[37m \u001b[39;49;00m(\u001b[37m\u001b[39;49;00m\n",
       "\u001b[37m          \u001b[39;49;00m\u001b[34mSELECT\u001b[39;49;00m\u001b[37m\u001b[39;49;00m\n",
       "\u001b[37m            \u001b[39;49;00m\u001b[33m\"t0\"\u001b[39;49;00m.\u001b[33m\"category\"\u001b[39;49;00m,\u001b[37m\u001b[39;49;00m\n",
       "\u001b[37m            \u001b[39;49;00m\u001b[33m\"t0\"\u001b[39;49;00m.\u001b[33m\"year\"\u001b[39;49;00m,\u001b[37m\u001b[39;49;00m\n",
       "\u001b[37m            \u001b[39;49;00m\u001b[34mSUM\u001b[39;49;00m(\u001b[33m\"t0\"\u001b[39;49;00m.\u001b[33m\"footprint\"\u001b[39;49;00m\u001b[37m \u001b[39;49;00m*\u001b[37m \u001b[39;49;00m\u001b[33m\"t0\"\u001b[39;49;00m.\u001b[33m\"units\"\u001b[39;49;00m)\u001b[37m \u001b[39;49;00m/\u001b[37m \u001b[39;49;00m\u001b[34mSUM\u001b[39;49;00m(\u001b[33m\"t0\"\u001b[39;49;00m.\u001b[33m\"units\"\u001b[39;49;00m)\u001b[37m \u001b[39;49;00m\u001b[34mAS\u001b[39;49;00m\u001b[37m \u001b[39;49;00m\u001b[33m\"mean\"\u001b[39;49;00m,\u001b[37m\u001b[39;49;00m\n",
       "\u001b[37m            \u001b[39;49;00m\u001b[34mSUM\u001b[39;49;00m(\u001b[33m\"t0\"\u001b[39;49;00m.\u001b[33m\"units\"\u001b[39;49;00m)\u001b[37m \u001b[39;49;00m\u001b[34mAS\u001b[39;49;00m\u001b[37m \u001b[39;49;00m\u001b[33m\"count\"\u001b[39;49;00m\u001b[37m\u001b[39;49;00m\n",
       "\u001b[37m          \u001b[39;49;00m\u001b[34mFROM\u001b[39;49;00m\u001b[37m \u001b[39;49;00m\u001b[33m\"products\"\u001b[39;49;00m\u001b[37m \u001b[39;49;00m\u001b[34mAS\u001b[39;49;00m\u001b[37m \u001b[39;49;00m\u001b[33m\"t0\"\u001b[39;49;00m\u001b[37m\u001b[39;49;00m\n",
       "\u001b[37m          \u001b[39;49;00m\u001b[34mGROUP\u001b[39;49;00m\u001b[37m \u001b[39;49;00m\u001b[34mBY\u001b[39;49;00m\u001b[37m\u001b[39;49;00m\n",
       "\u001b[37m            \u001b[39;49;00m\u001b[34m1\u001b[39;49;00m,\u001b[37m\u001b[39;49;00m\n",
       "\u001b[37m            \u001b[39;49;00m\u001b[34m2\u001b[39;49;00m\u001b[37m\u001b[39;49;00m\n",
       "\u001b[37m        \u001b[39;49;00m)\u001b[37m \u001b[39;49;00m\u001b[34mAS\u001b[39;49;00m\u001b[37m \u001b[39;49;00m\u001b[33m\"t6\"\u001b[39;49;00m\u001b[37m\u001b[39;49;00m\n",
       "\u001b[37m          \u001b[39;49;00m\u001b[34mON\u001b[39;49;00m\u001b[37m \u001b[39;49;00m\u001b[33m\"t3\"\u001b[39;49;00m.\u001b[33m\"category\"\u001b[39;49;00m\u001b[37m \u001b[39;49;00m=\u001b[37m \u001b[39;49;00m\u001b[33m\"t6\"\u001b[39;49;00m.\u001b[33m\"category\"\u001b[39;49;00m\u001b[37m \u001b[39;49;00m\u001b[34mAND\u001b[39;49;00m\u001b[37m \u001b[39;49;00m\u001b[33m\"t4\"\u001b[39;49;00m.\u001b[33m\"year\"\u001b[39;49;00m\u001b[37m \u001b[39;49;00m=\u001b[37m \u001b[39;49;00m\u001b[33m\"t6\"\u001b[39;49;00m.\u001b[33m\"year\"\u001b[39;49;00m\u001b[37m\u001b[39;49;00m\n",
       "\u001b[37m      \u001b[39;49;00m)\u001b[37m \u001b[39;49;00m\u001b[34mAS\u001b[39;49;00m\u001b[37m \u001b[39;49;00m\u001b[33m\"t7\"\u001b[39;49;00m\u001b[37m\u001b[39;49;00m\n",
       "\u001b[37m    \u001b[39;49;00m)\u001b[37m \u001b[39;49;00m\u001b[34mAS\u001b[39;49;00m\u001b[37m \u001b[39;49;00m\u001b[33m\"t8\"\u001b[39;49;00m\u001b[37m\u001b[39;49;00m\n",
       "\u001b[37m  \u001b[39;49;00m)\u001b[37m \u001b[39;49;00m\u001b[34mAS\u001b[39;49;00m\u001b[37m \u001b[39;49;00m\u001b[33m\"t9\"\u001b[39;49;00m\u001b[37m\u001b[39;49;00m\n",
       "\u001b[37m  \u001b[39;49;00m\u001b[34mORDER\u001b[39;49;00m\u001b[37m \u001b[39;49;00m\u001b[34mBY\u001b[39;49;00m\u001b[37m\u001b[39;49;00m\n",
       "\u001b[37m    \u001b[39;49;00m\u001b[33m\"t9\"\u001b[39;49;00m.\u001b[33m\"year\"\u001b[39;49;00m\u001b[37m \u001b[39;49;00m\u001b[34mASC\u001b[39;49;00m,\u001b[37m\u001b[39;49;00m\n",
       "\u001b[37m    \u001b[39;49;00m\u001b[33m\"t9\"\u001b[39;49;00m.\u001b[33m\"category\"\u001b[39;49;00m\u001b[37m \u001b[39;49;00m\u001b[34mASC\u001b[39;49;00m\u001b[37m\u001b[39;49;00m\n",
       ")\u001b[37m \u001b[39;49;00m\u001b[34mAS\u001b[39;49;00m\u001b[37m \u001b[39;49;00m\u001b[33m\"t10\"\u001b[39;49;00m\u001b[37m\u001b[39;49;00m\n",
       "\u001b[34mWHERE\u001b[39;49;00m\u001b[37m\u001b[39;49;00m\n",
       "\u001b[37m  \u001b[39;49;00m\u001b[33m\"t10\"\u001b[39;49;00m.\u001b[33m\"year\"\u001b[39;49;00m\u001b[37m \u001b[39;49;00m\u001b[34mIS\u001b[39;49;00m\u001b[37m \u001b[39;49;00m\u001b[34mNOT\u001b[39;49;00m\u001b[37m \u001b[39;49;00m\u001b[34mNULL\u001b[39;49;00m\u001b[37m\u001b[39;49;00m\n",
       "\u001b[37m  \u001b[39;49;00m\u001b[34mAND\u001b[39;49;00m\u001b[37m \u001b[39;49;00m\u001b[33m\"t10\"\u001b[39;49;00m.\u001b[33m\"category\"\u001b[39;49;00m\u001b[37m \u001b[39;49;00m\u001b[34mIS\u001b[39;49;00m\u001b[37m \u001b[39;49;00m\u001b[34mNOT\u001b[39;49;00m\u001b[37m \u001b[39;49;00m\u001b[34mNULL\u001b[39;49;00m\u001b[37m\u001b[39;49;00m\n",
       "\u001b[37m  \u001b[39;49;00m\u001b[34mAND\u001b[39;49;00m\u001b[37m \u001b[39;49;00m\u001b[33m\"t10\"\u001b[39;49;00m.\u001b[33m\"inner\"\u001b[39;49;00m\u001b[37m \u001b[39;49;00m\u001b[34mIS\u001b[39;49;00m\u001b[37m \u001b[39;49;00m\u001b[34mNOT\u001b[39;49;00m\u001b[37m \u001b[39;49;00m\u001b[34mNULL\u001b[39;49;00m\u001b[37m\u001b[39;49;00m\n",
       "\u001b[37m  \u001b[39;49;00m\u001b[34mAND\u001b[39;49;00m\u001b[37m \u001b[39;49;00m\u001b[33m\"t10\"\u001b[39;49;00m.\u001b[33m\"mix\"\u001b[39;49;00m\u001b[37m \u001b[39;49;00m\u001b[34mIS\u001b[39;49;00m\u001b[37m \u001b[39;49;00m\u001b[34mNOT\u001b[39;49;00m\u001b[37m \u001b[39;49;00m\u001b[34mNULL\u001b[39;49;00m\u001b[37m\u001b[39;49;00m"
      ]
     },
     "execution_count": 7,
     "metadata": {},
     "output_type": "execute_result"
    }
   ],
   "source": [
    "ibis.to_sql(explanation)"
   ]
  }
 ],
 "metadata": {
  "kernelspec": {
   "display_name": "icanexplain-6HGw6v_q-py3.11",
   "language": "python",
   "name": "python3"
  },
  "language_info": {
   "codemirror_mode": {
    "name": "ipython",
    "version": 3
   },
   "file_extension": ".py",
   "mimetype": "text/x-python",
   "name": "python",
   "nbconvert_exporter": "python",
   "pygments_lexer": "ipython3",
   "version": "3.11.4"
  }
 },
 "nbformat": 4,
 "nbformat_minor": 2
}
