{
 "cells": [
  {
   "cell_type": "markdown",
   "metadata": {},
   "source": [
    "# Ratio unpacking"
   ]
  },
  {
   "cell_type": "code",
   "execution_count": 1,
   "metadata": {
    "execution": {
     "iopub.execute_input": "2024-06-01T09:32:16.040609Z",
     "iopub.status.busy": "2024-06-01T09:32:16.040037Z",
     "iopub.status.idle": "2024-06-01T09:32:16.066578Z",
     "shell.execute_reply": "2024-06-01T09:32:16.066022Z"
    }
   },
   "outputs": [],
   "source": [
    "import munpack"
   ]
  }
 ],
 "metadata": {
  "language_info": {
   "codemirror_mode": {
    "name": "ipython",
    "version": 3
   },
   "file_extension": ".py",
   "mimetype": "text/x-python",
   "name": "python",
   "nbconvert_exporter": "python",
   "pygments_lexer": "ipython3",
   "version": "3.11.4"
  }
 },
 "nbformat": 4,
 "nbformat_minor": 2
}
